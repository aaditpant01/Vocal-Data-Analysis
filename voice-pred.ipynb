{
 "cells": [
  {
   "cell_type": "code",
   "execution_count": 1,
   "metadata": {},
   "outputs": [
    {
     "name": "stderr",
     "output_type": "stream",
     "text": [
      "/home/neon/anaconda3/lib/python3.7/site-packages/sklearn/externals/joblib/__init__.py:15: DeprecationWarning: sklearn.externals.joblib is deprecated in 0.21 and will be removed in 0.23. Please import this functionality directly from joblib, which can be installed with: pip install joblib. If this warning is raised when loading pickled models, you may need to re-serialize those models with scikit-learn 0.21+.\n",
      "  warnings.warn(msg, category=DeprecationWarning)\n"
     ]
    }
   ],
   "source": [
    "import os\n",
    "import pandas as pd\n",
    "import matplotlib.pyplot as plt\n",
    "import librosa\n",
    "import librosa.display\n",
    "import glob\n",
    "import numpy as np\n",
    "from sklearn import preprocessing\n",
    "from scipy.io.wavfile import read\n",
    "from python_speech_features import mfcc\n",
    "#from python_speech_features import delta1\n",
    "import librosa\n",
    "import pandas as pd\n",
    "import numpy as np\n",
    "import matplotlib.pyplot as plt\n",
    "%matplotlib inline\n",
    "import os\n",
    "import csv\n",
    "import matplotlib as plt\n",
    "import seaborn as sns\n",
    "from sklearn import preprocessing\n",
    "from sklearn.model_selection import train_test_split\n",
    "from sklearn import svm\n",
    "from sklearn import metrics\n",
    "from sklearn.svm import SVC\n",
    "from sklearn.metrics import classification_report, confusion_matrix\n",
    "from sklearn.externals import joblib\n",
    "from sklearn.linear_model import LogisticRegression\n",
    "from sklearn.preprocessing import StandardScaler\n",
    "from sklearn.neighbors import KNeighborsClassifier\n",
    "from sklearn.naive_bayes import MultinomialNB\n",
    "from sklearn.cluster import KMeans"
   ]
  },
  {
   "cell_type": "code",
   "execution_count": 2,
   "metadata": {},
   "outputs": [
    {
     "name": "stdout",
     "output_type": "stream",
     "text": [
      "/home/neon/Workspace/Audio Analysis/common-voice\n"
     ]
    }
   ],
   "source": [
    "cd common-voice\n"
   ]
  },
  {
   "cell_type": "code",
   "execution_count": 3,
   "metadata": {},
   "outputs": [],
   "source": [
    "df1=pd.read_csv(\"data-valid-train.csv\")\n",
    "df2=pd.read_csv(\"data-valid-test.csv\")"
   ]
  },
  {
   "cell_type": "code",
   "execution_count": 8,
   "metadata": {},
   "outputs": [
    {
     "data": {
      "text/html": [
       "<div>\n",
       "<style scoped>\n",
       "    .dataframe tbody tr th:only-of-type {\n",
       "        vertical-align: middle;\n",
       "    }\n",
       "\n",
       "    .dataframe tbody tr th {\n",
       "        vertical-align: top;\n",
       "    }\n",
       "\n",
       "    .dataframe thead th {\n",
       "        text-align: right;\n",
       "    }\n",
       "</style>\n",
       "<table border=\"1\" class=\"dataframe\">\n",
       "  <thead>\n",
       "    <tr style=\"text-align: right;\">\n",
       "      <th></th>\n",
       "      <th>chroma_stft</th>\n",
       "      <th>spectral_centroid</th>\n",
       "      <th>spectral_bandwidth</th>\n",
       "      <th>rolloff</th>\n",
       "      <th>zero_crossing_rate</th>\n",
       "      <th>mfcc1</th>\n",
       "      <th>mfcc2</th>\n",
       "      <th>mfcc3</th>\n",
       "      <th>mfcc4</th>\n",
       "      <th>mfcc5</th>\n",
       "      <th>...</th>\n",
       "      <th>mfcc11</th>\n",
       "      <th>mfcc12</th>\n",
       "      <th>mfcc13</th>\n",
       "      <th>mfcc14</th>\n",
       "      <th>mfcc15</th>\n",
       "      <th>mfcc16</th>\n",
       "      <th>mfcc17</th>\n",
       "      <th>mfcc18</th>\n",
       "      <th>mfcc19</th>\n",
       "      <th>mfcc20</th>\n",
       "    </tr>\n",
       "  </thead>\n",
       "  <tbody>\n",
       "    <tr>\n",
       "      <td>count</td>\n",
       "      <td>195776.000000</td>\n",
       "      <td>195776.000000</td>\n",
       "      <td>195776.000000</td>\n",
       "      <td>195776.000000</td>\n",
       "      <td>195776.000000</td>\n",
       "      <td>195776.000000</td>\n",
       "      <td>195776.000000</td>\n",
       "      <td>195776.000000</td>\n",
       "      <td>195776.000000</td>\n",
       "      <td>195776.000000</td>\n",
       "      <td>...</td>\n",
       "      <td>195776.000000</td>\n",
       "      <td>195776.000000</td>\n",
       "      <td>195776.000000</td>\n",
       "      <td>195776.000000</td>\n",
       "      <td>195776.000000</td>\n",
       "      <td>195776.000000</td>\n",
       "      <td>195776.000000</td>\n",
       "      <td>195776.000000</td>\n",
       "      <td>195776.000000</td>\n",
       "      <td>195776.000000</td>\n",
       "    </tr>\n",
       "    <tr>\n",
       "      <td>mean</td>\n",
       "      <td>0.407046</td>\n",
       "      <td>2294.183709</td>\n",
       "      <td>2008.334548</td>\n",
       "      <td>4296.345364</td>\n",
       "      <td>0.148173</td>\n",
       "      <td>-401.055456</td>\n",
       "      <td>89.990391</td>\n",
       "      <td>-1.277950</td>\n",
       "      <td>22.768381</td>\n",
       "      <td>-0.251374</td>\n",
       "      <td>...</td>\n",
       "      <td>-6.179550</td>\n",
       "      <td>-4.635151</td>\n",
       "      <td>-4.675467</td>\n",
       "      <td>-3.706507</td>\n",
       "      <td>-2.872436</td>\n",
       "      <td>-2.947494</td>\n",
       "      <td>-5.605923</td>\n",
       "      <td>-2.289646</td>\n",
       "      <td>-4.790587</td>\n",
       "      <td>-2.493882</td>\n",
       "    </tr>\n",
       "    <tr>\n",
       "      <td>std</td>\n",
       "      <td>0.062248</td>\n",
       "      <td>579.784607</td>\n",
       "      <td>400.480919</td>\n",
       "      <td>1073.177351</td>\n",
       "      <td>0.055658</td>\n",
       "      <td>100.862104</td>\n",
       "      <td>26.349571</td>\n",
       "      <td>19.371972</td>\n",
       "      <td>14.730380</td>\n",
       "      <td>13.856240</td>\n",
       "      <td>...</td>\n",
       "      <td>6.301347</td>\n",
       "      <td>6.331435</td>\n",
       "      <td>5.548202</td>\n",
       "      <td>5.411955</td>\n",
       "      <td>4.907158</td>\n",
       "      <td>5.109526</td>\n",
       "      <td>4.138682</td>\n",
       "      <td>4.184686</td>\n",
       "      <td>3.716944</td>\n",
       "      <td>3.764876</td>\n",
       "    </tr>\n",
       "    <tr>\n",
       "      <td>min</td>\n",
       "      <td>0.000000</td>\n",
       "      <td>0.000000</td>\n",
       "      <td>0.000000</td>\n",
       "      <td>0.000000</td>\n",
       "      <td>0.000000</td>\n",
       "      <td>-1131.370972</td>\n",
       "      <td>-28.497219</td>\n",
       "      <td>-117.247604</td>\n",
       "      <td>-45.475471</td>\n",
       "      <td>-69.471802</td>\n",
       "      <td>...</td>\n",
       "      <td>-41.058414</td>\n",
       "      <td>-37.284473</td>\n",
       "      <td>-30.137043</td>\n",
       "      <td>-31.162243</td>\n",
       "      <td>-27.012537</td>\n",
       "      <td>-29.584446</td>\n",
       "      <td>-27.623632</td>\n",
       "      <td>-26.103516</td>\n",
       "      <td>-24.449429</td>\n",
       "      <td>-21.299286</td>\n",
       "    </tr>\n",
       "    <tr>\n",
       "      <td>25%</td>\n",
       "      <td>0.364688</td>\n",
       "      <td>1887.104904</td>\n",
       "      <td>1716.461418</td>\n",
       "      <td>3553.038258</td>\n",
       "      <td>0.109342</td>\n",
       "      <td>-461.707756</td>\n",
       "      <td>72.122845</td>\n",
       "      <td>-13.699518</td>\n",
       "      <td>12.984665</td>\n",
       "      <td>-9.153592</td>\n",
       "      <td>...</td>\n",
       "      <td>-10.117976</td>\n",
       "      <td>-8.828549</td>\n",
       "      <td>-8.162311</td>\n",
       "      <td>-7.283353</td>\n",
       "      <td>-5.986560</td>\n",
       "      <td>-6.257412</td>\n",
       "      <td>-8.242576</td>\n",
       "      <td>-5.003806</td>\n",
       "      <td>-7.109671</td>\n",
       "      <td>-4.917482</td>\n",
       "    </tr>\n",
       "    <tr>\n",
       "      <td>50%</td>\n",
       "      <td>0.405244</td>\n",
       "      <td>2258.606183</td>\n",
       "      <td>2012.125220</td>\n",
       "      <td>4243.716303</td>\n",
       "      <td>0.141265</td>\n",
       "      <td>-389.932648</td>\n",
       "      <td>89.801235</td>\n",
       "      <td>-0.563879</td>\n",
       "      <td>22.432654</td>\n",
       "      <td>0.340116</td>\n",
       "      <td>...</td>\n",
       "      <td>-5.926841</td>\n",
       "      <td>-4.524940</td>\n",
       "      <td>-4.493695</td>\n",
       "      <td>-3.694934</td>\n",
       "      <td>-2.763429</td>\n",
       "      <td>-2.856183</td>\n",
       "      <td>-5.508144</td>\n",
       "      <td>-2.387778</td>\n",
       "      <td>-4.623817</td>\n",
       "      <td>-2.612157</td>\n",
       "    </tr>\n",
       "    <tr>\n",
       "      <td>75%</td>\n",
       "      <td>0.447607</td>\n",
       "      <td>2653.779898</td>\n",
       "      <td>2290.821572</td>\n",
       "      <td>4973.798932</td>\n",
       "      <td>0.178367</td>\n",
       "      <td>-331.404999</td>\n",
       "      <td>107.582315</td>\n",
       "      <td>11.939372</td>\n",
       "      <td>32.274869</td>\n",
       "      <td>9.239911</td>\n",
       "      <td>...</td>\n",
       "      <td>-2.018810</td>\n",
       "      <td>-0.390074</td>\n",
       "      <td>-1.043452</td>\n",
       "      <td>-0.154340</td>\n",
       "      <td>0.308912</td>\n",
       "      <td>0.438791</td>\n",
       "      <td>-2.905440</td>\n",
       "      <td>0.290994</td>\n",
       "      <td>-2.333721</td>\n",
       "      <td>-0.248875</td>\n",
       "    </tr>\n",
       "    <tr>\n",
       "      <td>max</td>\n",
       "      <td>0.819408</td>\n",
       "      <td>6470.395897</td>\n",
       "      <td>3494.551368</td>\n",
       "      <td>9096.112061</td>\n",
       "      <td>0.853151</td>\n",
       "      <td>16.915329</td>\n",
       "      <td>223.257446</td>\n",
       "      <td>81.111816</td>\n",
       "      <td>111.122810</td>\n",
       "      <td>62.770077</td>\n",
       "      <td>...</td>\n",
       "      <td>22.051783</td>\n",
       "      <td>22.626478</td>\n",
       "      <td>20.347628</td>\n",
       "      <td>24.145899</td>\n",
       "      <td>25.840824</td>\n",
       "      <td>21.998312</td>\n",
       "      <td>15.381905</td>\n",
       "      <td>19.234234</td>\n",
       "      <td>14.244695</td>\n",
       "      <td>24.582020</td>\n",
       "    </tr>\n",
       "  </tbody>\n",
       "</table>\n",
       "<p>8 rows × 25 columns</p>\n",
       "</div>"
      ],
      "text/plain": [
       "         chroma_stft  spectral_centroid  spectral_bandwidth        rolloff  \\\n",
       "count  195776.000000      195776.000000       195776.000000  195776.000000   \n",
       "mean        0.407046        2294.183709         2008.334548    4296.345364   \n",
       "std         0.062248         579.784607          400.480919    1073.177351   \n",
       "min         0.000000           0.000000            0.000000       0.000000   \n",
       "25%         0.364688        1887.104904         1716.461418    3553.038258   \n",
       "50%         0.405244        2258.606183         2012.125220    4243.716303   \n",
       "75%         0.447607        2653.779898         2290.821572    4973.798932   \n",
       "max         0.819408        6470.395897         3494.551368    9096.112061   \n",
       "\n",
       "       zero_crossing_rate          mfcc1          mfcc2          mfcc3  \\\n",
       "count       195776.000000  195776.000000  195776.000000  195776.000000   \n",
       "mean             0.148173    -401.055456      89.990391      -1.277950   \n",
       "std              0.055658     100.862104      26.349571      19.371972   \n",
       "min              0.000000   -1131.370972     -28.497219    -117.247604   \n",
       "25%              0.109342    -461.707756      72.122845     -13.699518   \n",
       "50%              0.141265    -389.932648      89.801235      -0.563879   \n",
       "75%              0.178367    -331.404999     107.582315      11.939372   \n",
       "max              0.853151      16.915329     223.257446      81.111816   \n",
       "\n",
       "               mfcc4          mfcc5  ...         mfcc11         mfcc12  \\\n",
       "count  195776.000000  195776.000000  ...  195776.000000  195776.000000   \n",
       "mean       22.768381      -0.251374  ...      -6.179550      -4.635151   \n",
       "std        14.730380      13.856240  ...       6.301347       6.331435   \n",
       "min       -45.475471     -69.471802  ...     -41.058414     -37.284473   \n",
       "25%        12.984665      -9.153592  ...     -10.117976      -8.828549   \n",
       "50%        22.432654       0.340116  ...      -5.926841      -4.524940   \n",
       "75%        32.274869       9.239911  ...      -2.018810      -0.390074   \n",
       "max       111.122810      62.770077  ...      22.051783      22.626478   \n",
       "\n",
       "              mfcc13         mfcc14         mfcc15         mfcc16  \\\n",
       "count  195776.000000  195776.000000  195776.000000  195776.000000   \n",
       "mean       -4.675467      -3.706507      -2.872436      -2.947494   \n",
       "std         5.548202       5.411955       4.907158       5.109526   \n",
       "min       -30.137043     -31.162243     -27.012537     -29.584446   \n",
       "25%        -8.162311      -7.283353      -5.986560      -6.257412   \n",
       "50%        -4.493695      -3.694934      -2.763429      -2.856183   \n",
       "75%        -1.043452      -0.154340       0.308912       0.438791   \n",
       "max        20.347628      24.145899      25.840824      21.998312   \n",
       "\n",
       "              mfcc17         mfcc18         mfcc19         mfcc20  \n",
       "count  195776.000000  195776.000000  195776.000000  195776.000000  \n",
       "mean       -5.605923      -2.289646      -4.790587      -2.493882  \n",
       "std         4.138682       4.184686       3.716944       3.764876  \n",
       "min       -27.623632     -26.103516     -24.449429     -21.299286  \n",
       "25%        -8.242576      -5.003806      -7.109671      -4.917482  \n",
       "50%        -5.508144      -2.387778      -4.623817      -2.612157  \n",
       "75%        -2.905440       0.290994      -2.333721      -0.248875  \n",
       "max        15.381905      19.234234      14.244695      24.582020  \n",
       "\n",
       "[8 rows x 25 columns]"
      ]
     },
     "execution_count": 8,
     "metadata": {},
     "output_type": "execute_result"
    }
   ],
   "source": [
    "df1.describe()"
   ]
  },
  {
   "cell_type": "code",
   "execution_count": 4,
   "metadata": {},
   "outputs": [],
   "source": [
    "df1=df1[df1['accent']!='us']\n",
    "df1=df1[df1['accent']!='england']\n",
    "df2=df2[df2['accent']!='us']\n",
    "df2=df2[df2['accent']!='england']"
   ]
  },
  {
   "cell_type": "code",
   "execution_count": null,
   "metadata": {},
   "outputs": [],
   "source": []
  },
  {
   "cell_type": "code",
   "execution_count": 5,
   "metadata": {},
   "outputs": [],
   "source": [
    "df1.drop(columns='filename',inplace=True)\n",
    "df2.drop(columns='filename',inplace=True)"
   ]
  },
  {
   "cell_type": "code",
   "execution_count": 6,
   "metadata": {},
   "outputs": [],
   "source": [
    "df1.drop(columns='accent',inplace=True)\n",
    "df2.drop(columns='accent',inplace=True)"
   ]
  },
  {
   "cell_type": "code",
   "execution_count": 6,
   "metadata": {},
   "outputs": [],
   "source": [
    "df1.drop(columns='gender',inplace=True)\n",
    "df2.drop(columns='gender',inplace=True)"
   ]
  },
  {
   "cell_type": "code",
   "execution_count": 7,
   "metadata": {},
   "outputs": [],
   "source": [
    "df1.drop(columns='age',inplace=True)\n",
    "df2.drop(columns='age',inplace=True)"
   ]
  },
  {
   "cell_type": "code",
   "execution_count": 8,
   "metadata": {},
   "outputs": [],
   "source": [
    "df1.dropna(inplace=True)\n",
    "df2.dropna(inplace=True)"
   ]
  },
  {
   "cell_type": "code",
   "execution_count": null,
   "metadata": {},
   "outputs": [],
   "source": []
  },
  {
   "cell_type": "markdown",
   "metadata": {},
   "source": [
    "## AGE PREPROCESSING"
   ]
  },
  {
   "cell_type": "code",
   "execution_count": 44,
   "metadata": {},
   "outputs": [],
   "source": [
    "X = df1.drop('age', axis=1)\n",
    "y = df1['age']\n",
    "X_train, X_test, y_train, y_test = train_test_split(X, y, test_size=0.3, random_state=101)\n"
   ]
  },
  {
   "cell_type": "code",
   "execution_count": 45,
   "metadata": {},
   "outputs": [],
   "source": [
    "X_train = df1.drop('age', axis=1)\n",
    "y_train = df1['age']\n",
    "X_test = df2.drop('age', axis=1)\n",
    "y_test = df2['age']"
   ]
  },
  {
   "cell_type": "code",
   "execution_count": 46,
   "metadata": {},
   "outputs": [],
   "source": [
    "scaler = StandardScaler()\n",
    "scaler.fit(X_train)\n",
    "X_train = scaler.transform(X_train)\n",
    "X_test = scaler.transform(X_test)"
   ]
  },
  {
   "cell_type": "markdown",
   "metadata": {},
   "source": [
    "# SVM AGE"
   ]
  },
  {
   "cell_type": "markdown",
   "metadata": {},
   "source": [
    "#### GAMMA"
   ]
  },
  {
   "cell_type": "code",
   "execution_count": 47,
   "metadata": {},
   "outputs": [
    {
     "name": "stderr",
     "output_type": "stream",
     "text": [
      "/home/arnav/anaconda3/lib/python3.7/site-packages/sklearn/model_selection/_split.py:2053: FutureWarning: You should specify a value for 'cv' instead of relying on the default value. The default value will change from 3 to 5 in version 0.22.\n",
      "  warnings.warn(CV_WARNING, FutureWarning)\n",
      "[Parallel(n_jobs=1)]: Using backend SequentialBackend with 1 concurrent workers.\n"
     ]
    },
    {
     "name": "stdout",
     "output_type": "stream",
     "text": [
      "Fitting 3 folds for each of 25 candidates, totalling 75 fits\n",
      "[CV] C=0.1, gamma=1, kernel=rbf ......................................\n",
      "[CV]  C=0.1, gamma=1, kernel=rbf, score=0.36068464730290456, total= 1.7min\n",
      "[CV] C=0.1, gamma=1, kernel=rbf ......................................\n"
     ]
    },
    {
     "name": "stderr",
     "output_type": "stream",
     "text": [
      "[Parallel(n_jobs=1)]: Done   1 out of   1 | elapsed:  2.1min remaining:    0.0s\n"
     ]
    },
    {
     "name": "stdout",
     "output_type": "stream",
     "text": [
      "[CV]  C=0.1, gamma=1, kernel=rbf, score=0.3607969285047214, total= 1.7min\n",
      "[CV] C=0.1, gamma=1, kernel=rbf ......................................\n"
     ]
    },
    {
     "name": "stderr",
     "output_type": "stream",
     "text": [
      "[Parallel(n_jobs=1)]: Done   2 out of   2 | elapsed:  4.2min remaining:    0.0s\n"
     ]
    },
    {
     "name": "stdout",
     "output_type": "stream",
     "text": [
      "[CV]  C=0.1, gamma=1, kernel=rbf, score=0.36084293574172116, total= 1.7min\n",
      "[CV] C=0.1, gamma=0.1, kernel=rbf ....................................\n",
      "[CV]  C=0.1, gamma=0.1, kernel=rbf, score=0.6488589211618258, total=  46.9s\n",
      "[CV] C=0.1, gamma=0.1, kernel=rbf ....................................\n",
      "[CV]  C=0.1, gamma=0.1, kernel=rbf, score=0.6427311403963889, total=  46.8s\n",
      "[CV] C=0.1, gamma=0.1, kernel=rbf ....................................\n",
      "[CV]  C=0.1, gamma=0.1, kernel=rbf, score=0.6516142427073601, total=  46.9s\n",
      "[CV] C=0.1, gamma=0.01, kernel=rbf ...................................\n",
      "[CV]  C=0.1, gamma=0.01, kernel=rbf, score=0.42489626556016596, total=  48.9s\n",
      "[CV] C=0.1, gamma=0.01, kernel=rbf ...................................\n",
      "[CV]  C=0.1, gamma=0.01, kernel=rbf, score=0.42855660475251633, total=  48.7s\n",
      "[CV] C=0.1, gamma=0.01, kernel=rbf ...................................\n",
      "[CV]  C=0.1, gamma=0.01, kernel=rbf, score=0.4282155091871691, total=  48.8s\n",
      "[CV] C=0.1, gamma=0.001, kernel=rbf ..................................\n",
      "[CV]  C=0.1, gamma=0.001, kernel=rbf, score=0.36068464730290456, total=  49.2s\n",
      "[CV] C=0.1, gamma=0.001, kernel=rbf ..................................\n",
      "[CV]  C=0.1, gamma=0.001, kernel=rbf, score=0.3607969285047214, total=  49.3s\n",
      "[CV] C=0.1, gamma=0.001, kernel=rbf ..................................\n",
      "[CV]  C=0.1, gamma=0.001, kernel=rbf, score=0.36084293574172116, total=  49.5s\n",
      "[CV] C=0.1, gamma=0.0001, kernel=rbf .................................\n",
      "[CV]  C=0.1, gamma=0.0001, kernel=rbf, score=0.36068464730290456, total=  47.4s\n",
      "[CV] C=0.1, gamma=0.0001, kernel=rbf .................................\n",
      "[CV]  C=0.1, gamma=0.0001, kernel=rbf, score=0.3607969285047214, total=  48.0s\n",
      "[CV] C=0.1, gamma=0.0001, kernel=rbf .................................\n",
      "[CV]  C=0.1, gamma=0.0001, kernel=rbf, score=0.36084293574172116, total=  47.3s\n",
      "[CV] C=1, gamma=1, kernel=rbf ........................................\n",
      "[CV]  C=1, gamma=1, kernel=rbf, score=0.41514522821576766, total= 2.0min\n",
      "[CV] C=1, gamma=1, kernel=rbf ........................................\n",
      "[CV]  C=1, gamma=1, kernel=rbf, score=0.41683096399294384, total= 2.0min\n",
      "[CV] C=1, gamma=1, kernel=rbf ........................................\n",
      "[CV]  C=1, gamma=1, kernel=rbf, score=0.41482404235440673, total= 2.0min\n",
      "[CV] C=1, gamma=0.1, kernel=rbf ......................................\n",
      "[CV]  C=1, gamma=0.1, kernel=rbf, score=0.8923236514522822, total=  36.6s\n",
      "[CV] C=1, gamma=0.1, kernel=rbf ......................................\n",
      "[CV]  C=1, gamma=0.1, kernel=rbf, score=0.8915637646570509, total=  36.5s\n",
      "[CV] C=1, gamma=0.1, kernel=rbf ......................................\n",
      "[CV]  C=1, gamma=0.1, kernel=rbf, score=0.8984739956399875, total=  36.7s\n",
      "[CV] C=1, gamma=0.01, kernel=rbf .....................................\n",
      "[CV]  C=1, gamma=0.01, kernel=rbf, score=0.6107883817427386, total=  41.6s\n",
      "[CV] C=1, gamma=0.01, kernel=rbf .....................................\n",
      "[CV]  C=1, gamma=0.01, kernel=rbf, score=0.6039223824841756, total=  41.2s\n",
      "[CV] C=1, gamma=0.01, kernel=rbf .....................................\n",
      "[CV]  C=1, gamma=0.01, kernel=rbf, score=0.6111284127478459, total=  41.3s\n",
      "[CV] C=1, gamma=0.001, kernel=rbf ....................................\n",
      "[CV]  C=1, gamma=0.001, kernel=rbf, score=0.39139004149377593, total=  48.2s\n",
      "[CV] C=1, gamma=0.001, kernel=rbf ....................................\n",
      "[CV]  C=1, gamma=0.001, kernel=rbf, score=0.38871017951644704, total=  48.0s\n",
      "[CV] C=1, gamma=0.001, kernel=rbf ....................................\n",
      "[CV]  C=1, gamma=0.001, kernel=rbf, score=0.39105159348074325, total=  48.7s\n",
      "[CV] C=1, gamma=0.0001, kernel=rbf ...................................\n",
      "[CV]  C=1, gamma=0.0001, kernel=rbf, score=0.36068464730290456, total=  49.0s\n",
      "[CV] C=1, gamma=0.0001, kernel=rbf ...................................\n",
      "[CV]  C=1, gamma=0.0001, kernel=rbf, score=0.3607969285047214, total=  49.1s\n",
      "[CV] C=1, gamma=0.0001, kernel=rbf ...................................\n",
      "[CV]  C=1, gamma=0.0001, kernel=rbf, score=0.36084293574172116, total=  49.0s\n",
      "[CV] C=10, gamma=1, kernel=rbf .......................................\n",
      "[CV]  C=10, gamma=1, kernel=rbf, score=0.44273858921161824, total= 2.6min\n",
      "[CV] C=10, gamma=1, kernel=rbf .......................................\n",
      "[CV]  C=10, gamma=1, kernel=rbf, score=0.4418387464978728, total= 2.6min\n",
      "[CV] C=10, gamma=1, kernel=rbf .......................................\n",
      "[CV]  C=10, gamma=1, kernel=rbf, score=0.4446174608117928, total= 2.6min\n",
      "[CV] C=10, gamma=0.1, kernel=rbf .....................................\n"
     ]
    },
    {
     "ename": "KeyboardInterrupt",
     "evalue": "",
     "output_type": "error",
     "traceback": [
      "\u001b[0;31m---------------------------------------------------------------------------\u001b[0m",
      "\u001b[0;31mKeyboardInterrupt\u001b[0m                         Traceback (most recent call last)",
      "\u001b[0;32m<ipython-input-47-d554ef4e7e76>\u001b[0m in \u001b[0;36m<module>\u001b[0;34m\u001b[0m\n\u001b[1;32m      3\u001b[0m \u001b[0mgrid\u001b[0m \u001b[0;34m=\u001b[0m \u001b[0mGridSearchCV\u001b[0m\u001b[0;34m(\u001b[0m\u001b[0mSVC\u001b[0m\u001b[0;34m(\u001b[0m\u001b[0;34m)\u001b[0m\u001b[0;34m,\u001b[0m\u001b[0mparam_grid\u001b[0m\u001b[0;34m,\u001b[0m\u001b[0mrefit\u001b[0m\u001b[0;34m=\u001b[0m\u001b[0;32mTrue\u001b[0m\u001b[0;34m,\u001b[0m\u001b[0mverbose\u001b[0m\u001b[0;34m=\u001b[0m\u001b[0;36m3\u001b[0m\u001b[0;34m)\u001b[0m\u001b[0;34m\u001b[0m\u001b[0;34m\u001b[0m\u001b[0m\n\u001b[1;32m      4\u001b[0m \u001b[0;31m# May take awhile!\u001b[0m\u001b[0;34m\u001b[0m\u001b[0;34m\u001b[0m\u001b[0;34m\u001b[0m\u001b[0m\n\u001b[0;32m----> 5\u001b[0;31m \u001b[0mgrid\u001b[0m\u001b[0;34m.\u001b[0m\u001b[0mfit\u001b[0m\u001b[0;34m(\u001b[0m\u001b[0mX_train\u001b[0m\u001b[0;34m,\u001b[0m\u001b[0my_train\u001b[0m\u001b[0;34m)\u001b[0m\u001b[0;34m\u001b[0m\u001b[0;34m\u001b[0m\u001b[0m\n\u001b[0m\u001b[1;32m      6\u001b[0m \u001b[0;34m\u001b[0m\u001b[0m\n\u001b[1;32m      7\u001b[0m \u001b[0mgrid\u001b[0m\u001b[0;34m.\u001b[0m\u001b[0mbest_estimator_\u001b[0m\u001b[0;34m\u001b[0m\u001b[0;34m\u001b[0m\u001b[0m\n",
      "\u001b[0;32m~/anaconda3/lib/python3.7/site-packages/sklearn/model_selection/_search.py\u001b[0m in \u001b[0;36mfit\u001b[0;34m(self, X, y, groups, **fit_params)\u001b[0m\n\u001b[1;32m    720\u001b[0m                 \u001b[0;32mreturn\u001b[0m \u001b[0mresults_container\u001b[0m\u001b[0;34m[\u001b[0m\u001b[0;36m0\u001b[0m\u001b[0;34m]\u001b[0m\u001b[0;34m\u001b[0m\u001b[0;34m\u001b[0m\u001b[0m\n\u001b[1;32m    721\u001b[0m \u001b[0;34m\u001b[0m\u001b[0m\n\u001b[0;32m--> 722\u001b[0;31m             \u001b[0mself\u001b[0m\u001b[0;34m.\u001b[0m\u001b[0m_run_search\u001b[0m\u001b[0;34m(\u001b[0m\u001b[0mevaluate_candidates\u001b[0m\u001b[0;34m)\u001b[0m\u001b[0;34m\u001b[0m\u001b[0;34m\u001b[0m\u001b[0m\n\u001b[0m\u001b[1;32m    723\u001b[0m \u001b[0;34m\u001b[0m\u001b[0m\n\u001b[1;32m    724\u001b[0m         \u001b[0mresults\u001b[0m \u001b[0;34m=\u001b[0m \u001b[0mresults_container\u001b[0m\u001b[0;34m[\u001b[0m\u001b[0;36m0\u001b[0m\u001b[0;34m]\u001b[0m\u001b[0;34m\u001b[0m\u001b[0;34m\u001b[0m\u001b[0m\n",
      "\u001b[0;32m~/anaconda3/lib/python3.7/site-packages/sklearn/model_selection/_search.py\u001b[0m in \u001b[0;36m_run_search\u001b[0;34m(self, evaluate_candidates)\u001b[0m\n\u001b[1;32m   1189\u001b[0m     \u001b[0;32mdef\u001b[0m \u001b[0m_run_search\u001b[0m\u001b[0;34m(\u001b[0m\u001b[0mself\u001b[0m\u001b[0;34m,\u001b[0m \u001b[0mevaluate_candidates\u001b[0m\u001b[0;34m)\u001b[0m\u001b[0;34m:\u001b[0m\u001b[0;34m\u001b[0m\u001b[0;34m\u001b[0m\u001b[0m\n\u001b[1;32m   1190\u001b[0m         \u001b[0;34m\"\"\"Search all candidates in param_grid\"\"\"\u001b[0m\u001b[0;34m\u001b[0m\u001b[0;34m\u001b[0m\u001b[0m\n\u001b[0;32m-> 1191\u001b[0;31m         \u001b[0mevaluate_candidates\u001b[0m\u001b[0;34m(\u001b[0m\u001b[0mParameterGrid\u001b[0m\u001b[0;34m(\u001b[0m\u001b[0mself\u001b[0m\u001b[0;34m.\u001b[0m\u001b[0mparam_grid\u001b[0m\u001b[0;34m)\u001b[0m\u001b[0;34m)\u001b[0m\u001b[0;34m\u001b[0m\u001b[0;34m\u001b[0m\u001b[0m\n\u001b[0m\u001b[1;32m   1192\u001b[0m \u001b[0;34m\u001b[0m\u001b[0m\n\u001b[1;32m   1193\u001b[0m \u001b[0;34m\u001b[0m\u001b[0m\n",
      "\u001b[0;32m~/anaconda3/lib/python3.7/site-packages/sklearn/model_selection/_search.py\u001b[0m in \u001b[0;36mevaluate_candidates\u001b[0;34m(candidate_params)\u001b[0m\n\u001b[1;32m    709\u001b[0m                                \u001b[0;32mfor\u001b[0m \u001b[0mparameters\u001b[0m\u001b[0;34m,\u001b[0m \u001b[0;34m(\u001b[0m\u001b[0mtrain\u001b[0m\u001b[0;34m,\u001b[0m \u001b[0mtest\u001b[0m\u001b[0;34m)\u001b[0m\u001b[0;34m\u001b[0m\u001b[0;34m\u001b[0m\u001b[0m\n\u001b[1;32m    710\u001b[0m                                in product(candidate_params,\n\u001b[0;32m--> 711\u001b[0;31m                                           cv.split(X, y, groups)))\n\u001b[0m\u001b[1;32m    712\u001b[0m \u001b[0;34m\u001b[0m\u001b[0m\n\u001b[1;32m    713\u001b[0m                 \u001b[0mall_candidate_params\u001b[0m\u001b[0;34m.\u001b[0m\u001b[0mextend\u001b[0m\u001b[0;34m(\u001b[0m\u001b[0mcandidate_params\u001b[0m\u001b[0;34m)\u001b[0m\u001b[0;34m\u001b[0m\u001b[0;34m\u001b[0m\u001b[0m\n",
      "\u001b[0;32m~/anaconda3/lib/python3.7/site-packages/sklearn/externals/joblib/parallel.py\u001b[0m in \u001b[0;36m__call__\u001b[0;34m(self, iterable)\u001b[0m\n\u001b[1;32m    918\u001b[0m                 \u001b[0mself\u001b[0m\u001b[0;34m.\u001b[0m\u001b[0m_iterating\u001b[0m \u001b[0;34m=\u001b[0m \u001b[0mself\u001b[0m\u001b[0;34m.\u001b[0m\u001b[0m_original_iterator\u001b[0m \u001b[0;32mis\u001b[0m \u001b[0;32mnot\u001b[0m \u001b[0;32mNone\u001b[0m\u001b[0;34m\u001b[0m\u001b[0;34m\u001b[0m\u001b[0m\n\u001b[1;32m    919\u001b[0m \u001b[0;34m\u001b[0m\u001b[0m\n\u001b[0;32m--> 920\u001b[0;31m             \u001b[0;32mwhile\u001b[0m \u001b[0mself\u001b[0m\u001b[0;34m.\u001b[0m\u001b[0mdispatch_one_batch\u001b[0m\u001b[0;34m(\u001b[0m\u001b[0miterator\u001b[0m\u001b[0;34m)\u001b[0m\u001b[0;34m:\u001b[0m\u001b[0;34m\u001b[0m\u001b[0;34m\u001b[0m\u001b[0m\n\u001b[0m\u001b[1;32m    921\u001b[0m                 \u001b[0;32mpass\u001b[0m\u001b[0;34m\u001b[0m\u001b[0;34m\u001b[0m\u001b[0m\n\u001b[1;32m    922\u001b[0m \u001b[0;34m\u001b[0m\u001b[0m\n",
      "\u001b[0;32m~/anaconda3/lib/python3.7/site-packages/sklearn/externals/joblib/parallel.py\u001b[0m in \u001b[0;36mdispatch_one_batch\u001b[0;34m(self, iterator)\u001b[0m\n\u001b[1;32m    757\u001b[0m                 \u001b[0;32mreturn\u001b[0m \u001b[0;32mFalse\u001b[0m\u001b[0;34m\u001b[0m\u001b[0;34m\u001b[0m\u001b[0m\n\u001b[1;32m    758\u001b[0m             \u001b[0;32melse\u001b[0m\u001b[0;34m:\u001b[0m\u001b[0;34m\u001b[0m\u001b[0;34m\u001b[0m\u001b[0m\n\u001b[0;32m--> 759\u001b[0;31m                 \u001b[0mself\u001b[0m\u001b[0;34m.\u001b[0m\u001b[0m_dispatch\u001b[0m\u001b[0;34m(\u001b[0m\u001b[0mtasks\u001b[0m\u001b[0;34m)\u001b[0m\u001b[0;34m\u001b[0m\u001b[0;34m\u001b[0m\u001b[0m\n\u001b[0m\u001b[1;32m    760\u001b[0m                 \u001b[0;32mreturn\u001b[0m \u001b[0;32mTrue\u001b[0m\u001b[0;34m\u001b[0m\u001b[0;34m\u001b[0m\u001b[0m\n\u001b[1;32m    761\u001b[0m \u001b[0;34m\u001b[0m\u001b[0m\n",
      "\u001b[0;32m~/anaconda3/lib/python3.7/site-packages/sklearn/externals/joblib/parallel.py\u001b[0m in \u001b[0;36m_dispatch\u001b[0;34m(self, batch)\u001b[0m\n\u001b[1;32m    714\u001b[0m         \u001b[0;32mwith\u001b[0m \u001b[0mself\u001b[0m\u001b[0;34m.\u001b[0m\u001b[0m_lock\u001b[0m\u001b[0;34m:\u001b[0m\u001b[0;34m\u001b[0m\u001b[0;34m\u001b[0m\u001b[0m\n\u001b[1;32m    715\u001b[0m             \u001b[0mjob_idx\u001b[0m \u001b[0;34m=\u001b[0m \u001b[0mlen\u001b[0m\u001b[0;34m(\u001b[0m\u001b[0mself\u001b[0m\u001b[0;34m.\u001b[0m\u001b[0m_jobs\u001b[0m\u001b[0;34m)\u001b[0m\u001b[0;34m\u001b[0m\u001b[0;34m\u001b[0m\u001b[0m\n\u001b[0;32m--> 716\u001b[0;31m             \u001b[0mjob\u001b[0m \u001b[0;34m=\u001b[0m \u001b[0mself\u001b[0m\u001b[0;34m.\u001b[0m\u001b[0m_backend\u001b[0m\u001b[0;34m.\u001b[0m\u001b[0mapply_async\u001b[0m\u001b[0;34m(\u001b[0m\u001b[0mbatch\u001b[0m\u001b[0;34m,\u001b[0m \u001b[0mcallback\u001b[0m\u001b[0;34m=\u001b[0m\u001b[0mcb\u001b[0m\u001b[0;34m)\u001b[0m\u001b[0;34m\u001b[0m\u001b[0;34m\u001b[0m\u001b[0m\n\u001b[0m\u001b[1;32m    717\u001b[0m             \u001b[0;31m# A job can complete so quickly than its callback is\u001b[0m\u001b[0;34m\u001b[0m\u001b[0;34m\u001b[0m\u001b[0;34m\u001b[0m\u001b[0m\n\u001b[1;32m    718\u001b[0m             \u001b[0;31m# called before we get here, causing self._jobs to\u001b[0m\u001b[0;34m\u001b[0m\u001b[0;34m\u001b[0m\u001b[0;34m\u001b[0m\u001b[0m\n",
      "\u001b[0;32m~/anaconda3/lib/python3.7/site-packages/sklearn/externals/joblib/_parallel_backends.py\u001b[0m in \u001b[0;36mapply_async\u001b[0;34m(self, func, callback)\u001b[0m\n\u001b[1;32m    180\u001b[0m     \u001b[0;32mdef\u001b[0m \u001b[0mapply_async\u001b[0m\u001b[0;34m(\u001b[0m\u001b[0mself\u001b[0m\u001b[0;34m,\u001b[0m \u001b[0mfunc\u001b[0m\u001b[0;34m,\u001b[0m \u001b[0mcallback\u001b[0m\u001b[0;34m=\u001b[0m\u001b[0;32mNone\u001b[0m\u001b[0;34m)\u001b[0m\u001b[0;34m:\u001b[0m\u001b[0;34m\u001b[0m\u001b[0;34m\u001b[0m\u001b[0m\n\u001b[1;32m    181\u001b[0m         \u001b[0;34m\"\"\"Schedule a func to be run\"\"\"\u001b[0m\u001b[0;34m\u001b[0m\u001b[0;34m\u001b[0m\u001b[0m\n\u001b[0;32m--> 182\u001b[0;31m         \u001b[0mresult\u001b[0m \u001b[0;34m=\u001b[0m \u001b[0mImmediateResult\u001b[0m\u001b[0;34m(\u001b[0m\u001b[0mfunc\u001b[0m\u001b[0;34m)\u001b[0m\u001b[0;34m\u001b[0m\u001b[0;34m\u001b[0m\u001b[0m\n\u001b[0m\u001b[1;32m    183\u001b[0m         \u001b[0;32mif\u001b[0m \u001b[0mcallback\u001b[0m\u001b[0;34m:\u001b[0m\u001b[0;34m\u001b[0m\u001b[0;34m\u001b[0m\u001b[0m\n\u001b[1;32m    184\u001b[0m             \u001b[0mcallback\u001b[0m\u001b[0;34m(\u001b[0m\u001b[0mresult\u001b[0m\u001b[0;34m)\u001b[0m\u001b[0;34m\u001b[0m\u001b[0;34m\u001b[0m\u001b[0m\n",
      "\u001b[0;32m~/anaconda3/lib/python3.7/site-packages/sklearn/externals/joblib/_parallel_backends.py\u001b[0m in \u001b[0;36m__init__\u001b[0;34m(self, batch)\u001b[0m\n\u001b[1;32m    547\u001b[0m         \u001b[0;31m# Don't delay the application, to avoid keeping the input\u001b[0m\u001b[0;34m\u001b[0m\u001b[0;34m\u001b[0m\u001b[0;34m\u001b[0m\u001b[0m\n\u001b[1;32m    548\u001b[0m         \u001b[0;31m# arguments in memory\u001b[0m\u001b[0;34m\u001b[0m\u001b[0;34m\u001b[0m\u001b[0;34m\u001b[0m\u001b[0m\n\u001b[0;32m--> 549\u001b[0;31m         \u001b[0mself\u001b[0m\u001b[0;34m.\u001b[0m\u001b[0mresults\u001b[0m \u001b[0;34m=\u001b[0m \u001b[0mbatch\u001b[0m\u001b[0;34m(\u001b[0m\u001b[0;34m)\u001b[0m\u001b[0;34m\u001b[0m\u001b[0;34m\u001b[0m\u001b[0m\n\u001b[0m\u001b[1;32m    550\u001b[0m \u001b[0;34m\u001b[0m\u001b[0m\n\u001b[1;32m    551\u001b[0m     \u001b[0;32mdef\u001b[0m \u001b[0mget\u001b[0m\u001b[0;34m(\u001b[0m\u001b[0mself\u001b[0m\u001b[0;34m)\u001b[0m\u001b[0;34m:\u001b[0m\u001b[0;34m\u001b[0m\u001b[0;34m\u001b[0m\u001b[0m\n",
      "\u001b[0;32m~/anaconda3/lib/python3.7/site-packages/sklearn/externals/joblib/parallel.py\u001b[0m in \u001b[0;36m__call__\u001b[0;34m(self)\u001b[0m\n\u001b[1;32m    223\u001b[0m         \u001b[0;32mwith\u001b[0m \u001b[0mparallel_backend\u001b[0m\u001b[0;34m(\u001b[0m\u001b[0mself\u001b[0m\u001b[0;34m.\u001b[0m\u001b[0m_backend\u001b[0m\u001b[0;34m,\u001b[0m \u001b[0mn_jobs\u001b[0m\u001b[0;34m=\u001b[0m\u001b[0mself\u001b[0m\u001b[0;34m.\u001b[0m\u001b[0m_n_jobs\u001b[0m\u001b[0;34m)\u001b[0m\u001b[0;34m:\u001b[0m\u001b[0;34m\u001b[0m\u001b[0;34m\u001b[0m\u001b[0m\n\u001b[1;32m    224\u001b[0m             return [func(*args, **kwargs)\n\u001b[0;32m--> 225\u001b[0;31m                     for func, args, kwargs in self.items]\n\u001b[0m\u001b[1;32m    226\u001b[0m \u001b[0;34m\u001b[0m\u001b[0m\n\u001b[1;32m    227\u001b[0m     \u001b[0;32mdef\u001b[0m \u001b[0m__len__\u001b[0m\u001b[0;34m(\u001b[0m\u001b[0mself\u001b[0m\u001b[0;34m)\u001b[0m\u001b[0;34m:\u001b[0m\u001b[0;34m\u001b[0m\u001b[0;34m\u001b[0m\u001b[0m\n",
      "\u001b[0;32m~/anaconda3/lib/python3.7/site-packages/sklearn/externals/joblib/parallel.py\u001b[0m in \u001b[0;36m<listcomp>\u001b[0;34m(.0)\u001b[0m\n\u001b[1;32m    223\u001b[0m         \u001b[0;32mwith\u001b[0m \u001b[0mparallel_backend\u001b[0m\u001b[0;34m(\u001b[0m\u001b[0mself\u001b[0m\u001b[0;34m.\u001b[0m\u001b[0m_backend\u001b[0m\u001b[0;34m,\u001b[0m \u001b[0mn_jobs\u001b[0m\u001b[0;34m=\u001b[0m\u001b[0mself\u001b[0m\u001b[0;34m.\u001b[0m\u001b[0m_n_jobs\u001b[0m\u001b[0;34m)\u001b[0m\u001b[0;34m:\u001b[0m\u001b[0;34m\u001b[0m\u001b[0;34m\u001b[0m\u001b[0m\n\u001b[1;32m    224\u001b[0m             return [func(*args, **kwargs)\n\u001b[0;32m--> 225\u001b[0;31m                     for func, args, kwargs in self.items]\n\u001b[0m\u001b[1;32m    226\u001b[0m \u001b[0;34m\u001b[0m\u001b[0m\n\u001b[1;32m    227\u001b[0m     \u001b[0;32mdef\u001b[0m \u001b[0m__len__\u001b[0m\u001b[0;34m(\u001b[0m\u001b[0mself\u001b[0m\u001b[0;34m)\u001b[0m\u001b[0;34m:\u001b[0m\u001b[0;34m\u001b[0m\u001b[0;34m\u001b[0m\u001b[0m\n",
      "\u001b[0;32m~/anaconda3/lib/python3.7/site-packages/sklearn/model_selection/_validation.py\u001b[0m in \u001b[0;36m_fit_and_score\u001b[0;34m(estimator, X, y, scorer, train, test, verbose, parameters, fit_params, return_train_score, return_parameters, return_n_test_samples, return_times, return_estimator, error_score)\u001b[0m\n\u001b[1;32m    526\u001b[0m             \u001b[0mestimator\u001b[0m\u001b[0;34m.\u001b[0m\u001b[0mfit\u001b[0m\u001b[0;34m(\u001b[0m\u001b[0mX_train\u001b[0m\u001b[0;34m,\u001b[0m \u001b[0;34m**\u001b[0m\u001b[0mfit_params\u001b[0m\u001b[0;34m)\u001b[0m\u001b[0;34m\u001b[0m\u001b[0;34m\u001b[0m\u001b[0m\n\u001b[1;32m    527\u001b[0m         \u001b[0;32melse\u001b[0m\u001b[0;34m:\u001b[0m\u001b[0;34m\u001b[0m\u001b[0;34m\u001b[0m\u001b[0m\n\u001b[0;32m--> 528\u001b[0;31m             \u001b[0mestimator\u001b[0m\u001b[0;34m.\u001b[0m\u001b[0mfit\u001b[0m\u001b[0;34m(\u001b[0m\u001b[0mX_train\u001b[0m\u001b[0;34m,\u001b[0m \u001b[0my_train\u001b[0m\u001b[0;34m,\u001b[0m \u001b[0;34m**\u001b[0m\u001b[0mfit_params\u001b[0m\u001b[0;34m)\u001b[0m\u001b[0;34m\u001b[0m\u001b[0;34m\u001b[0m\u001b[0m\n\u001b[0m\u001b[1;32m    529\u001b[0m \u001b[0;34m\u001b[0m\u001b[0m\n\u001b[1;32m    530\u001b[0m     \u001b[0;32mexcept\u001b[0m \u001b[0mException\u001b[0m \u001b[0;32mas\u001b[0m \u001b[0me\u001b[0m\u001b[0;34m:\u001b[0m\u001b[0;34m\u001b[0m\u001b[0;34m\u001b[0m\u001b[0m\n",
      "\u001b[0;32m~/anaconda3/lib/python3.7/site-packages/sklearn/svm/base.py\u001b[0m in \u001b[0;36mfit\u001b[0;34m(self, X, y, sample_weight)\u001b[0m\n\u001b[1;32m    210\u001b[0m \u001b[0;34m\u001b[0m\u001b[0m\n\u001b[1;32m    211\u001b[0m         \u001b[0mseed\u001b[0m \u001b[0;34m=\u001b[0m \u001b[0mrnd\u001b[0m\u001b[0;34m.\u001b[0m\u001b[0mrandint\u001b[0m\u001b[0;34m(\u001b[0m\u001b[0mnp\u001b[0m\u001b[0;34m.\u001b[0m\u001b[0miinfo\u001b[0m\u001b[0;34m(\u001b[0m\u001b[0;34m'i'\u001b[0m\u001b[0;34m)\u001b[0m\u001b[0;34m.\u001b[0m\u001b[0mmax\u001b[0m\u001b[0;34m)\u001b[0m\u001b[0;34m\u001b[0m\u001b[0;34m\u001b[0m\u001b[0m\n\u001b[0;32m--> 212\u001b[0;31m         \u001b[0mfit\u001b[0m\u001b[0;34m(\u001b[0m\u001b[0mX\u001b[0m\u001b[0;34m,\u001b[0m \u001b[0my\u001b[0m\u001b[0;34m,\u001b[0m \u001b[0msample_weight\u001b[0m\u001b[0;34m,\u001b[0m \u001b[0msolver_type\u001b[0m\u001b[0;34m,\u001b[0m \u001b[0mkernel\u001b[0m\u001b[0;34m,\u001b[0m \u001b[0mrandom_seed\u001b[0m\u001b[0;34m=\u001b[0m\u001b[0mseed\u001b[0m\u001b[0;34m)\u001b[0m\u001b[0;34m\u001b[0m\u001b[0;34m\u001b[0m\u001b[0m\n\u001b[0m\u001b[1;32m    213\u001b[0m         \u001b[0;31m# see comment on the other call to np.iinfo in this file\u001b[0m\u001b[0;34m\u001b[0m\u001b[0;34m\u001b[0m\u001b[0;34m\u001b[0m\u001b[0m\n\u001b[1;32m    214\u001b[0m \u001b[0;34m\u001b[0m\u001b[0m\n",
      "\u001b[0;32m~/anaconda3/lib/python3.7/site-packages/sklearn/svm/base.py\u001b[0m in \u001b[0;36m_dense_fit\u001b[0;34m(self, X, y, sample_weight, solver_type, kernel, random_seed)\u001b[0m\n\u001b[1;32m    269\u001b[0m                 \u001b[0mcache_size\u001b[0m\u001b[0;34m=\u001b[0m\u001b[0mself\u001b[0m\u001b[0;34m.\u001b[0m\u001b[0mcache_size\u001b[0m\u001b[0;34m,\u001b[0m \u001b[0mcoef0\u001b[0m\u001b[0;34m=\u001b[0m\u001b[0mself\u001b[0m\u001b[0;34m.\u001b[0m\u001b[0mcoef0\u001b[0m\u001b[0;34m,\u001b[0m\u001b[0;34m\u001b[0m\u001b[0;34m\u001b[0m\u001b[0m\n\u001b[1;32m    270\u001b[0m                 \u001b[0mgamma\u001b[0m\u001b[0;34m=\u001b[0m\u001b[0mself\u001b[0m\u001b[0;34m.\u001b[0m\u001b[0m_gamma\u001b[0m\u001b[0;34m,\u001b[0m \u001b[0mepsilon\u001b[0m\u001b[0;34m=\u001b[0m\u001b[0mself\u001b[0m\u001b[0;34m.\u001b[0m\u001b[0mepsilon\u001b[0m\u001b[0;34m,\u001b[0m\u001b[0;34m\u001b[0m\u001b[0;34m\u001b[0m\u001b[0m\n\u001b[0;32m--> 271\u001b[0;31m                 max_iter=self.max_iter, random_seed=random_seed)\n\u001b[0m\u001b[1;32m    272\u001b[0m \u001b[0;34m\u001b[0m\u001b[0m\n\u001b[1;32m    273\u001b[0m         \u001b[0mself\u001b[0m\u001b[0;34m.\u001b[0m\u001b[0m_warn_from_fit_status\u001b[0m\u001b[0;34m(\u001b[0m\u001b[0;34m)\u001b[0m\u001b[0;34m\u001b[0m\u001b[0;34m\u001b[0m\u001b[0m\n",
      "\u001b[0;31mKeyboardInterrupt\u001b[0m: "
     ]
    }
   ],
   "source": [
    "param_grid = {'C': [0.1,1, 10, 100, 1000], 'gamma': [1,0.1,0.01,0.001,0.0001], 'kernel': ['rbf','poly','linear','sigmoid']} \n",
    "from sklearn.model_selection import GridSearchCV\n",
    "grid = GridSearchCV(SVC(),param_grid,refit=True,verbose=3)\n",
    "# May take awhile!\n",
    "grid.fit(X_train,y_train)\n",
    "\n",
    "grid.best_estimator_\n",
    "grid_predictions = grid.predict(X_test)"
   ]
  },
  {
   "cell_type": "markdown",
   "metadata": {},
   "source": [
    "#### TEST"
   ]
  },
  {
   "cell_type": "code",
   "execution_count": 48,
   "metadata": {},
   "outputs": [],
   "source": [
    "model = svm.SVC(kernel='rbf',gamma=0.1,C=1)\n",
    "model.fit(X_train, y_train)\n",
    "prediction = model.predict(X_test)"
   ]
  },
  {
   "cell_type": "code",
   "execution_count": 49,
   "metadata": {},
   "outputs": [
    {
     "name": "stdout",
     "output_type": "stream",
     "text": [
      "92.88025889967638\n",
      "              precision    recall  f1-score   support\n",
      "\n",
      "        10.0       1.00      0.80      0.89        40\n",
      "        20.0       0.86      0.99      0.92       205\n",
      "        30.0       0.94      0.92      0.93       148\n",
      "        40.0       0.98      0.88      0.93        74\n",
      "        50.0       0.99      0.90      0.95       105\n",
      "        60.0       1.00      1.00      1.00        37\n",
      "        70.0       1.00      0.78      0.88         9\n",
      "\n",
      "   micro avg       0.93      0.93      0.93       618\n",
      "   macro avg       0.97      0.90      0.93       618\n",
      "weighted avg       0.93      0.93      0.93       618\n",
      "\n"
     ]
    }
   ],
   "source": [
    "print(metrics.accuracy_score(prediction, y_test) * 100)\n",
    "#print(confusion_matrix(y_test, prediction))\n",
    "print(classification_report(y_test, prediction))"
   ]
  },
  {
   "cell_type": "code",
   "execution_count": 37,
   "metadata": {},
   "outputs": [
    {
     "data": {
      "text/plain": [
       "['SVM-MODEL-AGE.sav']"
      ]
     },
     "execution_count": 37,
     "metadata": {},
     "output_type": "execute_result"
    }
   ],
   "source": [
    "filename = 'SVM-MODEL-AGE.sav'\n",
    "joblib.dump(model, filename)"
   ]
  },
  {
   "cell_type": "code",
   "execution_count": 16,
   "metadata": {},
   "outputs": [],
   "source": [
    "#loaded_model = joblib.load('SVMinitMODEL.sav')"
   ]
  },
  {
   "cell_type": "markdown",
   "metadata": {},
   "source": [
    "# LOGISTIC REGRESSION AGE"
   ]
  },
  {
   "cell_type": "code",
   "execution_count": 42,
   "metadata": {},
   "outputs": [
    {
     "name": "stderr",
     "output_type": "stream",
     "text": [
      "/home/arnav/anaconda3/lib/python3.7/site-packages/sklearn/linear_model/logistic.py:433: FutureWarning: Default solver will be changed to 'lbfgs' in 0.22. Specify a solver to silence this warning.\n",
      "  FutureWarning)\n",
      "/home/arnav/anaconda3/lib/python3.7/site-packages/sklearn/linear_model/logistic.py:460: FutureWarning: Default multi_class will be changed to 'auto' in 0.22. Specify the multi_class option to silence this warning.\n",
      "  \"this warning.\", FutureWarning)\n"
     ]
    },
    {
     "data": {
      "text/plain": [
       "LogisticRegression(C=1.0, class_weight=None, dual=False, fit_intercept=True,\n",
       "          intercept_scaling=1, max_iter=100, multi_class='warn',\n",
       "          n_jobs=None, penalty='l2', random_state=None, solver='warn',\n",
       "          tol=0.0001, verbose=0, warm_start=False)"
      ]
     },
     "execution_count": 42,
     "metadata": {},
     "output_type": "execute_result"
    }
   ],
   "source": [
    "model1 = LogisticRegression()\n",
    "model1.fit(X_train, y_train)"
   ]
  },
  {
   "cell_type": "code",
   "execution_count": 43,
   "metadata": {},
   "outputs": [],
   "source": [
    "prediction = model1.predict(X_test)"
   ]
  },
  {
   "cell_type": "code",
   "execution_count": 44,
   "metadata": {},
   "outputs": [
    {
     "name": "stdout",
     "output_type": "stream",
     "text": [
      "35.084306095979244\n",
      "              precision    recall  f1-score   support\n",
      "\n",
      "        10.0       0.70      0.06      0.11       117\n",
      "        20.0       0.35      0.69      0.47       466\n",
      "        30.0       0.35      0.43      0.39       389\n",
      "        40.0       0.34      0.10      0.16       236\n",
      "        50.0       0.33      0.09      0.14       205\n",
      "        60.0       0.33      0.03      0.06        88\n",
      "        70.0       0.00      0.00      0.00        36\n",
      "        80.0       0.00      0.00      0.00         5\n",
      "\n",
      "   micro avg       0.35      0.35      0.35      1542\n",
      "   macro avg       0.30      0.18      0.17      1542\n",
      "weighted avg       0.36      0.35      0.29      1542\n",
      "\n"
     ]
    },
    {
     "name": "stderr",
     "output_type": "stream",
     "text": [
      "/home/arnav/anaconda3/lib/python3.7/site-packages/sklearn/metrics/classification.py:1143: UndefinedMetricWarning: Precision and F-score are ill-defined and being set to 0.0 in labels with no predicted samples.\n",
      "  'precision', 'predicted', average, warn_for)\n",
      "/home/arnav/anaconda3/lib/python3.7/site-packages/sklearn/metrics/classification.py:1143: UndefinedMetricWarning: Precision and F-score are ill-defined and being set to 0.0 in labels with no predicted samples.\n",
      "  'precision', 'predicted', average, warn_for)\n",
      "/home/arnav/anaconda3/lib/python3.7/site-packages/sklearn/metrics/classification.py:1143: UndefinedMetricWarning: Precision and F-score are ill-defined and being set to 0.0 in labels with no predicted samples.\n",
      "  'precision', 'predicted', average, warn_for)\n"
     ]
    }
   ],
   "source": [
    "print(metrics.accuracy_score(prediction, y_test) * 100)\n",
    "#print(confusion_matrix(y_test, prediction))\n",
    "print(classification_report(y_test, prediction))"
   ]
  },
  {
   "cell_type": "code",
   "execution_count": 45,
   "metadata": {},
   "outputs": [
    {
     "data": {
      "text/plain": [
       "['LOG-MODEL-AGE.sav']"
      ]
     },
     "execution_count": 45,
     "metadata": {},
     "output_type": "execute_result"
    }
   ],
   "source": [
    "filename = 'LOG-MODEL-AGE.sav'\n",
    "joblib.dump(model1, filename)"
   ]
  },
  {
   "cell_type": "markdown",
   "metadata": {},
   "source": [
    "# KNN AGE"
   ]
  },
  {
   "cell_type": "code",
   "execution_count": 38,
   "metadata": {},
   "outputs": [
    {
     "data": {
      "text/plain": [
       "KNeighborsClassifier(algorithm='auto', leaf_size=30, metric='minkowski',\n",
       "           metric_params=None, n_jobs=None, n_neighbors=1, p=2,\n",
       "           weights='distance')"
      ]
     },
     "execution_count": 38,
     "metadata": {},
     "output_type": "execute_result"
    }
   ],
   "source": [
    "classifier = KNeighborsClassifier(n_neighbors=1,weights='distance')\n",
    "classifier.fit(X_train, y_train)"
   ]
  },
  {
   "cell_type": "code",
   "execution_count": 39,
   "metadata": {},
   "outputs": [],
   "source": [
    "prediction = classifier.predict(X_test)"
   ]
  },
  {
   "cell_type": "code",
   "execution_count": 40,
   "metadata": {},
   "outputs": [
    {
     "name": "stdout",
     "output_type": "stream",
     "text": [
      "92.0881971465629\n",
      "              precision    recall  f1-score   support\n",
      "\n",
      "        10.0       0.92      0.90      0.91       117\n",
      "        20.0       0.92      0.92      0.92       466\n",
      "        30.0       0.93      0.92      0.92       389\n",
      "        40.0       0.91      0.90      0.90       236\n",
      "        50.0       0.94      0.93      0.93       205\n",
      "        60.0       0.89      0.98      0.93        88\n",
      "        70.0       1.00      0.97      0.99        36\n",
      "        80.0       0.80      0.80      0.80         5\n",
      "\n",
      "   micro avg       0.92      0.92      0.92      1542\n",
      "   macro avg       0.91      0.91      0.91      1542\n",
      "weighted avg       0.92      0.92      0.92      1542\n",
      "\n"
     ]
    }
   ],
   "source": [
    "print(metrics.accuracy_score(prediction, y_test) * 100)\n",
    "#print(confusion_matrix(y_test, prediction))\n",
    "print(classification_report(y_test, prediction))"
   ]
  },
  {
   "cell_type": "code",
   "execution_count": 41,
   "metadata": {},
   "outputs": [
    {
     "data": {
      "text/plain": [
       "['KNN-MODEL-AGE.sav']"
      ]
     },
     "execution_count": 41,
     "metadata": {},
     "output_type": "execute_result"
    }
   ],
   "source": [
    "filename = 'KNN-MODEL-AGE.sav'\n",
    "joblib.dump(classifier, filename)"
   ]
  },
  {
   "cell_type": "markdown",
   "metadata": {},
   "source": [
    "## ACCENT PREPROCESSING"
   ]
  },
  {
   "cell_type": "code",
   "execution_count": 9,
   "metadata": {},
   "outputs": [],
   "source": [
    "X = df1.drop('accent', axis=1)\n",
    "y = df1['accent']\n",
    "X_train, X_test, y_train, y_test = train_test_split(X, y, test_size=0.3, random_state=101)\n"
   ]
  },
  {
   "cell_type": "code",
   "execution_count": 10,
   "metadata": {},
   "outputs": [],
   "source": [
    "X_train=df1.drop(['accent'], axis=1)\n",
    "y_train=df1['accent']\n",
    "X_test=df2.drop(['accent'], axis=1)\n",
    "y_test=df2['accent']"
   ]
  },
  {
   "cell_type": "code",
   "execution_count": 11,
   "metadata": {},
   "outputs": [],
   "source": [
    "scaler = StandardScaler()\n",
    "scaler.fit(X_train)\n",
    "X_train = scaler.transform(X_train)\n",
    "X_test = scaler.transform(X_test)"
   ]
  },
  {
   "cell_type": "markdown",
   "metadata": {},
   "source": [
    "# KNN ACCENT"
   ]
  },
  {
   "cell_type": "code",
   "execution_count": 21,
   "metadata": {},
   "outputs": [
    {
     "data": {
      "text/plain": [
       "KNeighborsClassifier(algorithm='auto', leaf_size=30, metric='minkowski',\n",
       "           metric_params=None, n_jobs=None, n_neighbors=4, p=2,\n",
       "           weights='distance')"
      ]
     },
     "execution_count": 21,
     "metadata": {},
     "output_type": "execute_result"
    }
   ],
   "source": [
    "classifier = KNeighborsClassifier(n_neighbors=4,weights='distance')\n",
    "classifier.fit(X_train, y_train)"
   ]
  },
  {
   "cell_type": "code",
   "execution_count": 22,
   "metadata": {},
   "outputs": [],
   "source": [
    "prediction = classifier.predict(X_test)"
   ]
  },
  {
   "cell_type": "code",
   "execution_count": 23,
   "metadata": {},
   "outputs": [
    {
     "name": "stdout",
     "output_type": "stream",
     "text": [
      "96.05911330049261\n",
      "                precision    recall  f1-score   support\n",
      "\n",
      "       african       1.00      0.96      0.98        24\n",
      "     australia       0.95      0.97      0.96        93\n",
      "       bermuda       1.00      1.00      1.00         3\n",
      "        canada       0.98      0.93      0.95       102\n",
      "      hongkong       1.00      1.00      1.00         4\n",
      "        indian       0.95      0.96      0.95        91\n",
      "       ireland       0.96      1.00      0.98        22\n",
      "      malaysia       1.00      1.00      1.00         3\n",
      "    newzealand       0.94      1.00      0.97        16\n",
      "   philippines       1.00      0.88      0.93         8\n",
      "      scotland       0.94      1.00      0.97        31\n",
      "     singapore       1.00      1.00      1.00         1\n",
      "southatlandtic       1.00      1.00      1.00         2\n",
      "         wales       1.00      1.00      1.00         6\n",
      "\n",
      "     micro avg       0.96      0.96      0.96       406\n",
      "     macro avg       0.98      0.98      0.98       406\n",
      "  weighted avg       0.96      0.96      0.96       406\n",
      "\n"
     ]
    }
   ],
   "source": [
    "print(metrics.accuracy_score(prediction, y_test) * 100)\n",
    "#print(confusion_matrix(y_test, prediction))\n",
    "print(classification_report(y_test, prediction))"
   ]
  },
  {
   "cell_type": "code",
   "execution_count": 57,
   "metadata": {},
   "outputs": [
    {
     "data": {
      "text/plain": [
       "['KNN-MODEL-ACCENT.sav']"
      ]
     },
     "execution_count": 57,
     "metadata": {},
     "output_type": "execute_result"
    }
   ],
   "source": [
    "filename = 'KNN-MODEL-ACCENT.sav'\n",
    "joblib.dump(classifier, filename)"
   ]
  },
  {
   "cell_type": "markdown",
   "metadata": {},
   "source": [
    "# LOGISTIC REGRESSION ACCENT"
   ]
  },
  {
   "cell_type": "code",
   "execution_count": 58,
   "metadata": {},
   "outputs": [
    {
     "name": "stderr",
     "output_type": "stream",
     "text": [
      "/home/arnav/anaconda3/lib/python3.7/site-packages/sklearn/linear_model/logistic.py:433: FutureWarning: Default solver will be changed to 'lbfgs' in 0.22. Specify a solver to silence this warning.\n",
      "  FutureWarning)\n",
      "/home/arnav/anaconda3/lib/python3.7/site-packages/sklearn/linear_model/logistic.py:460: FutureWarning: Default multi_class will be changed to 'auto' in 0.22. Specify the multi_class option to silence this warning.\n",
      "  \"this warning.\", FutureWarning)\n"
     ]
    },
    {
     "data": {
      "text/plain": [
       "LogisticRegression(C=1.0, class_weight=None, dual=False, fit_intercept=True,\n",
       "          intercept_scaling=1, max_iter=100, multi_class='warn',\n",
       "          n_jobs=None, penalty='l2', random_state=None, solver='warn',\n",
       "          tol=0.0001, verbose=0, warm_start=False)"
      ]
     },
     "execution_count": 58,
     "metadata": {},
     "output_type": "execute_result"
    }
   ],
   "source": [
    "model1 = LogisticRegression()\n",
    "model1.fit(X_train, y_train)"
   ]
  },
  {
   "cell_type": "code",
   "execution_count": 59,
   "metadata": {},
   "outputs": [],
   "source": [
    "prediction = model1.predict(X_test)"
   ]
  },
  {
   "cell_type": "code",
   "execution_count": 60,
   "metadata": {},
   "outputs": [
    {
     "name": "stdout",
     "output_type": "stream",
     "text": [
      "48.05680119581465\n"
     ]
    }
   ],
   "source": [
    "print(metrics.accuracy_score(prediction, y_test) * 100)\n",
    "#print(confusion_matrix(y_test, prediction))\n",
    "#print(classification_report(y_test, prediction))"
   ]
  },
  {
   "cell_type": "code",
   "execution_count": 61,
   "metadata": {},
   "outputs": [
    {
     "data": {
      "text/plain": [
       "['LOG-MODEL-ACCENT.sav']"
      ]
     },
     "execution_count": 61,
     "metadata": {},
     "output_type": "execute_result"
    }
   ],
   "source": [
    "filename = 'LOG-MODEL-ACCENT.sav'\n",
    "joblib.dump(model1, filename)"
   ]
  },
  {
   "cell_type": "markdown",
   "metadata": {},
   "source": [
    "# SVM ACCENT"
   ]
  },
  {
   "cell_type": "markdown",
   "metadata": {},
   "source": [
    "#### gamma"
   ]
  },
  {
   "cell_type": "code",
   "execution_count": 11,
   "metadata": {},
   "outputs": [
    {
     "name": "stderr",
     "output_type": "stream",
     "text": [
      "/home/arnav/anaconda3/lib/python3.7/site-packages/sklearn/model_selection/_split.py:2053: FutureWarning: You should specify a value for 'cv' instead of relying on the default value. The default value will change from 3 to 5 in version 0.22.\n",
      "  warnings.warn(CV_WARNING, FutureWarning)\n",
      "[Parallel(n_jobs=1)]: Using backend SequentialBackend with 1 concurrent workers.\n"
     ]
    },
    {
     "name": "stdout",
     "output_type": "stream",
     "text": [
      "Fitting 3 folds for each of 60 candidates, totalling 180 fits\n",
      "[CV] C=10, gamma=0.1, kernel=rbf .....................................\n",
      "[CV]  C=10, gamma=0.1, kernel=rbf, score=0.9289591315453385, total=  34.5s\n",
      "[CV] C=10, gamma=0.1, kernel=rbf .....................................\n"
     ]
    },
    {
     "name": "stderr",
     "output_type": "stream",
     "text": [
      "[Parallel(n_jobs=1)]: Done   1 out of   1 | elapsed:   51.5s remaining:    0.0s\n"
     ]
    },
    {
     "name": "stdout",
     "output_type": "stream",
     "text": [
      "[CV]  C=10, gamma=0.1, kernel=rbf, score=0.9255472120146988, total=  33.0s\n",
      "[CV] C=10, gamma=0.1, kernel=rbf .....................................\n"
     ]
    },
    {
     "name": "stderr",
     "output_type": "stream",
     "text": [
      "[Parallel(n_jobs=1)]: Done   2 out of   2 | elapsed:  1.7min remaining:    0.0s\n"
     ]
    },
    {
     "name": "stdout",
     "output_type": "stream",
     "text": [
      "[CV]  C=10, gamma=0.1, kernel=rbf, score=0.9341116264193188, total=  33.1s\n",
      "[CV] C=10, gamma=0.2, kernel=rbf .....................................\n",
      "[CV]  C=10, gamma=0.2, kernel=rbf, score=0.9115581098339719, total= 1.2min\n",
      "[CV] C=10, gamma=0.2, kernel=rbf .....................................\n",
      "[CV]  C=10, gamma=0.2, kernel=rbf, score=0.9049368908771369, total= 1.2min\n",
      "[CV] C=10, gamma=0.2, kernel=rbf .....................................\n",
      "[CV]  C=10, gamma=0.2, kernel=rbf, score=0.9122021429713737, total= 1.2min\n",
      "[CV] C=10, gamma=0.3, kernel=rbf .....................................\n",
      "[CV]  C=10, gamma=0.3, kernel=rbf, score=0.8542464878671775, total= 1.3min\n",
      "[CV] C=10, gamma=0.3, kernel=rbf .....................................\n",
      "[CV]  C=10, gamma=0.3, kernel=rbf, score=0.850455344304202, total= 1.3min\n",
      "[CV] C=10, gamma=0.3, kernel=rbf .....................................\n",
      "[CV]  C=10, gamma=0.3, kernel=rbf, score=0.8611866304173996, total= 1.3min\n",
      "[CV] C=10, gamma=0.4, kernel=rbf .....................................\n",
      "[CV]  C=10, gamma=0.4, kernel=rbf, score=0.770434227330779, total= 1.4min\n",
      "[CV] C=10, gamma=0.4, kernel=rbf .....................................\n",
      "[CV]  C=10, gamma=0.4, kernel=rbf, score=0.7796772647387762, total= 1.4min\n",
      "[CV] C=10, gamma=0.4, kernel=rbf .....................................\n",
      "[CV]  C=10, gamma=0.4, kernel=rbf, score=0.7852230929154006, total= 1.4min\n",
      "[CV] C=10, gamma=0.5, kernel=rbf .....................................\n",
      "[CV]  C=10, gamma=0.5, kernel=rbf, score=0.6931673052362708, total= 1.4min\n",
      "[CV] C=10, gamma=0.5, kernel=rbf .....................................\n",
      "[CV]  C=10, gamma=0.5, kernel=rbf, score=0.6957980508068381, total= 1.4min\n",
      "[CV] C=10, gamma=0.5, kernel=rbf .....................................\n",
      "[CV]  C=10, gamma=0.5, kernel=rbf, score=0.7043019350711658, total= 1.4min\n",
      "[CV] C=20, gamma=0.1, kernel=rbf .....................................\n",
      "[CV]  C=20, gamma=0.1, kernel=rbf, score=0.928639846743295, total=  33.0s\n",
      "[CV] C=20, gamma=0.1, kernel=rbf .....................................\n",
      "[CV]  C=20, gamma=0.1, kernel=rbf, score=0.9249081322895031, total=  32.8s\n",
      "[CV] C=20, gamma=0.1, kernel=rbf .....................................\n",
      "[CV]  C=20, gamma=0.1, kernel=rbf, score=0.932672317287702, total=  33.0s\n",
      "[CV] C=20, gamma=0.2, kernel=rbf .....................................\n",
      "[CV]  C=20, gamma=0.2, kernel=rbf, score=0.9115581098339719, total= 1.2min\n",
      "[CV] C=20, gamma=0.2, kernel=rbf .....................................\n",
      "[CV]  C=20, gamma=0.2, kernel=rbf, score=0.9049368908771369, total= 1.2min\n",
      "[CV] C=20, gamma=0.2, kernel=rbf .....................................\n",
      "[CV]  C=20, gamma=0.2, kernel=rbf, score=0.9122021429713737, total= 1.2min\n",
      "[CV] C=20, gamma=0.3, kernel=rbf .....................................\n",
      "[CV]  C=20, gamma=0.3, kernel=rbf, score=0.8542464878671775, total= 1.3min\n",
      "[CV] C=20, gamma=0.3, kernel=rbf .....................................\n",
      "[CV]  C=20, gamma=0.3, kernel=rbf, score=0.850455344304202, total= 1.3min\n",
      "[CV] C=20, gamma=0.3, kernel=rbf .....................................\n",
      "[CV]  C=20, gamma=0.3, kernel=rbf, score=0.8611866304173996, total= 1.3min\n",
      "[CV] C=20, gamma=0.4, kernel=rbf .....................................\n",
      "[CV]  C=20, gamma=0.4, kernel=rbf, score=0.770434227330779, total= 1.4min\n",
      "[CV] C=20, gamma=0.4, kernel=rbf .....................................\n",
      "[CV]  C=20, gamma=0.4, kernel=rbf, score=0.7796772647387762, total= 1.4min\n",
      "[CV] C=20, gamma=0.4, kernel=rbf .....................................\n",
      "[CV]  C=20, gamma=0.4, kernel=rbf, score=0.7852230929154006, total= 1.4min\n",
      "[CV] C=20, gamma=0.5, kernel=rbf .....................................\n",
      "[CV]  C=20, gamma=0.5, kernel=rbf, score=0.6931673052362708, total= 1.4min\n",
      "[CV] C=20, gamma=0.5, kernel=rbf .....................................\n",
      "[CV]  C=20, gamma=0.5, kernel=rbf, score=0.6957980508068381, total= 1.4min\n",
      "[CV] C=20, gamma=0.5, kernel=rbf .....................................\n",
      "[CV]  C=20, gamma=0.5, kernel=rbf, score=0.7043019350711658, total= 1.4min\n",
      "[CV] C=30, gamma=0.1, kernel=rbf .....................................\n",
      "[CV]  C=30, gamma=0.1, kernel=rbf, score=0.928639846743295, total=  35.2s\n",
      "[CV] C=30, gamma=0.1, kernel=rbf .....................................\n",
      "[CV]  C=30, gamma=0.1, kernel=rbf, score=0.9249081322895031, total=  33.6s\n",
      "[CV] C=30, gamma=0.1, kernel=rbf .....................................\n",
      "[CV]  C=30, gamma=0.1, kernel=rbf, score=0.932672317287702, total=  35.8s\n",
      "[CV] C=30, gamma=0.2, kernel=rbf .....................................\n",
      "[CV]  C=30, gamma=0.2, kernel=rbf, score=0.9115581098339719, total= 1.2min\n",
      "[CV] C=30, gamma=0.2, kernel=rbf .....................................\n",
      "[CV]  C=30, gamma=0.2, kernel=rbf, score=0.9049368908771369, total= 1.2min\n",
      "[CV] C=30, gamma=0.2, kernel=rbf .....................................\n",
      "[CV]  C=30, gamma=0.2, kernel=rbf, score=0.9122021429713737, total= 1.2min\n",
      "[CV] C=30, gamma=0.3, kernel=rbf .....................................\n",
      "[CV]  C=30, gamma=0.3, kernel=rbf, score=0.8542464878671775, total= 1.3min\n",
      "[CV] C=30, gamma=0.3, kernel=rbf .....................................\n",
      "[CV]  C=30, gamma=0.3, kernel=rbf, score=0.850455344304202, total= 1.3min\n",
      "[CV] C=30, gamma=0.3, kernel=rbf .....................................\n",
      "[CV]  C=30, gamma=0.3, kernel=rbf, score=0.8611866304173996, total= 1.3min\n",
      "[CV] C=30, gamma=0.4, kernel=rbf .....................................\n",
      "[CV]  C=30, gamma=0.4, kernel=rbf, score=0.770434227330779, total= 1.4min\n",
      "[CV] C=30, gamma=0.4, kernel=rbf .....................................\n",
      "[CV]  C=30, gamma=0.4, kernel=rbf, score=0.7796772647387762, total= 1.4min\n",
      "[CV] C=30, gamma=0.4, kernel=rbf .....................................\n",
      "[CV]  C=30, gamma=0.4, kernel=rbf, score=0.7852230929154006, total= 1.4min\n",
      "[CV] C=30, gamma=0.5, kernel=rbf .....................................\n",
      "[CV]  C=30, gamma=0.5, kernel=rbf, score=0.6931673052362708, total= 1.4min\n",
      "[CV] C=30, gamma=0.5, kernel=rbf .....................................\n",
      "[CV]  C=30, gamma=0.5, kernel=rbf, score=0.6957980508068381, total= 1.4min\n",
      "[CV] C=30, gamma=0.5, kernel=rbf .....................................\n",
      "[CV]  C=30, gamma=0.5, kernel=rbf, score=0.7043019350711658, total= 1.4min\n",
      "[CV] C=40, gamma=0.1, kernel=rbf .....................................\n",
      "[CV]  C=40, gamma=0.1, kernel=rbf, score=0.928639846743295, total=  33.1s\n",
      "[CV] C=40, gamma=0.1, kernel=rbf .....................................\n",
      "[CV]  C=40, gamma=0.1, kernel=rbf, score=0.9249081322895031, total=  32.8s\n",
      "[CV] C=40, gamma=0.1, kernel=rbf .....................................\n",
      "[CV]  C=40, gamma=0.1, kernel=rbf, score=0.932672317287702, total=  33.4s\n",
      "[CV] C=40, gamma=0.2, kernel=rbf .....................................\n",
      "[CV]  C=40, gamma=0.2, kernel=rbf, score=0.9115581098339719, total= 1.2min\n",
      "[CV] C=40, gamma=0.2, kernel=rbf .....................................\n",
      "[CV]  C=40, gamma=0.2, kernel=rbf, score=0.9049368908771369, total= 1.2min\n",
      "[CV] C=40, gamma=0.2, kernel=rbf .....................................\n",
      "[CV]  C=40, gamma=0.2, kernel=rbf, score=0.9122021429713737, total= 1.2min\n",
      "[CV] C=40, gamma=0.3, kernel=rbf .....................................\n",
      "[CV]  C=40, gamma=0.3, kernel=rbf, score=0.8542464878671775, total= 1.4min\n",
      "[CV] C=40, gamma=0.3, kernel=rbf .....................................\n",
      "[CV]  C=40, gamma=0.3, kernel=rbf, score=0.850455344304202, total= 1.5min\n",
      "[CV] C=40, gamma=0.3, kernel=rbf .....................................\n",
      "[CV]  C=40, gamma=0.3, kernel=rbf, score=0.8611866304173996, total= 1.5min\n",
      "[CV] C=40, gamma=0.4, kernel=rbf .....................................\n",
      "[CV]  C=40, gamma=0.4, kernel=rbf, score=0.770434227330779, total= 1.6min\n",
      "[CV] C=40, gamma=0.4, kernel=rbf .....................................\n",
      "[CV]  C=40, gamma=0.4, kernel=rbf, score=0.7796772647387762, total= 1.6min\n",
      "[CV] C=40, gamma=0.4, kernel=rbf .....................................\n",
      "[CV]  C=40, gamma=0.4, kernel=rbf, score=0.7852230929154006, total= 1.6min\n",
      "[CV] C=40, gamma=0.5, kernel=rbf .....................................\n",
      "[CV]  C=40, gamma=0.5, kernel=rbf, score=0.6931673052362708, total= 1.6min\n",
      "[CV] C=40, gamma=0.5, kernel=rbf .....................................\n",
      "[CV]  C=40, gamma=0.5, kernel=rbf, score=0.6957980508068381, total= 1.7min\n",
      "[CV] C=40, gamma=0.5, kernel=rbf .....................................\n"
     ]
    },
    {
     "name": "stdout",
     "output_type": "stream",
     "text": [
      "[CV]  C=40, gamma=0.5, kernel=rbf, score=0.7043019350711658, total= 1.6min\n",
      "[CV] C=50, gamma=0.1, kernel=rbf .....................................\n",
      "[CV]  C=50, gamma=0.1, kernel=rbf, score=0.928639846743295, total=  38.4s\n",
      "[CV] C=50, gamma=0.1, kernel=rbf .....................................\n",
      "[CV]  C=50, gamma=0.1, kernel=rbf, score=0.9249081322895031, total=  38.2s\n",
      "[CV] C=50, gamma=0.1, kernel=rbf .....................................\n",
      "[CV]  C=50, gamma=0.1, kernel=rbf, score=0.932672317287702, total=  38.4s\n",
      "[CV] C=50, gamma=0.2, kernel=rbf .....................................\n",
      "[CV]  C=50, gamma=0.2, kernel=rbf, score=0.9115581098339719, total= 1.4min\n",
      "[CV] C=50, gamma=0.2, kernel=rbf .....................................\n",
      "[CV]  C=50, gamma=0.2, kernel=rbf, score=0.9049368908771369, total= 1.4min\n",
      "[CV] C=50, gamma=0.2, kernel=rbf .....................................\n",
      "[CV]  C=50, gamma=0.2, kernel=rbf, score=0.9122021429713737, total= 1.4min\n",
      "[CV] C=50, gamma=0.3, kernel=rbf .....................................\n",
      "[CV]  C=50, gamma=0.3, kernel=rbf, score=0.8542464878671775, total= 1.6min\n",
      "[CV] C=50, gamma=0.3, kernel=rbf .....................................\n",
      "[CV]  C=50, gamma=0.3, kernel=rbf, score=0.850455344304202, total= 1.5min\n",
      "[CV] C=50, gamma=0.3, kernel=rbf .....................................\n",
      "[CV]  C=50, gamma=0.3, kernel=rbf, score=0.8611866304173996, total= 1.6min\n",
      "[CV] C=50, gamma=0.4, kernel=rbf .....................................\n",
      "[CV]  C=50, gamma=0.4, kernel=rbf, score=0.770434227330779, total= 1.6min\n",
      "[CV] C=50, gamma=0.4, kernel=rbf .....................................\n",
      "[CV]  C=50, gamma=0.4, kernel=rbf, score=0.7796772647387762, total= 1.6min\n",
      "[CV] C=50, gamma=0.4, kernel=rbf .....................................\n",
      "[CV]  C=50, gamma=0.4, kernel=rbf, score=0.7852230929154006, total= 1.6min\n",
      "[CV] C=50, gamma=0.5, kernel=rbf .....................................\n",
      "[CV]  C=50, gamma=0.5, kernel=rbf, score=0.6931673052362708, total= 1.6min\n",
      "[CV] C=50, gamma=0.5, kernel=rbf .....................................\n",
      "[CV]  C=50, gamma=0.5, kernel=rbf, score=0.6957980508068381, total= 1.6min\n",
      "[CV] C=50, gamma=0.5, kernel=rbf .....................................\n",
      "[CV]  C=50, gamma=0.5, kernel=rbf, score=0.7043019350711658, total= 1.6min\n",
      "[CV] C=60, gamma=0.1, kernel=rbf .....................................\n",
      "[CV]  C=60, gamma=0.1, kernel=rbf, score=0.928639846743295, total=  38.5s\n",
      "[CV] C=60, gamma=0.1, kernel=rbf .....................................\n",
      "[CV]  C=60, gamma=0.1, kernel=rbf, score=0.9249081322895031, total=  38.4s\n",
      "[CV] C=60, gamma=0.1, kernel=rbf .....................................\n",
      "[CV]  C=60, gamma=0.1, kernel=rbf, score=0.932672317287702, total=  38.5s\n",
      "[CV] C=60, gamma=0.2, kernel=rbf .....................................\n",
      "[CV]  C=60, gamma=0.2, kernel=rbf, score=0.9115581098339719, total= 1.4min\n",
      "[CV] C=60, gamma=0.2, kernel=rbf .....................................\n",
      "[CV]  C=60, gamma=0.2, kernel=rbf, score=0.9049368908771369, total= 1.4min\n",
      "[CV] C=60, gamma=0.2, kernel=rbf .....................................\n",
      "[CV]  C=60, gamma=0.2, kernel=rbf, score=0.9122021429713737, total= 1.4min\n",
      "[CV] C=60, gamma=0.3, kernel=rbf .....................................\n",
      "[CV]  C=60, gamma=0.3, kernel=rbf, score=0.8542464878671775, total= 1.6min\n",
      "[CV] C=60, gamma=0.3, kernel=rbf .....................................\n",
      "[CV]  C=60, gamma=0.3, kernel=rbf, score=0.850455344304202, total= 1.5min\n",
      "[CV] C=60, gamma=0.3, kernel=rbf .....................................\n",
      "[CV]  C=60, gamma=0.3, kernel=rbf, score=0.8611866304173996, total= 1.6min\n",
      "[CV] C=60, gamma=0.4, kernel=rbf .....................................\n",
      "[CV]  C=60, gamma=0.4, kernel=rbf, score=0.770434227330779, total= 1.6min\n",
      "[CV] C=60, gamma=0.4, kernel=rbf .....................................\n",
      "[CV]  C=60, gamma=0.4, kernel=rbf, score=0.7796772647387762, total= 1.6min\n",
      "[CV] C=60, gamma=0.4, kernel=rbf .....................................\n",
      "[CV]  C=60, gamma=0.4, kernel=rbf, score=0.7852230929154006, total= 1.6min\n",
      "[CV] C=60, gamma=0.5, kernel=rbf .....................................\n",
      "[CV]  C=60, gamma=0.5, kernel=rbf, score=0.6931673052362708, total= 1.6min\n",
      "[CV] C=60, gamma=0.5, kernel=rbf .....................................\n",
      "[CV]  C=60, gamma=0.5, kernel=rbf, score=0.6957980508068381, total= 1.4min\n",
      "[CV] C=60, gamma=0.5, kernel=rbf .....................................\n",
      "[CV]  C=60, gamma=0.5, kernel=rbf, score=0.7043019350711658, total= 1.4min\n",
      "[CV] C=70, gamma=0.1, kernel=rbf .....................................\n",
      "[CV]  C=70, gamma=0.1, kernel=rbf, score=0.928639846743295, total=  33.4s\n",
      "[CV] C=70, gamma=0.1, kernel=rbf .....................................\n",
      "[CV]  C=70, gamma=0.1, kernel=rbf, score=0.9249081322895031, total=  32.7s\n",
      "[CV] C=70, gamma=0.1, kernel=rbf .....................................\n",
      "[CV]  C=70, gamma=0.1, kernel=rbf, score=0.932672317287702, total=  32.9s\n",
      "[CV] C=70, gamma=0.2, kernel=rbf .....................................\n",
      "[CV]  C=70, gamma=0.2, kernel=rbf, score=0.9115581098339719, total= 1.2min\n",
      "[CV] C=70, gamma=0.2, kernel=rbf .....................................\n",
      "[CV]  C=70, gamma=0.2, kernel=rbf, score=0.9049368908771369, total= 1.2min\n",
      "[CV] C=70, gamma=0.2, kernel=rbf .....................................\n",
      "[CV]  C=70, gamma=0.2, kernel=rbf, score=0.9122021429713737, total= 1.2min\n",
      "[CV] C=70, gamma=0.3, kernel=rbf .....................................\n",
      "[CV]  C=70, gamma=0.3, kernel=rbf, score=0.8542464878671775, total= 1.3min\n",
      "[CV] C=70, gamma=0.3, kernel=rbf .....................................\n",
      "[CV]  C=70, gamma=0.3, kernel=rbf, score=0.850455344304202, total= 1.3min\n",
      "[CV] C=70, gamma=0.3, kernel=rbf .....................................\n",
      "[CV]  C=70, gamma=0.3, kernel=rbf, score=0.8611866304173996, total= 1.3min\n",
      "[CV] C=70, gamma=0.4, kernel=rbf .....................................\n",
      "[CV]  C=70, gamma=0.4, kernel=rbf, score=0.770434227330779, total= 1.4min\n",
      "[CV] C=70, gamma=0.4, kernel=rbf .....................................\n",
      "[CV]  C=70, gamma=0.4, kernel=rbf, score=0.7796772647387762, total= 1.4min\n",
      "[CV] C=70, gamma=0.4, kernel=rbf .....................................\n",
      "[CV]  C=70, gamma=0.4, kernel=rbf, score=0.7852230929154006, total= 1.4min\n",
      "[CV] C=70, gamma=0.5, kernel=rbf .....................................\n",
      "[CV]  C=70, gamma=0.5, kernel=rbf, score=0.6931673052362708, total= 1.4min\n",
      "[CV] C=70, gamma=0.5, kernel=rbf .....................................\n",
      "[CV]  C=70, gamma=0.5, kernel=rbf, score=0.6957980508068381, total= 1.4min\n",
      "[CV] C=70, gamma=0.5, kernel=rbf .....................................\n",
      "[CV]  C=70, gamma=0.5, kernel=rbf, score=0.7043019350711658, total= 1.4min\n",
      "[CV] C=80, gamma=0.1, kernel=rbf .....................................\n",
      "[CV]  C=80, gamma=0.1, kernel=rbf, score=0.928639846743295, total=  33.1s\n",
      "[CV] C=80, gamma=0.1, kernel=rbf .....................................\n",
      "[CV]  C=80, gamma=0.1, kernel=rbf, score=0.9249081322895031, total=  33.2s\n",
      "[CV] C=80, gamma=0.1, kernel=rbf .....................................\n",
      "[CV]  C=80, gamma=0.1, kernel=rbf, score=0.932672317287702, total=  32.9s\n",
      "[CV] C=80, gamma=0.2, kernel=rbf .....................................\n",
      "[CV]  C=80, gamma=0.2, kernel=rbf, score=0.9115581098339719, total= 1.2min\n",
      "[CV] C=80, gamma=0.2, kernel=rbf .....................................\n",
      "[CV]  C=80, gamma=0.2, kernel=rbf, score=0.9049368908771369, total= 1.2min\n",
      "[CV] C=80, gamma=0.2, kernel=rbf .....................................\n",
      "[CV]  C=80, gamma=0.2, kernel=rbf, score=0.9122021429713737, total= 1.2min\n",
      "[CV] C=80, gamma=0.3, kernel=rbf .....................................\n",
      "[CV]  C=80, gamma=0.3, kernel=rbf, score=0.8542464878671775, total= 1.3min\n",
      "[CV] C=80, gamma=0.3, kernel=rbf .....................................\n",
      "[CV]  C=80, gamma=0.3, kernel=rbf, score=0.850455344304202, total= 1.3min\n",
      "[CV] C=80, gamma=0.3, kernel=rbf .....................................\n",
      "[CV]  C=80, gamma=0.3, kernel=rbf, score=0.8611866304173996, total= 1.3min\n",
      "[CV] C=80, gamma=0.4, kernel=rbf .....................................\n",
      "[CV]  C=80, gamma=0.4, kernel=rbf, score=0.770434227330779, total= 1.4min\n",
      "[CV] C=80, gamma=0.4, kernel=rbf .....................................\n",
      "[CV]  C=80, gamma=0.4, kernel=rbf, score=0.7796772647387762, total= 1.4min\n",
      "[CV] C=80, gamma=0.4, kernel=rbf .....................................\n"
     ]
    },
    {
     "name": "stdout",
     "output_type": "stream",
     "text": [
      "[CV]  C=80, gamma=0.4, kernel=rbf, score=0.7852230929154006, total= 1.4min\n",
      "[CV] C=80, gamma=0.5, kernel=rbf .....................................\n",
      "[CV]  C=80, gamma=0.5, kernel=rbf, score=0.6931673052362708, total= 1.4min\n",
      "[CV] C=80, gamma=0.5, kernel=rbf .....................................\n",
      "[CV]  C=80, gamma=0.5, kernel=rbf, score=0.6957980508068381, total= 1.4min\n",
      "[CV] C=80, gamma=0.5, kernel=rbf .....................................\n",
      "[CV]  C=80, gamma=0.5, kernel=rbf, score=0.7043019350711658, total= 1.4min\n",
      "[CV] C=90, gamma=0.1, kernel=rbf .....................................\n",
      "[CV]  C=90, gamma=0.1, kernel=rbf, score=0.928639846743295, total=  32.9s\n",
      "[CV] C=90, gamma=0.1, kernel=rbf .....................................\n",
      "[CV]  C=90, gamma=0.1, kernel=rbf, score=0.9249081322895031, total=  32.7s\n",
      "[CV] C=90, gamma=0.1, kernel=rbf .....................................\n",
      "[CV]  C=90, gamma=0.1, kernel=rbf, score=0.932672317287702, total=  33.3s\n",
      "[CV] C=90, gamma=0.2, kernel=rbf .....................................\n",
      "[CV]  C=90, gamma=0.2, kernel=rbf, score=0.9115581098339719, total= 1.2min\n",
      "[CV] C=90, gamma=0.2, kernel=rbf .....................................\n",
      "[CV]  C=90, gamma=0.2, kernel=rbf, score=0.9049368908771369, total= 1.2min\n",
      "[CV] C=90, gamma=0.2, kernel=rbf .....................................\n",
      "[CV]  C=90, gamma=0.2, kernel=rbf, score=0.9122021429713737, total= 1.2min\n",
      "[CV] C=90, gamma=0.3, kernel=rbf .....................................\n",
      "[CV]  C=90, gamma=0.3, kernel=rbf, score=0.8542464878671775, total= 1.3min\n",
      "[CV] C=90, gamma=0.3, kernel=rbf .....................................\n",
      "[CV]  C=90, gamma=0.3, kernel=rbf, score=0.850455344304202, total= 1.3min\n",
      "[CV] C=90, gamma=0.3, kernel=rbf .....................................\n",
      "[CV]  C=90, gamma=0.3, kernel=rbf, score=0.8611866304173996, total= 1.3min\n",
      "[CV] C=90, gamma=0.4, kernel=rbf .....................................\n",
      "[CV]  C=90, gamma=0.4, kernel=rbf, score=0.770434227330779, total= 1.4min\n",
      "[CV] C=90, gamma=0.4, kernel=rbf .....................................\n",
      "[CV]  C=90, gamma=0.4, kernel=rbf, score=0.7796772647387762, total= 1.4min\n",
      "[CV] C=90, gamma=0.4, kernel=rbf .....................................\n",
      "[CV]  C=90, gamma=0.4, kernel=rbf, score=0.7852230929154006, total= 1.4min\n",
      "[CV] C=90, gamma=0.5, kernel=rbf .....................................\n",
      "[CV]  C=90, gamma=0.5, kernel=rbf, score=0.6931673052362708, total= 1.4min\n",
      "[CV] C=90, gamma=0.5, kernel=rbf .....................................\n",
      "[CV]  C=90, gamma=0.5, kernel=rbf, score=0.6957980508068381, total= 1.4min\n",
      "[CV] C=90, gamma=0.5, kernel=rbf .....................................\n",
      "[CV]  C=90, gamma=0.5, kernel=rbf, score=0.7043019350711658, total= 1.4min\n",
      "[CV] C=100, gamma=0.1, kernel=rbf ....................................\n",
      "[CV]  C=100, gamma=0.1, kernel=rbf, score=0.928639846743295, total=  33.0s\n",
      "[CV] C=100, gamma=0.1, kernel=rbf ....................................\n",
      "[CV]  C=100, gamma=0.1, kernel=rbf, score=0.9249081322895031, total=  32.8s\n",
      "[CV] C=100, gamma=0.1, kernel=rbf ....................................\n",
      "[CV]  C=100, gamma=0.1, kernel=rbf, score=0.932672317287702, total=  32.9s\n",
      "[CV] C=100, gamma=0.2, kernel=rbf ....................................\n",
      "[CV]  C=100, gamma=0.2, kernel=rbf, score=0.9115581098339719, total= 1.2min\n",
      "[CV] C=100, gamma=0.2, kernel=rbf ....................................\n",
      "[CV]  C=100, gamma=0.2, kernel=rbf, score=0.9049368908771369, total= 1.2min\n",
      "[CV] C=100, gamma=0.2, kernel=rbf ....................................\n",
      "[CV]  C=100, gamma=0.2, kernel=rbf, score=0.9122021429713737, total= 1.2min\n",
      "[CV] C=100, gamma=0.3, kernel=rbf ....................................\n",
      "[CV]  C=100, gamma=0.3, kernel=rbf, score=0.8542464878671775, total= 1.3min\n",
      "[CV] C=100, gamma=0.3, kernel=rbf ....................................\n",
      "[CV]  C=100, gamma=0.3, kernel=rbf, score=0.850455344304202, total= 1.3min\n",
      "[CV] C=100, gamma=0.3, kernel=rbf ....................................\n",
      "[CV]  C=100, gamma=0.3, kernel=rbf, score=0.8611866304173996, total= 1.3min\n",
      "[CV] C=100, gamma=0.4, kernel=rbf ....................................\n",
      "[CV]  C=100, gamma=0.4, kernel=rbf, score=0.770434227330779, total= 1.4min\n",
      "[CV] C=100, gamma=0.4, kernel=rbf ....................................\n",
      "[CV]  C=100, gamma=0.4, kernel=rbf, score=0.7796772647387762, total= 1.4min\n",
      "[CV] C=100, gamma=0.4, kernel=rbf ....................................\n",
      "[CV]  C=100, gamma=0.4, kernel=rbf, score=0.7852230929154006, total= 1.4min\n",
      "[CV] C=100, gamma=0.5, kernel=rbf ....................................\n",
      "[CV]  C=100, gamma=0.5, kernel=rbf, score=0.6931673052362708, total= 1.4min\n",
      "[CV] C=100, gamma=0.5, kernel=rbf ....................................\n",
      "[CV]  C=100, gamma=0.5, kernel=rbf, score=0.6957980508068381, total= 1.4min\n",
      "[CV] C=100, gamma=0.5, kernel=rbf ....................................\n",
      "[CV]  C=100, gamma=0.5, kernel=rbf, score=0.7043019350711658, total= 1.4min\n",
      "[CV] C=110, gamma=0.1, kernel=rbf ....................................\n",
      "[CV]  C=110, gamma=0.1, kernel=rbf, score=0.928639846743295, total=  33.0s\n",
      "[CV] C=110, gamma=0.1, kernel=rbf ....................................\n",
      "[CV]  C=110, gamma=0.1, kernel=rbf, score=0.9249081322895031, total=  33.0s\n",
      "[CV] C=110, gamma=0.1, kernel=rbf ....................................\n",
      "[CV]  C=110, gamma=0.1, kernel=rbf, score=0.932672317287702, total=  33.0s\n",
      "[CV] C=110, gamma=0.2, kernel=rbf ....................................\n",
      "[CV]  C=110, gamma=0.2, kernel=rbf, score=0.9115581098339719, total= 1.2min\n",
      "[CV] C=110, gamma=0.2, kernel=rbf ....................................\n",
      "[CV]  C=110, gamma=0.2, kernel=rbf, score=0.9049368908771369, total= 1.2min\n",
      "[CV] C=110, gamma=0.2, kernel=rbf ....................................\n",
      "[CV]  C=110, gamma=0.2, kernel=rbf, score=0.9122021429713737, total= 1.2min\n",
      "[CV] C=110, gamma=0.3, kernel=rbf ....................................\n",
      "[CV]  C=110, gamma=0.3, kernel=rbf, score=0.8542464878671775, total= 1.3min\n",
      "[CV] C=110, gamma=0.3, kernel=rbf ....................................\n",
      "[CV]  C=110, gamma=0.3, kernel=rbf, score=0.850455344304202, total= 1.3min\n",
      "[CV] C=110, gamma=0.3, kernel=rbf ....................................\n",
      "[CV]  C=110, gamma=0.3, kernel=rbf, score=0.8611866304173996, total= 1.3min\n",
      "[CV] C=110, gamma=0.4, kernel=rbf ....................................\n",
      "[CV]  C=110, gamma=0.4, kernel=rbf, score=0.770434227330779, total= 1.4min\n",
      "[CV] C=110, gamma=0.4, kernel=rbf ....................................\n",
      "[CV]  C=110, gamma=0.4, kernel=rbf, score=0.7796772647387762, total= 1.4min\n",
      "[CV] C=110, gamma=0.4, kernel=rbf ....................................\n",
      "[CV]  C=110, gamma=0.4, kernel=rbf, score=0.7852230929154006, total= 1.4min\n",
      "[CV] C=110, gamma=0.5, kernel=rbf ....................................\n",
      "[CV]  C=110, gamma=0.5, kernel=rbf, score=0.6931673052362708, total= 1.4min\n",
      "[CV] C=110, gamma=0.5, kernel=rbf ....................................\n",
      "[CV]  C=110, gamma=0.5, kernel=rbf, score=0.6957980508068381, total= 1.4min\n",
      "[CV] C=110, gamma=0.5, kernel=rbf ....................................\n",
      "[CV]  C=110, gamma=0.5, kernel=rbf, score=0.7043019350711658, total= 1.4min\n",
      "[CV] C=120, gamma=0.1, kernel=rbf ....................................\n",
      "[CV]  C=120, gamma=0.1, kernel=rbf, score=0.928639846743295, total=  33.1s\n",
      "[CV] C=120, gamma=0.1, kernel=rbf ....................................\n",
      "[CV]  C=120, gamma=0.1, kernel=rbf, score=0.9249081322895031, total=  32.8s\n",
      "[CV] C=120, gamma=0.1, kernel=rbf ....................................\n",
      "[CV]  C=120, gamma=0.1, kernel=rbf, score=0.932672317287702, total=  33.1s\n",
      "[CV] C=120, gamma=0.2, kernel=rbf ....................................\n",
      "[CV]  C=120, gamma=0.2, kernel=rbf, score=0.9115581098339719, total= 1.2min\n",
      "[CV] C=120, gamma=0.2, kernel=rbf ....................................\n",
      "[CV]  C=120, gamma=0.2, kernel=rbf, score=0.9049368908771369, total= 1.4min\n",
      "[CV] C=120, gamma=0.2, kernel=rbf ....................................\n",
      "[CV]  C=120, gamma=0.2, kernel=rbf, score=0.9122021429713737, total= 1.4min\n",
      "[CV] C=120, gamma=0.3, kernel=rbf ....................................\n",
      "[CV]  C=120, gamma=0.3, kernel=rbf, score=0.8542464878671775, total= 1.6min\n",
      "[CV] C=120, gamma=0.3, kernel=rbf ....................................\n"
     ]
    },
    {
     "name": "stdout",
     "output_type": "stream",
     "text": [
      "[CV]  C=120, gamma=0.3, kernel=rbf, score=0.850455344304202, total= 1.6min\n",
      "[CV] C=120, gamma=0.3, kernel=rbf ....................................\n",
      "[CV]  C=120, gamma=0.3, kernel=rbf, score=0.8611866304173996, total= 1.6min\n",
      "[CV] C=120, gamma=0.4, kernel=rbf ....................................\n",
      "[CV]  C=120, gamma=0.4, kernel=rbf, score=0.770434227330779, total= 1.6min\n",
      "[CV] C=120, gamma=0.4, kernel=rbf ....................................\n",
      "[CV]  C=120, gamma=0.4, kernel=rbf, score=0.7796772647387762, total= 1.7min\n",
      "[CV] C=120, gamma=0.4, kernel=rbf ....................................\n",
      "[CV]  C=120, gamma=0.4, kernel=rbf, score=0.7852230929154006, total= 1.7min\n",
      "[CV] C=120, gamma=0.5, kernel=rbf ....................................\n",
      "[CV]  C=120, gamma=0.5, kernel=rbf, score=0.6931673052362708, total= 1.6min\n",
      "[CV] C=120, gamma=0.5, kernel=rbf ....................................\n",
      "[CV]  C=120, gamma=0.5, kernel=rbf, score=0.6957980508068381, total= 1.7min\n",
      "[CV] C=120, gamma=0.5, kernel=rbf ....................................\n",
      "[CV]  C=120, gamma=0.5, kernel=rbf, score=0.7043019350711658, total= 1.5min\n"
     ]
    },
    {
     "name": "stderr",
     "output_type": "stream",
     "text": [
      "[Parallel(n_jobs=1)]: Done 180 out of 180 | elapsed: 280.2min finished\n"
     ]
    }
   ],
   "source": [
    "param_grid = {'C': [10,20,30,40,50,60,70,80,90, 100,110,120], 'gamma': [0.1,0.2,0.3,0.4,0.5], 'kernel': ['rbf']} \n",
    "from sklearn.model_selection import GridSearchCV\n",
    "grid = GridSearchCV(SVC(),param_grid,refit=True,verbose=3)\n",
    "# May take awhile!\n",
    "grid.fit(X_train,y_train)\n",
    "\n",
    "grid.best_estimator_\n",
    "grid_predictions = grid.predict(X_test)"
   ]
  },
  {
   "cell_type": "code",
   "execution_count": 12,
   "metadata": {},
   "outputs": [
    {
     "data": {
      "text/plain": [
       "{'C': 10, 'gamma': 0.1, 'kernel': 'rbf'}"
      ]
     },
     "execution_count": 12,
     "metadata": {},
     "output_type": "execute_result"
    }
   ],
   "source": [
    "grid.best_params_"
   ]
  },
  {
   "cell_type": "code",
   "execution_count": 13,
   "metadata": {},
   "outputs": [
    {
     "data": {
      "text/plain": [
       "SVC(C=10, cache_size=200, class_weight=None, coef0=0.0,\n",
       "  decision_function_shape='ovr', degree=3, gamma=0.1, kernel='rbf',\n",
       "  max_iter=-1, probability=False, random_state=None, shrinking=True,\n",
       "  tol=0.001, verbose=False)"
      ]
     },
     "execution_count": 13,
     "metadata": {},
     "output_type": "execute_result"
    }
   ],
   "source": [
    "grid.best_estimator_"
   ]
  },
  {
   "cell_type": "code",
   "execution_count": 14,
   "metadata": {},
   "outputs": [
    {
     "name": "stderr",
     "output_type": "stream",
     "text": [
      "/home/arnav/anaconda3/lib/python3.7/site-packages/sklearn/model_selection/_split.py:2053: FutureWarning: You should specify a value for 'cv' instead of relying on the default value. The default value will change from 3 to 5 in version 0.22.\n",
      "  warnings.warn(CV_WARNING, FutureWarning)\n"
     ]
    },
    {
     "name": "stdout",
     "output_type": "stream",
     "text": [
      "Fitting 3 folds for each of 11 candidates, totalling 33 fits\n",
      "[CV] C=5, gamma=0.1, kernel=rbf ......................................\n"
     ]
    },
    {
     "name": "stderr",
     "output_type": "stream",
     "text": [
      "[Parallel(n_jobs=1)]: Using backend SequentialBackend with 1 concurrent workers.\n"
     ]
    },
    {
     "name": "stdout",
     "output_type": "stream",
     "text": [
      "[CV]  C=5, gamma=0.1, kernel=rbf, score=0.9291187739463601, total=  37.1s\n",
      "[CV] C=5, gamma=0.1, kernel=rbf ......................................\n"
     ]
    },
    {
     "name": "stderr",
     "output_type": "stream",
     "text": [
      "[Parallel(n_jobs=1)]: Done   1 out of   1 | elapsed:   54.1s remaining:    0.0s\n"
     ]
    },
    {
     "name": "stdout",
     "output_type": "stream",
     "text": [
      "[CV]  C=5, gamma=0.1, kernel=rbf, score=0.9289023805719764, total=  33.3s\n",
      "[CV] C=5, gamma=0.1, kernel=rbf ......................................\n"
     ]
    },
    {
     "name": "stderr",
     "output_type": "stream",
     "text": [
      "[Parallel(n_jobs=1)]: Done   2 out of   2 | elapsed:  1.7min remaining:    0.0s\n"
     ]
    },
    {
     "name": "stdout",
     "output_type": "stream",
     "text": [
      "[CV]  C=5, gamma=0.1, kernel=rbf, score=0.9333120102350871, total=  33.6s\n",
      "[CV] C=6, gamma=0.1, kernel=rbf ......................................\n",
      "[CV]  C=6, gamma=0.1, kernel=rbf, score=0.9292784163473818, total=  38.9s\n",
      "[CV] C=6, gamma=0.1, kernel=rbf ......................................\n",
      "[CV]  C=6, gamma=0.1, kernel=rbf, score=0.927304681258987, total=  39.0s\n",
      "[CV] C=6, gamma=0.1, kernel=rbf ......................................\n",
      "[CV]  C=6, gamma=0.1, kernel=rbf, score=0.934271549656165, total=  38.5s\n",
      "[CV] C=7, gamma=0.1, kernel=rbf ......................................\n",
      "[CV]  C=7, gamma=0.1, kernel=rbf, score=0.9289591315453385, total=  44.5s\n",
      "[CV] C=7, gamma=0.1, kernel=rbf ......................................\n",
      "[CV]  C=7, gamma=0.1, kernel=rbf, score=0.9269851413963892, total=  38.2s\n",
      "[CV] C=7, gamma=0.1, kernel=rbf ......................................\n",
      "[CV]  C=7, gamma=0.1, kernel=rbf, score=0.934271549656165, total=  39.1s\n",
      "[CV] C=8, gamma=0.1, kernel=rbf ......................................\n",
      "[CV]  C=8, gamma=0.1, kernel=rbf, score=0.928639846743295, total=  38.3s\n",
      "[CV] C=8, gamma=0.1, kernel=rbf ......................................\n",
      "[CV]  C=8, gamma=0.1, kernel=rbf, score=0.9261862917398945, total=  38.9s\n",
      "[CV] C=8, gamma=0.1, kernel=rbf ......................................\n",
      "[CV]  C=8, gamma=0.1, kernel=rbf, score=0.9339517031824724, total=  38.4s\n",
      "[CV] C=9, gamma=0.1, kernel=rbf ......................................\n",
      "[CV]  C=9, gamma=0.1, kernel=rbf, score=0.928639846743295, total=  39.8s\n",
      "[CV] C=9, gamma=0.1, kernel=rbf ......................................\n",
      "[CV]  C=9, gamma=0.1, kernel=rbf, score=0.9258667518772967, total=  38.8s\n",
      "[CV] C=9, gamma=0.1, kernel=rbf ......................................\n",
      "[CV]  C=9, gamma=0.1, kernel=rbf, score=0.9339517031824724, total=  38.4s\n",
      "[CV] C=10, gamma=0.1, kernel=rbf .....................................\n",
      "[CV]  C=10, gamma=0.1, kernel=rbf, score=0.9289591315453385, total=  38.3s\n",
      "[CV] C=10, gamma=0.1, kernel=rbf .....................................\n",
      "[CV]  C=10, gamma=0.1, kernel=rbf, score=0.9255472120146988, total=  37.2s\n",
      "[CV] C=10, gamma=0.1, kernel=rbf .....................................\n",
      "[CV]  C=10, gamma=0.1, kernel=rbf, score=0.9341116264193188, total=  39.5s\n",
      "[CV] C=11, gamma=0.1, kernel=rbf .....................................\n",
      "[CV]  C=11, gamma=0.1, kernel=rbf, score=0.9289591315453385, total=  39.4s\n",
      "[CV] C=11, gamma=0.1, kernel=rbf .....................................\n",
      "[CV]  C=11, gamma=0.1, kernel=rbf, score=0.9249081322895031, total=  37.4s\n",
      "[CV] C=11, gamma=0.1, kernel=rbf .....................................\n",
      "[CV]  C=11, gamma=0.1, kernel=rbf, score=0.9337917799456261, total=  37.9s\n",
      "[CV] C=12, gamma=0.1, kernel=rbf .....................................\n",
      "[CV]  C=12, gamma=0.1, kernel=rbf, score=0.9287994891443168, total=  37.7s\n",
      "[CV] C=12, gamma=0.1, kernel=rbf .....................................\n",
      "[CV]  C=12, gamma=0.1, kernel=rbf, score=0.925227672152101, total=  37.6s\n",
      "[CV] C=12, gamma=0.1, kernel=rbf .....................................\n",
      "[CV]  C=12, gamma=0.1, kernel=rbf, score=0.9333120102350871, total=  39.2s\n",
      "[CV] C=13, gamma=0.1, kernel=rbf .....................................\n",
      "[CV]  C=13, gamma=0.1, kernel=rbf, score=0.9287994891443168, total=  38.4s\n",
      "[CV] C=13, gamma=0.1, kernel=rbf .....................................\n",
      "[CV]  C=13, gamma=0.1, kernel=rbf, score=0.9249081322895031, total=  37.9s\n",
      "[CV] C=13, gamma=0.1, kernel=rbf .....................................\n",
      "[CV]  C=13, gamma=0.1, kernel=rbf, score=0.9329921637613945, total=  38.3s\n",
      "[CV] C=14, gamma=0.1, kernel=rbf .....................................\n",
      "[CV]  C=14, gamma=0.1, kernel=rbf, score=0.9287994891443168, total=  39.1s\n",
      "[CV] C=14, gamma=0.1, kernel=rbf .....................................\n",
      "[CV]  C=14, gamma=0.1, kernel=rbf, score=0.9249081322895031, total=  38.6s\n",
      "[CV] C=14, gamma=0.1, kernel=rbf .....................................\n",
      "[CV]  C=14, gamma=0.1, kernel=rbf, score=0.9329921637613945, total=  38.6s\n",
      "[CV] C=15, gamma=0.1, kernel=rbf .....................................\n",
      "[CV]  C=15, gamma=0.1, kernel=rbf, score=0.9287994891443168, total=  39.0s\n",
      "[CV] C=15, gamma=0.1, kernel=rbf .....................................\n",
      "[CV]  C=15, gamma=0.1, kernel=rbf, score=0.9249081322895031, total=  38.6s\n",
      "[CV] C=15, gamma=0.1, kernel=rbf .....................................\n",
      "[CV]  C=15, gamma=0.1, kernel=rbf, score=0.932672317287702, total=  39.3s\n"
     ]
    },
    {
     "name": "stderr",
     "output_type": "stream",
     "text": [
      "[Parallel(n_jobs=1)]: Done  33 out of  33 | elapsed: 31.2min finished\n"
     ]
    }
   ],
   "source": [
    "param_grid = {'C': [5,6,7,8,9,10,11,12,13,14,15], 'gamma': [0.1], 'kernel': ['rbf']} \n",
    "from sklearn.model_selection import GridSearchCV\n",
    "grid = GridSearchCV(SVC(),param_grid,refit=True,verbose=3)\n",
    "# May take awhile!\n",
    "grid.fit(X_train,y_train)\n",
    "\n",
    "grid.best_estimator_\n",
    "grid_predictions = grid.predict(X_test)"
   ]
  },
  {
   "cell_type": "code",
   "execution_count": 15,
   "metadata": {},
   "outputs": [
    {
     "data": {
      "text/plain": [
       "{'C': 5, 'gamma': 0.1, 'kernel': 'rbf'}"
      ]
     },
     "execution_count": 15,
     "metadata": {},
     "output_type": "execute_result"
    }
   ],
   "source": [
    "grid.best_params_"
   ]
  },
  {
   "cell_type": "code",
   "execution_count": 16,
   "metadata": {},
   "outputs": [
    {
     "data": {
      "text/plain": [
       "SVC(C=5, cache_size=200, class_weight=None, coef0=0.0,\n",
       "  decision_function_shape='ovr', degree=3, gamma=0.1, kernel='rbf',\n",
       "  max_iter=-1, probability=False, random_state=None, shrinking=True,\n",
       "  tol=0.001, verbose=False)"
      ]
     },
     "execution_count": 16,
     "metadata": {},
     "output_type": "execute_result"
    }
   ],
   "source": [
    "grid.best_estimator_"
   ]
  },
  {
   "cell_type": "markdown",
   "metadata": {},
   "source": [
    "### pred"
   ]
  },
  {
   "cell_type": "code",
   "execution_count": 12,
   "metadata": {},
   "outputs": [
    {
     "data": {
      "text/plain": [
       "SVC(C=5, cache_size=200, class_weight=None, coef0=0.0,\n",
       "    decision_function_shape='ovr', degree=3, gamma=0.1, kernel='rbf',\n",
       "    max_iter=-1, probability=False, random_state=None, shrinking=True,\n",
       "    tol=0.001, verbose=False)"
      ]
     },
     "execution_count": 12,
     "metadata": {},
     "output_type": "execute_result"
    }
   ],
   "source": [
    "model = svm.SVC(kernel='rbf',gamma=0.1,C=5)\n",
    "model.fit(X_train, y_train)"
   ]
  },
  {
   "cell_type": "code",
   "execution_count": 13,
   "metadata": {},
   "outputs": [],
   "source": [
    "prediction = model.predict(X_test)"
   ]
  },
  {
   "cell_type": "code",
   "execution_count": 14,
   "metadata": {},
   "outputs": [
    {
     "name": "stdout",
     "output_type": "stream",
     "text": [
      "94.82758620689656\n",
      "                precision    recall  f1-score   support\n",
      "\n",
      "       african       0.96      0.92      0.94        24\n",
      "     australia       0.93      0.98      0.95        93\n",
      "       bermuda       1.00      1.00      1.00         3\n",
      "        canada       0.96      0.91      0.93       102\n",
      "      hongkong       1.00      0.75      0.86         4\n",
      "        indian       0.93      0.95      0.94        91\n",
      "       ireland       1.00      1.00      1.00        22\n",
      "      malaysia       1.00      1.00      1.00         3\n",
      "    newzealand       0.94      1.00      0.97        16\n",
      "   philippines       0.88      0.88      0.88         8\n",
      "      scotland       0.97      0.97      0.97        31\n",
      "     singapore       1.00      1.00      1.00         1\n",
      "southatlandtic       1.00      1.00      1.00         2\n",
      "         wales       1.00      1.00      1.00         6\n",
      "\n",
      "      accuracy                           0.95       406\n",
      "     macro avg       0.97      0.95      0.96       406\n",
      "  weighted avg       0.95      0.95      0.95       406\n",
      "\n"
     ]
    }
   ],
   "source": [
    "print(metrics.accuracy_score(prediction, y_test) * 100)\n",
    "#print(confusion_matrix(y_test, prediction))\n",
    "print(classification_report(y_test, prediction))"
   ]
  },
  {
   "cell_type": "code",
   "execution_count": 20,
   "metadata": {},
   "outputs": [
    {
     "data": {
      "text/plain": [
       "['SVM-MODEL-ACCENT.sav']"
      ]
     },
     "execution_count": 20,
     "metadata": {},
     "output_type": "execute_result"
    }
   ],
   "source": [
    "filename = 'SVM-MODEL-ACCENT.sav'\n",
    "joblib.dump(model, filename)"
   ]
  },
  {
   "cell_type": "markdown",
   "metadata": {},
   "source": [
    "## Random Forest"
   ]
  },
  {
   "cell_type": "code",
   "execution_count": 54,
   "metadata": {},
   "outputs": [],
   "source": [
    "from sklearn.ensemble import RandomForestClassifier"
   ]
  },
  {
   "cell_type": "code",
   "execution_count": 82,
   "metadata": {},
   "outputs": [],
   "source": [
    "rfc = RandomForestClassifier(n_estimators=1000)"
   ]
  },
  {
   "cell_type": "code",
   "execution_count": 83,
   "metadata": {},
   "outputs": [
    {
     "data": {
      "text/plain": [
       "RandomForestClassifier(bootstrap=True, class_weight=None, criterion='gini',\n",
       "            max_depth=None, max_features='auto', max_leaf_nodes=None,\n",
       "            min_impurity_decrease=0.0, min_impurity_split=None,\n",
       "            min_samples_leaf=1, min_samples_split=2,\n",
       "            min_weight_fraction_leaf=0.0, n_estimators=1000, n_jobs=None,\n",
       "            oob_score=False, random_state=None, verbose=0,\n",
       "            warm_start=False)"
      ]
     },
     "execution_count": 83,
     "metadata": {},
     "output_type": "execute_result"
    }
   ],
   "source": [
    "rfc.fit(X_train,y_train)"
   ]
  },
  {
   "cell_type": "code",
   "execution_count": 95,
   "metadata": {},
   "outputs": [],
   "source": [
    "predictions = rfc.predict(X_test)"
   ]
  },
  {
   "cell_type": "code",
   "execution_count": 97,
   "metadata": {},
   "outputs": [
    {
     "name": "stdout",
     "output_type": "stream",
     "text": [
      "25.93423019431988\n",
      "                precision    recall  f1-score   support\n",
      "\n",
      "       african       0.89      0.71      0.79        24\n",
      "     australia       0.20      0.88      0.33        93\n",
      "       bermuda       0.25      0.33      0.29         3\n",
      "        canada       0.24      0.84      0.37       102\n",
      "       england       0.00      0.00      0.00       299\n",
      "      hongkong       1.00      0.50      0.67         4\n",
      "        indian       0.21      0.95      0.34        91\n",
      "       ireland       0.77      0.77      0.77        22\n",
      "      malaysia       1.00      0.67      0.80         3\n",
      "    newzealand       0.40      0.88      0.55        16\n",
      "   philippines       1.00      0.62      0.77         8\n",
      "      scotland       0.51      0.94      0.66        31\n",
      "     singapore       0.00      0.00      0.00         1\n",
      "southatlandtic       1.00      1.00      1.00         2\n",
      "            us       0.00      0.00      0.00       633\n",
      "         wales       0.57      0.67      0.62         6\n",
      "\n",
      "     micro avg       0.26      0.26      0.26      1338\n",
      "     macro avg       0.50      0.61      0.50      1338\n",
      "  weighted avg       0.11      0.26      0.14      1338\n",
      "\n"
     ]
    },
    {
     "name": "stderr",
     "output_type": "stream",
     "text": [
      "/home/arnav/anaconda3/lib/python3.7/site-packages/sklearn/metrics/classification.py:1143: UndefinedMetricWarning: Precision and F-score are ill-defined and being set to 0.0 in labels with no predicted samples.\n",
      "  'precision', 'predicted', average, warn_for)\n",
      "/home/arnav/anaconda3/lib/python3.7/site-packages/sklearn/metrics/classification.py:1143: UndefinedMetricWarning: Precision and F-score are ill-defined and being set to 0.0 in labels with no predicted samples.\n",
      "  'precision', 'predicted', average, warn_for)\n",
      "/home/arnav/anaconda3/lib/python3.7/site-packages/sklearn/metrics/classification.py:1143: UndefinedMetricWarning: Precision and F-score are ill-defined and being set to 0.0 in labels with no predicted samples.\n",
      "  'precision', 'predicted', average, warn_for)\n"
     ]
    }
   ],
   "source": [
    "print(metrics.accuracy_score(predictions, y_test) * 100)\n",
    "#print(confusion_matrix(y_test, prediction))\n",
    "print(classification_report(y_test, predictions))"
   ]
  },
  {
   "cell_type": "markdown",
   "metadata": {},
   "source": [
    "## GENDER PREPROCESSING"
   ]
  },
  {
   "cell_type": "code",
   "execution_count": 9,
   "metadata": {},
   "outputs": [],
   "source": [
    "X_train=df1.drop(['gender'], axis=1)\n",
    "y_train=df1['gender']\n",
    "X_test=df2.drop(['gender'], axis=1)\n",
    "y_test=df2['gender']"
   ]
  },
  {
   "cell_type": "code",
   "execution_count": 10,
   "metadata": {},
   "outputs": [],
   "source": [
    "scaler = StandardScaler()\n",
    "scaler.fit(X_train)\n",
    "X_train = scaler.transform(X_train)\n",
    "X_test = scaler.transform(X_test)"
   ]
  },
  {
   "cell_type": "markdown",
   "metadata": {},
   "source": [
    "# SVM GENDER"
   ]
  },
  {
   "cell_type": "markdown",
   "metadata": {},
   "source": [
    "### GAMMA"
   ]
  },
  {
   "cell_type": "code",
   "execution_count": null,
   "metadata": {},
   "outputs": [
    {
     "name": "stderr",
     "output_type": "stream",
     "text": [
      "/home/arnav/anaconda3/lib/python3.7/site-packages/sklearn/model_selection/_split.py:2053: FutureWarning: You should specify a value for 'cv' instead of relying on the default value. The default value will change from 3 to 5 in version 0.22.\n",
      "  warnings.warn(CV_WARNING, FutureWarning)\n",
      "[Parallel(n_jobs=1)]: Using backend SequentialBackend with 1 concurrent workers.\n"
     ]
    },
    {
     "name": "stdout",
     "output_type": "stream",
     "text": [
      "Fitting 3 folds for each of 25 candidates, totalling 75 fits\n",
      "[CV] C=0.1, gamma=1, kernel=rbf ......................................\n",
      "[CV]  C=0.1, gamma=1, kernel=rbf, score=0.7471132840944554, total= 1.8min\n",
      "[CV] C=0.1, gamma=1, kernel=rbf ......................................\n"
     ]
    },
    {
     "name": "stderr",
     "output_type": "stream",
     "text": [
      "[Parallel(n_jobs=1)]: Done   1 out of   1 | elapsed:  2.2min remaining:    0.0s\n"
     ]
    },
    {
     "name": "stdout",
     "output_type": "stream",
     "text": [
      "[CV]  C=0.1, gamma=1, kernel=rbf, score=0.7472687545520758, total= 1.7min\n",
      "[CV] C=0.1, gamma=1, kernel=rbf ......................................\n"
     ]
    },
    {
     "name": "stderr",
     "output_type": "stream",
     "text": [
      "[Parallel(n_jobs=1)]: Done   2 out of   2 | elapsed:  4.3min remaining:    0.0s\n"
     ]
    },
    {
     "name": "stdout",
     "output_type": "stream",
     "text": [
      "[CV]  C=0.1, gamma=1, kernel=rbf, score=0.7472424557752342, total= 1.7min\n",
      "[CV] C=0.1, gamma=0.1, kernel=rbf ....................................\n",
      "[CV]  C=0.1, gamma=0.1, kernel=rbf, score=0.9174035160719859, total=  17.5s\n",
      "[CV] C=0.1, gamma=0.1, kernel=rbf ....................................\n",
      "[CV]  C=0.1, gamma=0.1, kernel=rbf, score=0.9152013318073041, total=  17.4s\n",
      "[CV] C=0.1, gamma=0.1, kernel=rbf ....................................\n",
      "[CV]  C=0.1, gamma=0.1, kernel=rbf, score=0.9167533818938606, total=  17.6s\n",
      "[CV] C=0.1, gamma=0.01, kernel=rbf ...................................\n",
      "[CV]  C=0.1, gamma=0.01, kernel=rbf, score=0.888692395714137, total=  16.7s\n",
      "[CV] C=0.1, gamma=0.01, kernel=rbf ...................................\n",
      "[CV]  C=0.1, gamma=0.01, kernel=rbf, score=0.8847154302361877, total=  16.7s\n",
      "[CV] C=0.1, gamma=0.01, kernel=rbf ...................................\n",
      "[CV]  C=0.1, gamma=0.01, kernel=rbf, score=0.877315296566077, total=  16.9s\n",
      "[CV] C=0.1, gamma=0.001, kernel=rbf ..................................\n",
      "[CV]  C=0.1, gamma=0.001, kernel=rbf, score=0.843857276604598, total=  21.9s\n",
      "[CV] C=0.1, gamma=0.001, kernel=rbf ..................................\n",
      "[CV]  C=0.1, gamma=0.001, kernel=rbf, score=0.8444490687753615, total=  21.9s\n",
      "[CV] C=0.1, gamma=0.001, kernel=rbf ..................................\n",
      "[CV]  C=0.1, gamma=0.001, kernel=rbf, score=0.8379812695109261, total=  21.9s\n",
      "[CV] C=0.1, gamma=0.0001, kernel=rbf .................................\n",
      "[CV]  C=0.1, gamma=0.0001, kernel=rbf, score=0.7471132840944554, total=  24.0s\n",
      "[CV] C=0.1, gamma=0.0001, kernel=rbf .................................\n",
      "[CV]  C=0.1, gamma=0.0001, kernel=rbf, score=0.7472687545520758, total=  23.6s\n",
      "[CV] C=0.1, gamma=0.0001, kernel=rbf .................................\n",
      "[CV]  C=0.1, gamma=0.0001, kernel=rbf, score=0.7472424557752342, total=  23.4s\n",
      "[CV] C=1, gamma=1, kernel=rbf ........................................\n",
      "[CV]  C=1, gamma=1, kernel=rbf, score=0.7623010506605639, total= 2.5min\n",
      "[CV] C=1, gamma=1, kernel=rbf ........................................\n"
     ]
    }
   ],
   "source": [
    "param_grid = {'C': [0.1,1, 10, 100, 1000], 'gamma': [1,0.1,0.01,0.001,0.0001], 'kernel': ['rbf','poly','linear','sigmoid']} \n",
    "from sklearn.model_selection import GridSearchCV\n",
    "grid = GridSearchCV(SVC(),param_grid,refit=True,verbose=3)\n",
    "# May take awhile!\n",
    "grid.fit(X_train,y_train)\n",
    "\n",
    "grid.best_estimator_\n",
    "grid_predictions = grid.predict(X_test)"
   ]
  },
  {
   "cell_type": "markdown",
   "metadata": {},
   "source": [
    "### PRED"
   ]
  },
  {
   "cell_type": "code",
   "execution_count": 11,
   "metadata": {},
   "outputs": [
    {
     "data": {
      "text/plain": [
       "SVC(C=0.1, cache_size=200, class_weight=None, coef0=0.0,\n",
       "  decision_function_shape='ovr', degree=3, gamma=0.1, kernel='rbf',\n",
       "  max_iter=-1, probability=False, random_state=None, shrinking=True,\n",
       "  tol=0.001, verbose=False)"
      ]
     },
     "execution_count": 11,
     "metadata": {},
     "output_type": "execute_result"
    }
   ],
   "source": [
    "model = svm.SVC(kernel='rbf',gamma=0.1,C=0.1)\n",
    "model.fit(X_train, y_train)"
   ]
  },
  {
   "cell_type": "code",
   "execution_count": 12,
   "metadata": {},
   "outputs": [],
   "source": [
    "prediction = model.predict(X_test)"
   ]
  },
  {
   "cell_type": "code",
   "execution_count": 13,
   "metadata": {},
   "outputs": [
    {
     "name": "stdout",
     "output_type": "stream",
     "text": [
      "91.73419773095624\n",
      "              precision    recall  f1-score   support\n",
      "\n",
      "      female       0.94      0.76      0.84       166\n",
      "        male       0.91      0.98      0.95       448\n",
      "       other       0.00      0.00      0.00         3\n",
      "\n",
      "   micro avg       0.92      0.92      0.92       617\n",
      "   macro avg       0.62      0.58      0.60       617\n",
      "weighted avg       0.91      0.92      0.91       617\n",
      "\n"
     ]
    },
    {
     "name": "stderr",
     "output_type": "stream",
     "text": [
      "/home/arnav/anaconda3/lib/python3.7/site-packages/sklearn/metrics/classification.py:1143: UndefinedMetricWarning: Precision and F-score are ill-defined and being set to 0.0 in labels with no predicted samples.\n",
      "  'precision', 'predicted', average, warn_for)\n",
      "/home/arnav/anaconda3/lib/python3.7/site-packages/sklearn/metrics/classification.py:1143: UndefinedMetricWarning: Precision and F-score are ill-defined and being set to 0.0 in labels with no predicted samples.\n",
      "  'precision', 'predicted', average, warn_for)\n",
      "/home/arnav/anaconda3/lib/python3.7/site-packages/sklearn/metrics/classification.py:1143: UndefinedMetricWarning: Precision and F-score are ill-defined and being set to 0.0 in labels with no predicted samples.\n",
      "  'precision', 'predicted', average, warn_for)\n"
     ]
    }
   ],
   "source": [
    "print(metrics.accuracy_score(prediction, y_test) * 100)\n",
    "#print(confusion_matrix(y_test, prediction))\n",
    "print(classification_report(y_test, prediction))"
   ]
  },
  {
   "cell_type": "code",
   "execution_count": 18,
   "metadata": {},
   "outputs": [
    {
     "data": {
      "text/plain": [
       "['SVM-MODEL-ACCENT.sav']"
      ]
     },
     "execution_count": 18,
     "metadata": {},
     "output_type": "execute_result"
    }
   ],
   "source": [
    "filename = 'SVM-MODEL-GENDER.sav'\n",
    "joblib.dump(model, filename)"
   ]
  },
  {
   "cell_type": "code",
   "execution_count": null,
   "metadata": {},
   "outputs": [],
   "source": []
  },
  {
   "cell_type": "code",
   "execution_count": null,
   "metadata": {},
   "outputs": [],
   "source": []
  },
  {
   "cell_type": "code",
   "execution_count": null,
   "metadata": {},
   "outputs": [],
   "source": []
  },
  {
   "cell_type": "code",
   "execution_count": null,
   "metadata": {},
   "outputs": [],
   "source": []
  },
  {
   "cell_type": "code",
   "execution_count": null,
   "metadata": {},
   "outputs": [],
   "source": []
  },
  {
   "cell_type": "code",
   "execution_count": null,
   "metadata": {},
   "outputs": [],
   "source": []
  },
  {
   "cell_type": "code",
   "execution_count": null,
   "metadata": {},
   "outputs": [],
   "source": []
  },
  {
   "cell_type": "code",
   "execution_count": null,
   "metadata": {},
   "outputs": [],
   "source": []
  },
  {
   "cell_type": "code",
   "execution_count": null,
   "metadata": {},
   "outputs": [],
   "source": []
  },
  {
   "cell_type": "code",
   "execution_count": null,
   "metadata": {},
   "outputs": [],
   "source": []
  },
  {
   "cell_type": "markdown",
   "metadata": {},
   "source": [
    "### test"
   ]
  },
  {
   "cell_type": "code",
   "execution_count": 27,
   "metadata": {},
   "outputs": [],
   "source": [
    "a=pd.read_csv(\"arnav.csv\")"
   ]
  },
  {
   "cell_type": "code",
   "execution_count": 28,
   "metadata": {},
   "outputs": [],
   "source": [
    "X_test=a.drop('filename',axis=1)"
   ]
  },
  {
   "cell_type": "code",
   "execution_count": 29,
   "metadata": {},
   "outputs": [],
   "source": [
    "X_test = scaler.transform(X_test)"
   ]
  },
  {
   "cell_type": "code",
   "execution_count": 32,
   "metadata": {},
   "outputs": [],
   "source": [
    "prediction = model.predict(X_test)"
   ]
  },
  {
   "cell_type": "code",
   "execution_count": 33,
   "metadata": {},
   "outputs": [
    {
     "data": {
      "text/plain": [
       "array(['indian'], dtype=object)"
      ]
     },
     "execution_count": 33,
     "metadata": {},
     "output_type": "execute_result"
    }
   ],
   "source": [
    "prediction"
   ]
  },
  {
   "cell_type": "code",
   "execution_count": 54,
   "metadata": {},
   "outputs": [
    {
     "data": {
      "text/plain": [
       "array([20.])"
      ]
     },
     "execution_count": 54,
     "metadata": {},
     "output_type": "execute_result"
    }
   ],
   "source": [
    "prediction"
   ]
  },
  {
   "cell_type": "code",
   "execution_count": 18,
   "metadata": {},
   "outputs": [
    {
     "data": {
      "text/plain": [
       "array(['male'], dtype=object)"
      ]
     },
     "execution_count": 18,
     "metadata": {},
     "output_type": "execute_result"
    }
   ],
   "source": [
    "prediction"
   ]
  },
  {
   "cell_type": "code",
   "execution_count": null,
   "metadata": {},
   "outputs": [],
   "source": []
  }
 ],
 "metadata": {
  "kernelspec": {
   "display_name": "Python 3",
   "language": "python",
   "name": "python3"
  },
  "language_info": {
   "codemirror_mode": {
    "name": "ipython",
    "version": 3
   },
   "file_extension": ".py",
   "mimetype": "text/x-python",
   "name": "python",
   "nbconvert_exporter": "python",
   "pygments_lexer": "ipython3",
   "version": "3.7.3"
  }
 },
 "nbformat": 4,
 "nbformat_minor": 2
}
