{
 "cells": [
  {
   "cell_type": "code",
   "execution_count": 1,
   "metadata": {
    "scrolled": false
   },
   "outputs": [
    {
     "name": "stderr",
     "output_type": "stream",
     "text": [
      "/home/arnav/anaconda3/lib/python3.7/site-packages/librosa/util/decorators.py:9: NumbaDeprecationWarning: An import was requested from a module that has moved location.\n",
      "Import requested from: 'numba.decorators', please update to use 'numba.core.decorators' or pin to Numba version 0.48.0. This alias will not be present in Numba version 0.50.0.\n",
      "  from numba.decorators import jit as optional_jit\n",
      "/home/arnav/anaconda3/lib/python3.7/site-packages/librosa/util/decorators.py:9: NumbaDeprecationWarning: An import was requested from a module that has moved location.\n",
      "Import of 'jit' requested from: 'numba.decorators', please update to use 'numba.core.decorators' or pin to Numba version 0.48.0. This alias will not be present in Numba version 0.50.0.\n",
      "  from numba.decorators import jit as optional_jit\n"
     ]
    }
   ],
   "source": [
    "import os\n",
    "import pandas as pd\n",
    "import matplotlib.pyplot as plt\n",
    "import librosa\n",
    "import librosa.display\n",
    "import glob\n",
    "import numpy as np\n",
    "from sklearn import preprocessing\n",
    "from scipy.io.wavfile import read\n",
    "from python_speech_features import mfcc\n",
    "from python_speech_features import delta\n",
    "import librosa\n",
    "import pandas as pd\n",
    "import numpy as np\n",
    "import matplotlib.pyplot as plt\n",
    "%matplotlib inline\n",
    "import os\n",
    "import csv\n",
    "import matplotlib as plt\n",
    "import seaborn as sns\n",
    "from sklearn import preprocessing\n",
    "from sklearn.model_selection import train_test_split\n",
    "from sklearn import svm\n",
    "from sklearn import metrics\n",
    "from sklearn.svm import SVC\n",
    "from sklearn.metrics import classification_report, confusion_matrix\n",
    "#from sklearn.externals import joblib\n",
    "from sklearn.linear_model import LogisticRegression\n",
    "from sklearn.preprocessing import StandardScaler\n",
    "from sklearn.neighbors import KNeighborsClassifier\n",
    "from sklearn.naive_bayes import MultinomialNB\n",
    "from sklearn.cluster import KMeans"
   ]
  },
  {
   "cell_type": "code",
   "execution_count": 2,
   "metadata": {},
   "outputs": [
    {
     "name": "stdout",
     "output_type": "stream",
     "text": [
      "/home/arnav/WorkSpace/VocalDataAnalysis-CollegeProject/Voice/Voice/common-voice\n"
     ]
    }
   ],
   "source": [
    "cd common-voice\n"
   ]
  },
  {
   "cell_type": "code",
   "execution_count": 3,
   "metadata": {},
   "outputs": [],
   "source": [
    "df1=pd.read_csv(\"data-valid-train.csv\")\n",
    "df2=pd.read_csv(\"data-valid-test.csv\")"
   ]
  },
  {
   "cell_type": "code",
   "execution_count": 4,
   "metadata": {},
   "outputs": [],
   "source": [
    "df1=df1[df1['accent']!='us']\n",
    "df1=df1[df1['accent']!='england']\n",
    "df2=df2[df2['accent']!='us']\n",
    "df2=df2[df2['accent']!='england']"
   ]
  },
  {
   "cell_type": "code",
   "execution_count": 80,
   "metadata": {},
   "outputs": [
    {
     "data": {
      "text/plain": [
       "array([60., nan, 40., 50., 70., 20., 30., 10., 80.])"
      ]
     },
     "execution_count": 80,
     "metadata": {},
     "output_type": "execute_result"
    }
   ],
   "source": [
    "df1.age.unique()"
   ]
  },
  {
   "cell_type": "code",
   "execution_count": 5,
   "metadata": {},
   "outputs": [],
   "source": [
    "df1.drop(columns='filename',inplace=True)\n",
    "df2.drop(columns='filename',inplace=True)"
   ]
  },
  {
   "cell_type": "code",
   "execution_count": 90,
   "metadata": {},
   "outputs": [],
   "source": [
    "df1.drop(columns='accent',inplace=True)\n",
    "df2.drop(columns='accent',inplace=True)"
   ]
  },
  {
   "cell_type": "code",
   "execution_count": 6,
   "metadata": {},
   "outputs": [],
   "source": [
    "df1.drop(columns='gender',inplace=True)\n",
    "df2.drop(columns='gender',inplace=True)"
   ]
  },
  {
   "cell_type": "code",
   "execution_count": 7,
   "metadata": {},
   "outputs": [],
   "source": [
    "df1.drop(columns='age',inplace=True)\n",
    "df2.drop(columns='age',inplace=True)"
   ]
  },
  {
   "cell_type": "code",
   "execution_count": 8,
   "metadata": {},
   "outputs": [],
   "source": [
    "df1.dropna(inplace=True)\n",
    "df2.dropna(inplace=True)"
   ]
  },
  {
   "cell_type": "code",
   "execution_count": 52,
   "metadata": {},
   "outputs": [],
   "source": [
    "df1.drop(df1[ df1['gender'] == 'other' ].index,inplace=True)"
   ]
  },
  {
   "cell_type": "code",
   "execution_count": 6,
   "metadata": {},
   "outputs": [],
   "source": [
    "df1.to_csv('new.csv')"
   ]
  },
  {
   "cell_type": "code",
   "execution_count": null,
   "metadata": {},
   "outputs": [],
   "source": []
  },
  {
   "cell_type": "code",
   "execution_count": null,
   "metadata": {},
   "outputs": [],
   "source": []
  },
  {
   "cell_type": "code",
   "execution_count": null,
   "metadata": {},
   "outputs": [],
   "source": []
  },
  {
   "cell_type": "markdown",
   "metadata": {},
   "source": [
    "## AGE PREPROCESSING"
   ]
  },
  {
   "cell_type": "code",
   "execution_count": 44,
   "metadata": {},
   "outputs": [],
   "source": [
    "X = df1.drop('age', axis=1)\n",
    "y = df1['age']\n",
    "X_train, X_test, y_train, y_test = train_test_split(X, y, test_size=0.3, random_state=101)\n"
   ]
  },
  {
   "cell_type": "code",
   "execution_count": 92,
   "metadata": {},
   "outputs": [],
   "source": [
    "X_train = df1.drop('age', axis=1)\n",
    "y_train = df1['age']\n",
    "X_test = df2.drop('age', axis=1)\n",
    "y_test = df2['age']"
   ]
  },
  {
   "cell_type": "code",
   "execution_count": 86,
   "metadata": {},
   "outputs": [],
   "source": [
    "scaler = StandardScaler()\n",
    "scaler.fit(X_train)\n",
    "X_train = scaler.transform(X_train)\n",
    "X_test = scaler.transform(X_test)"
   ]
  },
  {
   "cell_type": "markdown",
   "metadata": {},
   "source": [
    "# SVM AGE"
   ]
  },
  {
   "cell_type": "markdown",
   "metadata": {},
   "source": [
    "#### GAMMA"
   ]
  },
  {
   "cell_type": "code",
   "execution_count": 47,
   "metadata": {},
   "outputs": [
    {
     "name": "stderr",
     "output_type": "stream",
     "text": [
      "/home/arnav/anaconda3/lib/python3.7/site-packages/sklearn/model_selection/_split.py:2053: FutureWarning: You should specify a value for 'cv' instead of relying on the default value. The default value will change from 3 to 5 in version 0.22.\n",
      "  warnings.warn(CV_WARNING, FutureWarning)\n",
      "[Parallel(n_jobs=1)]: Using backend SequentialBackend with 1 concurrent workers.\n"
     ]
    },
    {
     "name": "stdout",
     "output_type": "stream",
     "text": [
      "Fitting 3 folds for each of 25 candidates, totalling 75 fits\n",
      "[CV] C=0.1, gamma=1, kernel=rbf ......................................\n",
      "[CV]  C=0.1, gamma=1, kernel=rbf, score=0.36068464730290456, total= 1.7min\n",
      "[CV] C=0.1, gamma=1, kernel=rbf ......................................\n"
     ]
    },
    {
     "name": "stderr",
     "output_type": "stream",
     "text": [
      "[Parallel(n_jobs=1)]: Done   1 out of   1 | elapsed:  2.1min remaining:    0.0s\n"
     ]
    },
    {
     "name": "stdout",
     "output_type": "stream",
     "text": [
      "[CV]  C=0.1, gamma=1, kernel=rbf, score=0.3607969285047214, total= 1.7min\n",
      "[CV] C=0.1, gamma=1, kernel=rbf ......................................\n"
     ]
    },
    {
     "name": "stderr",
     "output_type": "stream",
     "text": [
      "[Parallel(n_jobs=1)]: Done   2 out of   2 | elapsed:  4.2min remaining:    0.0s\n"
     ]
    },
    {
     "name": "stdout",
     "output_type": "stream",
     "text": [
      "[CV]  C=0.1, gamma=1, kernel=rbf, score=0.36084293574172116, total= 1.7min\n",
      "[CV] C=0.1, gamma=0.1, kernel=rbf ....................................\n",
      "[CV]  C=0.1, gamma=0.1, kernel=rbf, score=0.6488589211618258, total=  46.9s\n",
      "[CV] C=0.1, gamma=0.1, kernel=rbf ....................................\n",
      "[CV]  C=0.1, gamma=0.1, kernel=rbf, score=0.6427311403963889, total=  46.8s\n",
      "[CV] C=0.1, gamma=0.1, kernel=rbf ....................................\n",
      "[CV]  C=0.1, gamma=0.1, kernel=rbf, score=0.6516142427073601, total=  46.9s\n",
      "[CV] C=0.1, gamma=0.01, kernel=rbf ...................................\n",
      "[CV]  C=0.1, gamma=0.01, kernel=rbf, score=0.42489626556016596, total=  48.9s\n",
      "[CV] C=0.1, gamma=0.01, kernel=rbf ...................................\n",
      "[CV]  C=0.1, gamma=0.01, kernel=rbf, score=0.42855660475251633, total=  48.7s\n",
      "[CV] C=0.1, gamma=0.01, kernel=rbf ...................................\n",
      "[CV]  C=0.1, gamma=0.01, kernel=rbf, score=0.4282155091871691, total=  48.8s\n",
      "[CV] C=0.1, gamma=0.001, kernel=rbf ..................................\n",
      "[CV]  C=0.1, gamma=0.001, kernel=rbf, score=0.36068464730290456, total=  49.2s\n",
      "[CV] C=0.1, gamma=0.001, kernel=rbf ..................................\n",
      "[CV]  C=0.1, gamma=0.001, kernel=rbf, score=0.3607969285047214, total=  49.3s\n",
      "[CV] C=0.1, gamma=0.001, kernel=rbf ..................................\n",
      "[CV]  C=0.1, gamma=0.001, kernel=rbf, score=0.36084293574172116, total=  49.5s\n",
      "[CV] C=0.1, gamma=0.0001, kernel=rbf .................................\n",
      "[CV]  C=0.1, gamma=0.0001, kernel=rbf, score=0.36068464730290456, total=  47.4s\n",
      "[CV] C=0.1, gamma=0.0001, kernel=rbf .................................\n",
      "[CV]  C=0.1, gamma=0.0001, kernel=rbf, score=0.3607969285047214, total=  48.0s\n",
      "[CV] C=0.1, gamma=0.0001, kernel=rbf .................................\n",
      "[CV]  C=0.1, gamma=0.0001, kernel=rbf, score=0.36084293574172116, total=  47.3s\n",
      "[CV] C=1, gamma=1, kernel=rbf ........................................\n",
      "[CV]  C=1, gamma=1, kernel=rbf, score=0.41514522821576766, total= 2.0min\n",
      "[CV] C=1, gamma=1, kernel=rbf ........................................\n",
      "[CV]  C=1, gamma=1, kernel=rbf, score=0.41683096399294384, total= 2.0min\n",
      "[CV] C=1, gamma=1, kernel=rbf ........................................\n",
      "[CV]  C=1, gamma=1, kernel=rbf, score=0.41482404235440673, total= 2.0min\n",
      "[CV] C=1, gamma=0.1, kernel=rbf ......................................\n",
      "[CV]  C=1, gamma=0.1, kernel=rbf, score=0.8923236514522822, total=  36.6s\n",
      "[CV] C=1, gamma=0.1, kernel=rbf ......................................\n",
      "[CV]  C=1, gamma=0.1, kernel=rbf, score=0.8915637646570509, total=  36.5s\n",
      "[CV] C=1, gamma=0.1, kernel=rbf ......................................\n",
      "[CV]  C=1, gamma=0.1, kernel=rbf, score=0.8984739956399875, total=  36.7s\n",
      "[CV] C=1, gamma=0.01, kernel=rbf .....................................\n",
      "[CV]  C=1, gamma=0.01, kernel=rbf, score=0.6107883817427386, total=  41.6s\n",
      "[CV] C=1, gamma=0.01, kernel=rbf .....................................\n",
      "[CV]  C=1, gamma=0.01, kernel=rbf, score=0.6039223824841756, total=  41.2s\n",
      "[CV] C=1, gamma=0.01, kernel=rbf .....................................\n",
      "[CV]  C=1, gamma=0.01, kernel=rbf, score=0.6111284127478459, total=  41.3s\n",
      "[CV] C=1, gamma=0.001, kernel=rbf ....................................\n",
      "[CV]  C=1, gamma=0.001, kernel=rbf, score=0.39139004149377593, total=  48.2s\n",
      "[CV] C=1, gamma=0.001, kernel=rbf ....................................\n",
      "[CV]  C=1, gamma=0.001, kernel=rbf, score=0.38871017951644704, total=  48.0s\n",
      "[CV] C=1, gamma=0.001, kernel=rbf ....................................\n",
      "[CV]  C=1, gamma=0.001, kernel=rbf, score=0.39105159348074325, total=  48.7s\n",
      "[CV] C=1, gamma=0.0001, kernel=rbf ...................................\n",
      "[CV]  C=1, gamma=0.0001, kernel=rbf, score=0.36068464730290456, total=  49.0s\n",
      "[CV] C=1, gamma=0.0001, kernel=rbf ...................................\n",
      "[CV]  C=1, gamma=0.0001, kernel=rbf, score=0.3607969285047214, total=  49.1s\n",
      "[CV] C=1, gamma=0.0001, kernel=rbf ...................................\n",
      "[CV]  C=1, gamma=0.0001, kernel=rbf, score=0.36084293574172116, total=  49.0s\n",
      "[CV] C=10, gamma=1, kernel=rbf .......................................\n",
      "[CV]  C=10, gamma=1, kernel=rbf, score=0.44273858921161824, total= 2.6min\n",
      "[CV] C=10, gamma=1, kernel=rbf .......................................\n",
      "[CV]  C=10, gamma=1, kernel=rbf, score=0.4418387464978728, total= 2.6min\n",
      "[CV] C=10, gamma=1, kernel=rbf .......................................\n",
      "[CV]  C=10, gamma=1, kernel=rbf, score=0.4446174608117928, total= 2.6min\n",
      "[CV] C=10, gamma=0.1, kernel=rbf .....................................\n"
     ]
    },
    {
     "ename": "KeyboardInterrupt",
     "evalue": "",
     "output_type": "error",
     "traceback": [
      "\u001b[0;31m---------------------------------------------------------------------------\u001b[0m",
      "\u001b[0;31mKeyboardInterrupt\u001b[0m                         Traceback (most recent call last)",
      "\u001b[0;32m<ipython-input-47-d554ef4e7e76>\u001b[0m in \u001b[0;36m<module>\u001b[0;34m\u001b[0m\n\u001b[1;32m      3\u001b[0m \u001b[0mgrid\u001b[0m \u001b[0;34m=\u001b[0m \u001b[0mGridSearchCV\u001b[0m\u001b[0;34m(\u001b[0m\u001b[0mSVC\u001b[0m\u001b[0;34m(\u001b[0m\u001b[0;34m)\u001b[0m\u001b[0;34m,\u001b[0m\u001b[0mparam_grid\u001b[0m\u001b[0;34m,\u001b[0m\u001b[0mrefit\u001b[0m\u001b[0;34m=\u001b[0m\u001b[0;32mTrue\u001b[0m\u001b[0;34m,\u001b[0m\u001b[0mverbose\u001b[0m\u001b[0;34m=\u001b[0m\u001b[0;36m3\u001b[0m\u001b[0;34m)\u001b[0m\u001b[0;34m\u001b[0m\u001b[0;34m\u001b[0m\u001b[0m\n\u001b[1;32m      4\u001b[0m \u001b[0;31m# May take awhile!\u001b[0m\u001b[0;34m\u001b[0m\u001b[0;34m\u001b[0m\u001b[0;34m\u001b[0m\u001b[0m\n\u001b[0;32m----> 5\u001b[0;31m \u001b[0mgrid\u001b[0m\u001b[0;34m.\u001b[0m\u001b[0mfit\u001b[0m\u001b[0;34m(\u001b[0m\u001b[0mX_train\u001b[0m\u001b[0;34m,\u001b[0m\u001b[0my_train\u001b[0m\u001b[0;34m)\u001b[0m\u001b[0;34m\u001b[0m\u001b[0;34m\u001b[0m\u001b[0m\n\u001b[0m\u001b[1;32m      6\u001b[0m \u001b[0;34m\u001b[0m\u001b[0m\n\u001b[1;32m      7\u001b[0m \u001b[0mgrid\u001b[0m\u001b[0;34m.\u001b[0m\u001b[0mbest_estimator_\u001b[0m\u001b[0;34m\u001b[0m\u001b[0;34m\u001b[0m\u001b[0m\n",
      "\u001b[0;32m~/anaconda3/lib/python3.7/site-packages/sklearn/model_selection/_search.py\u001b[0m in \u001b[0;36mfit\u001b[0;34m(self, X, y, groups, **fit_params)\u001b[0m\n\u001b[1;32m    720\u001b[0m                 \u001b[0;32mreturn\u001b[0m \u001b[0mresults_container\u001b[0m\u001b[0;34m[\u001b[0m\u001b[0;36m0\u001b[0m\u001b[0;34m]\u001b[0m\u001b[0;34m\u001b[0m\u001b[0;34m\u001b[0m\u001b[0m\n\u001b[1;32m    721\u001b[0m \u001b[0;34m\u001b[0m\u001b[0m\n\u001b[0;32m--> 722\u001b[0;31m             \u001b[0mself\u001b[0m\u001b[0;34m.\u001b[0m\u001b[0m_run_search\u001b[0m\u001b[0;34m(\u001b[0m\u001b[0mevaluate_candidates\u001b[0m\u001b[0;34m)\u001b[0m\u001b[0;34m\u001b[0m\u001b[0;34m\u001b[0m\u001b[0m\n\u001b[0m\u001b[1;32m    723\u001b[0m \u001b[0;34m\u001b[0m\u001b[0m\n\u001b[1;32m    724\u001b[0m         \u001b[0mresults\u001b[0m \u001b[0;34m=\u001b[0m \u001b[0mresults_container\u001b[0m\u001b[0;34m[\u001b[0m\u001b[0;36m0\u001b[0m\u001b[0;34m]\u001b[0m\u001b[0;34m\u001b[0m\u001b[0;34m\u001b[0m\u001b[0m\n",
      "\u001b[0;32m~/anaconda3/lib/python3.7/site-packages/sklearn/model_selection/_search.py\u001b[0m in \u001b[0;36m_run_search\u001b[0;34m(self, evaluate_candidates)\u001b[0m\n\u001b[1;32m   1189\u001b[0m     \u001b[0;32mdef\u001b[0m \u001b[0m_run_search\u001b[0m\u001b[0;34m(\u001b[0m\u001b[0mself\u001b[0m\u001b[0;34m,\u001b[0m \u001b[0mevaluate_candidates\u001b[0m\u001b[0;34m)\u001b[0m\u001b[0;34m:\u001b[0m\u001b[0;34m\u001b[0m\u001b[0;34m\u001b[0m\u001b[0m\n\u001b[1;32m   1190\u001b[0m         \u001b[0;34m\"\"\"Search all candidates in param_grid\"\"\"\u001b[0m\u001b[0;34m\u001b[0m\u001b[0;34m\u001b[0m\u001b[0m\n\u001b[0;32m-> 1191\u001b[0;31m         \u001b[0mevaluate_candidates\u001b[0m\u001b[0;34m(\u001b[0m\u001b[0mParameterGrid\u001b[0m\u001b[0;34m(\u001b[0m\u001b[0mself\u001b[0m\u001b[0;34m.\u001b[0m\u001b[0mparam_grid\u001b[0m\u001b[0;34m)\u001b[0m\u001b[0;34m)\u001b[0m\u001b[0;34m\u001b[0m\u001b[0;34m\u001b[0m\u001b[0m\n\u001b[0m\u001b[1;32m   1192\u001b[0m \u001b[0;34m\u001b[0m\u001b[0m\n\u001b[1;32m   1193\u001b[0m \u001b[0;34m\u001b[0m\u001b[0m\n",
      "\u001b[0;32m~/anaconda3/lib/python3.7/site-packages/sklearn/model_selection/_search.py\u001b[0m in \u001b[0;36mevaluate_candidates\u001b[0;34m(candidate_params)\u001b[0m\n\u001b[1;32m    709\u001b[0m                                \u001b[0;32mfor\u001b[0m \u001b[0mparameters\u001b[0m\u001b[0;34m,\u001b[0m \u001b[0;34m(\u001b[0m\u001b[0mtrain\u001b[0m\u001b[0;34m,\u001b[0m \u001b[0mtest\u001b[0m\u001b[0;34m)\u001b[0m\u001b[0;34m\u001b[0m\u001b[0;34m\u001b[0m\u001b[0m\n\u001b[1;32m    710\u001b[0m                                in product(candidate_params,\n\u001b[0;32m--> 711\u001b[0;31m                                           cv.split(X, y, groups)))\n\u001b[0m\u001b[1;32m    712\u001b[0m \u001b[0;34m\u001b[0m\u001b[0m\n\u001b[1;32m    713\u001b[0m                 \u001b[0mall_candidate_params\u001b[0m\u001b[0;34m.\u001b[0m\u001b[0mextend\u001b[0m\u001b[0;34m(\u001b[0m\u001b[0mcandidate_params\u001b[0m\u001b[0;34m)\u001b[0m\u001b[0;34m\u001b[0m\u001b[0;34m\u001b[0m\u001b[0m\n",
      "\u001b[0;32m~/anaconda3/lib/python3.7/site-packages/sklearn/externals/joblib/parallel.py\u001b[0m in \u001b[0;36m__call__\u001b[0;34m(self, iterable)\u001b[0m\n\u001b[1;32m    918\u001b[0m                 \u001b[0mself\u001b[0m\u001b[0;34m.\u001b[0m\u001b[0m_iterating\u001b[0m \u001b[0;34m=\u001b[0m \u001b[0mself\u001b[0m\u001b[0;34m.\u001b[0m\u001b[0m_original_iterator\u001b[0m \u001b[0;32mis\u001b[0m \u001b[0;32mnot\u001b[0m \u001b[0;32mNone\u001b[0m\u001b[0;34m\u001b[0m\u001b[0;34m\u001b[0m\u001b[0m\n\u001b[1;32m    919\u001b[0m \u001b[0;34m\u001b[0m\u001b[0m\n\u001b[0;32m--> 920\u001b[0;31m             \u001b[0;32mwhile\u001b[0m \u001b[0mself\u001b[0m\u001b[0;34m.\u001b[0m\u001b[0mdispatch_one_batch\u001b[0m\u001b[0;34m(\u001b[0m\u001b[0miterator\u001b[0m\u001b[0;34m)\u001b[0m\u001b[0;34m:\u001b[0m\u001b[0;34m\u001b[0m\u001b[0;34m\u001b[0m\u001b[0m\n\u001b[0m\u001b[1;32m    921\u001b[0m                 \u001b[0;32mpass\u001b[0m\u001b[0;34m\u001b[0m\u001b[0;34m\u001b[0m\u001b[0m\n\u001b[1;32m    922\u001b[0m \u001b[0;34m\u001b[0m\u001b[0m\n",
      "\u001b[0;32m~/anaconda3/lib/python3.7/site-packages/sklearn/externals/joblib/parallel.py\u001b[0m in \u001b[0;36mdispatch_one_batch\u001b[0;34m(self, iterator)\u001b[0m\n\u001b[1;32m    757\u001b[0m                 \u001b[0;32mreturn\u001b[0m \u001b[0;32mFalse\u001b[0m\u001b[0;34m\u001b[0m\u001b[0;34m\u001b[0m\u001b[0m\n\u001b[1;32m    758\u001b[0m             \u001b[0;32melse\u001b[0m\u001b[0;34m:\u001b[0m\u001b[0;34m\u001b[0m\u001b[0;34m\u001b[0m\u001b[0m\n\u001b[0;32m--> 759\u001b[0;31m                 \u001b[0mself\u001b[0m\u001b[0;34m.\u001b[0m\u001b[0m_dispatch\u001b[0m\u001b[0;34m(\u001b[0m\u001b[0mtasks\u001b[0m\u001b[0;34m)\u001b[0m\u001b[0;34m\u001b[0m\u001b[0;34m\u001b[0m\u001b[0m\n\u001b[0m\u001b[1;32m    760\u001b[0m                 \u001b[0;32mreturn\u001b[0m \u001b[0;32mTrue\u001b[0m\u001b[0;34m\u001b[0m\u001b[0;34m\u001b[0m\u001b[0m\n\u001b[1;32m    761\u001b[0m \u001b[0;34m\u001b[0m\u001b[0m\n",
      "\u001b[0;32m~/anaconda3/lib/python3.7/site-packages/sklearn/externals/joblib/parallel.py\u001b[0m in \u001b[0;36m_dispatch\u001b[0;34m(self, batch)\u001b[0m\n\u001b[1;32m    714\u001b[0m         \u001b[0;32mwith\u001b[0m \u001b[0mself\u001b[0m\u001b[0;34m.\u001b[0m\u001b[0m_lock\u001b[0m\u001b[0;34m:\u001b[0m\u001b[0;34m\u001b[0m\u001b[0;34m\u001b[0m\u001b[0m\n\u001b[1;32m    715\u001b[0m             \u001b[0mjob_idx\u001b[0m \u001b[0;34m=\u001b[0m \u001b[0mlen\u001b[0m\u001b[0;34m(\u001b[0m\u001b[0mself\u001b[0m\u001b[0;34m.\u001b[0m\u001b[0m_jobs\u001b[0m\u001b[0;34m)\u001b[0m\u001b[0;34m\u001b[0m\u001b[0;34m\u001b[0m\u001b[0m\n\u001b[0;32m--> 716\u001b[0;31m             \u001b[0mjob\u001b[0m \u001b[0;34m=\u001b[0m \u001b[0mself\u001b[0m\u001b[0;34m.\u001b[0m\u001b[0m_backend\u001b[0m\u001b[0;34m.\u001b[0m\u001b[0mapply_async\u001b[0m\u001b[0;34m(\u001b[0m\u001b[0mbatch\u001b[0m\u001b[0;34m,\u001b[0m \u001b[0mcallback\u001b[0m\u001b[0;34m=\u001b[0m\u001b[0mcb\u001b[0m\u001b[0;34m)\u001b[0m\u001b[0;34m\u001b[0m\u001b[0;34m\u001b[0m\u001b[0m\n\u001b[0m\u001b[1;32m    717\u001b[0m             \u001b[0;31m# A job can complete so quickly than its callback is\u001b[0m\u001b[0;34m\u001b[0m\u001b[0;34m\u001b[0m\u001b[0;34m\u001b[0m\u001b[0m\n\u001b[1;32m    718\u001b[0m             \u001b[0;31m# called before we get here, causing self._jobs to\u001b[0m\u001b[0;34m\u001b[0m\u001b[0;34m\u001b[0m\u001b[0;34m\u001b[0m\u001b[0m\n",
      "\u001b[0;32m~/anaconda3/lib/python3.7/site-packages/sklearn/externals/joblib/_parallel_backends.py\u001b[0m in \u001b[0;36mapply_async\u001b[0;34m(self, func, callback)\u001b[0m\n\u001b[1;32m    180\u001b[0m     \u001b[0;32mdef\u001b[0m \u001b[0mapply_async\u001b[0m\u001b[0;34m(\u001b[0m\u001b[0mself\u001b[0m\u001b[0;34m,\u001b[0m \u001b[0mfunc\u001b[0m\u001b[0;34m,\u001b[0m \u001b[0mcallback\u001b[0m\u001b[0;34m=\u001b[0m\u001b[0;32mNone\u001b[0m\u001b[0;34m)\u001b[0m\u001b[0;34m:\u001b[0m\u001b[0;34m\u001b[0m\u001b[0;34m\u001b[0m\u001b[0m\n\u001b[1;32m    181\u001b[0m         \u001b[0;34m\"\"\"Schedule a func to be run\"\"\"\u001b[0m\u001b[0;34m\u001b[0m\u001b[0;34m\u001b[0m\u001b[0m\n\u001b[0;32m--> 182\u001b[0;31m         \u001b[0mresult\u001b[0m \u001b[0;34m=\u001b[0m \u001b[0mImmediateResult\u001b[0m\u001b[0;34m(\u001b[0m\u001b[0mfunc\u001b[0m\u001b[0;34m)\u001b[0m\u001b[0;34m\u001b[0m\u001b[0;34m\u001b[0m\u001b[0m\n\u001b[0m\u001b[1;32m    183\u001b[0m         \u001b[0;32mif\u001b[0m \u001b[0mcallback\u001b[0m\u001b[0;34m:\u001b[0m\u001b[0;34m\u001b[0m\u001b[0;34m\u001b[0m\u001b[0m\n\u001b[1;32m    184\u001b[0m             \u001b[0mcallback\u001b[0m\u001b[0;34m(\u001b[0m\u001b[0mresult\u001b[0m\u001b[0;34m)\u001b[0m\u001b[0;34m\u001b[0m\u001b[0;34m\u001b[0m\u001b[0m\n",
      "\u001b[0;32m~/anaconda3/lib/python3.7/site-packages/sklearn/externals/joblib/_parallel_backends.py\u001b[0m in \u001b[0;36m__init__\u001b[0;34m(self, batch)\u001b[0m\n\u001b[1;32m    547\u001b[0m         \u001b[0;31m# Don't delay the application, to avoid keeping the input\u001b[0m\u001b[0;34m\u001b[0m\u001b[0;34m\u001b[0m\u001b[0;34m\u001b[0m\u001b[0m\n\u001b[1;32m    548\u001b[0m         \u001b[0;31m# arguments in memory\u001b[0m\u001b[0;34m\u001b[0m\u001b[0;34m\u001b[0m\u001b[0;34m\u001b[0m\u001b[0m\n\u001b[0;32m--> 549\u001b[0;31m         \u001b[0mself\u001b[0m\u001b[0;34m.\u001b[0m\u001b[0mresults\u001b[0m \u001b[0;34m=\u001b[0m \u001b[0mbatch\u001b[0m\u001b[0;34m(\u001b[0m\u001b[0;34m)\u001b[0m\u001b[0;34m\u001b[0m\u001b[0;34m\u001b[0m\u001b[0m\n\u001b[0m\u001b[1;32m    550\u001b[0m \u001b[0;34m\u001b[0m\u001b[0m\n\u001b[1;32m    551\u001b[0m     \u001b[0;32mdef\u001b[0m \u001b[0mget\u001b[0m\u001b[0;34m(\u001b[0m\u001b[0mself\u001b[0m\u001b[0;34m)\u001b[0m\u001b[0;34m:\u001b[0m\u001b[0;34m\u001b[0m\u001b[0;34m\u001b[0m\u001b[0m\n",
      "\u001b[0;32m~/anaconda3/lib/python3.7/site-packages/sklearn/externals/joblib/parallel.py\u001b[0m in \u001b[0;36m__call__\u001b[0;34m(self)\u001b[0m\n\u001b[1;32m    223\u001b[0m         \u001b[0;32mwith\u001b[0m \u001b[0mparallel_backend\u001b[0m\u001b[0;34m(\u001b[0m\u001b[0mself\u001b[0m\u001b[0;34m.\u001b[0m\u001b[0m_backend\u001b[0m\u001b[0;34m,\u001b[0m \u001b[0mn_jobs\u001b[0m\u001b[0;34m=\u001b[0m\u001b[0mself\u001b[0m\u001b[0;34m.\u001b[0m\u001b[0m_n_jobs\u001b[0m\u001b[0;34m)\u001b[0m\u001b[0;34m:\u001b[0m\u001b[0;34m\u001b[0m\u001b[0;34m\u001b[0m\u001b[0m\n\u001b[1;32m    224\u001b[0m             return [func(*args, **kwargs)\n\u001b[0;32m--> 225\u001b[0;31m                     for func, args, kwargs in self.items]\n\u001b[0m\u001b[1;32m    226\u001b[0m \u001b[0;34m\u001b[0m\u001b[0m\n\u001b[1;32m    227\u001b[0m     \u001b[0;32mdef\u001b[0m \u001b[0m__len__\u001b[0m\u001b[0;34m(\u001b[0m\u001b[0mself\u001b[0m\u001b[0;34m)\u001b[0m\u001b[0;34m:\u001b[0m\u001b[0;34m\u001b[0m\u001b[0;34m\u001b[0m\u001b[0m\n",
      "\u001b[0;32m~/anaconda3/lib/python3.7/site-packages/sklearn/externals/joblib/parallel.py\u001b[0m in \u001b[0;36m<listcomp>\u001b[0;34m(.0)\u001b[0m\n\u001b[1;32m    223\u001b[0m         \u001b[0;32mwith\u001b[0m \u001b[0mparallel_backend\u001b[0m\u001b[0;34m(\u001b[0m\u001b[0mself\u001b[0m\u001b[0;34m.\u001b[0m\u001b[0m_backend\u001b[0m\u001b[0;34m,\u001b[0m \u001b[0mn_jobs\u001b[0m\u001b[0;34m=\u001b[0m\u001b[0mself\u001b[0m\u001b[0;34m.\u001b[0m\u001b[0m_n_jobs\u001b[0m\u001b[0;34m)\u001b[0m\u001b[0;34m:\u001b[0m\u001b[0;34m\u001b[0m\u001b[0;34m\u001b[0m\u001b[0m\n\u001b[1;32m    224\u001b[0m             return [func(*args, **kwargs)\n\u001b[0;32m--> 225\u001b[0;31m                     for func, args, kwargs in self.items]\n\u001b[0m\u001b[1;32m    226\u001b[0m \u001b[0;34m\u001b[0m\u001b[0m\n\u001b[1;32m    227\u001b[0m     \u001b[0;32mdef\u001b[0m \u001b[0m__len__\u001b[0m\u001b[0;34m(\u001b[0m\u001b[0mself\u001b[0m\u001b[0;34m)\u001b[0m\u001b[0;34m:\u001b[0m\u001b[0;34m\u001b[0m\u001b[0;34m\u001b[0m\u001b[0m\n",
      "\u001b[0;32m~/anaconda3/lib/python3.7/site-packages/sklearn/model_selection/_validation.py\u001b[0m in \u001b[0;36m_fit_and_score\u001b[0;34m(estimator, X, y, scorer, train, test, verbose, parameters, fit_params, return_train_score, return_parameters, return_n_test_samples, return_times, return_estimator, error_score)\u001b[0m\n\u001b[1;32m    526\u001b[0m             \u001b[0mestimator\u001b[0m\u001b[0;34m.\u001b[0m\u001b[0mfit\u001b[0m\u001b[0;34m(\u001b[0m\u001b[0mX_train\u001b[0m\u001b[0;34m,\u001b[0m \u001b[0;34m**\u001b[0m\u001b[0mfit_params\u001b[0m\u001b[0;34m)\u001b[0m\u001b[0;34m\u001b[0m\u001b[0;34m\u001b[0m\u001b[0m\n\u001b[1;32m    527\u001b[0m         \u001b[0;32melse\u001b[0m\u001b[0;34m:\u001b[0m\u001b[0;34m\u001b[0m\u001b[0;34m\u001b[0m\u001b[0m\n\u001b[0;32m--> 528\u001b[0;31m             \u001b[0mestimator\u001b[0m\u001b[0;34m.\u001b[0m\u001b[0mfit\u001b[0m\u001b[0;34m(\u001b[0m\u001b[0mX_train\u001b[0m\u001b[0;34m,\u001b[0m \u001b[0my_train\u001b[0m\u001b[0;34m,\u001b[0m \u001b[0;34m**\u001b[0m\u001b[0mfit_params\u001b[0m\u001b[0;34m)\u001b[0m\u001b[0;34m\u001b[0m\u001b[0;34m\u001b[0m\u001b[0m\n\u001b[0m\u001b[1;32m    529\u001b[0m \u001b[0;34m\u001b[0m\u001b[0m\n\u001b[1;32m    530\u001b[0m     \u001b[0;32mexcept\u001b[0m \u001b[0mException\u001b[0m \u001b[0;32mas\u001b[0m \u001b[0me\u001b[0m\u001b[0;34m:\u001b[0m\u001b[0;34m\u001b[0m\u001b[0;34m\u001b[0m\u001b[0m\n",
      "\u001b[0;32m~/anaconda3/lib/python3.7/site-packages/sklearn/svm/base.py\u001b[0m in \u001b[0;36mfit\u001b[0;34m(self, X, y, sample_weight)\u001b[0m\n\u001b[1;32m    210\u001b[0m \u001b[0;34m\u001b[0m\u001b[0m\n\u001b[1;32m    211\u001b[0m         \u001b[0mseed\u001b[0m \u001b[0;34m=\u001b[0m \u001b[0mrnd\u001b[0m\u001b[0;34m.\u001b[0m\u001b[0mrandint\u001b[0m\u001b[0;34m(\u001b[0m\u001b[0mnp\u001b[0m\u001b[0;34m.\u001b[0m\u001b[0miinfo\u001b[0m\u001b[0;34m(\u001b[0m\u001b[0;34m'i'\u001b[0m\u001b[0;34m)\u001b[0m\u001b[0;34m.\u001b[0m\u001b[0mmax\u001b[0m\u001b[0;34m)\u001b[0m\u001b[0;34m\u001b[0m\u001b[0;34m\u001b[0m\u001b[0m\n\u001b[0;32m--> 212\u001b[0;31m         \u001b[0mfit\u001b[0m\u001b[0;34m(\u001b[0m\u001b[0mX\u001b[0m\u001b[0;34m,\u001b[0m \u001b[0my\u001b[0m\u001b[0;34m,\u001b[0m \u001b[0msample_weight\u001b[0m\u001b[0;34m,\u001b[0m \u001b[0msolver_type\u001b[0m\u001b[0;34m,\u001b[0m \u001b[0mkernel\u001b[0m\u001b[0;34m,\u001b[0m \u001b[0mrandom_seed\u001b[0m\u001b[0;34m=\u001b[0m\u001b[0mseed\u001b[0m\u001b[0;34m)\u001b[0m\u001b[0;34m\u001b[0m\u001b[0;34m\u001b[0m\u001b[0m\n\u001b[0m\u001b[1;32m    213\u001b[0m         \u001b[0;31m# see comment on the other call to np.iinfo in this file\u001b[0m\u001b[0;34m\u001b[0m\u001b[0;34m\u001b[0m\u001b[0;34m\u001b[0m\u001b[0m\n\u001b[1;32m    214\u001b[0m \u001b[0;34m\u001b[0m\u001b[0m\n",
      "\u001b[0;32m~/anaconda3/lib/python3.7/site-packages/sklearn/svm/base.py\u001b[0m in \u001b[0;36m_dense_fit\u001b[0;34m(self, X, y, sample_weight, solver_type, kernel, random_seed)\u001b[0m\n\u001b[1;32m    269\u001b[0m                 \u001b[0mcache_size\u001b[0m\u001b[0;34m=\u001b[0m\u001b[0mself\u001b[0m\u001b[0;34m.\u001b[0m\u001b[0mcache_size\u001b[0m\u001b[0;34m,\u001b[0m \u001b[0mcoef0\u001b[0m\u001b[0;34m=\u001b[0m\u001b[0mself\u001b[0m\u001b[0;34m.\u001b[0m\u001b[0mcoef0\u001b[0m\u001b[0;34m,\u001b[0m\u001b[0;34m\u001b[0m\u001b[0;34m\u001b[0m\u001b[0m\n\u001b[1;32m    270\u001b[0m                 \u001b[0mgamma\u001b[0m\u001b[0;34m=\u001b[0m\u001b[0mself\u001b[0m\u001b[0;34m.\u001b[0m\u001b[0m_gamma\u001b[0m\u001b[0;34m,\u001b[0m \u001b[0mepsilon\u001b[0m\u001b[0;34m=\u001b[0m\u001b[0mself\u001b[0m\u001b[0;34m.\u001b[0m\u001b[0mepsilon\u001b[0m\u001b[0;34m,\u001b[0m\u001b[0;34m\u001b[0m\u001b[0;34m\u001b[0m\u001b[0m\n\u001b[0;32m--> 271\u001b[0;31m                 max_iter=self.max_iter, random_seed=random_seed)\n\u001b[0m\u001b[1;32m    272\u001b[0m \u001b[0;34m\u001b[0m\u001b[0m\n\u001b[1;32m    273\u001b[0m         \u001b[0mself\u001b[0m\u001b[0;34m.\u001b[0m\u001b[0m_warn_from_fit_status\u001b[0m\u001b[0;34m(\u001b[0m\u001b[0;34m)\u001b[0m\u001b[0;34m\u001b[0m\u001b[0;34m\u001b[0m\u001b[0m\n",
      "\u001b[0;31mKeyboardInterrupt\u001b[0m: "
     ]
    }
   ],
   "source": [
    "param_grid = {'C': [0.1,1, 10, 100, 1000], 'gamma': [1,0.1,0.01,0.001,0.0001], 'kernel': ['rbf','poly','linear','sigmoid']} \n",
    "from sklearn.model_selection import GridSearchCV\n",
    "grid = GridSearchCV(SVC(),param_grid,refit=True,verbose=3)\n",
    "# May take awhile!\n",
    "grid.fit(X_train,y_train)\n",
    "\n",
    "grid.best_estimator_\n",
    "grid_predictions = grid.predict(X_test)"
   ]
  },
  {
   "cell_type": "markdown",
   "metadata": {},
   "source": [
    "#### TEST SVM FOR AGE"
   ]
  },
  {
   "cell_type": "code",
   "execution_count": 34,
   "metadata": {},
   "outputs": [],
   "source": [
    "model = svm.SVC(kernel='rbf',gamma=0.1,C=1)\n",
    "model.fit(X_train, y_train)\n",
    "prediction = model.predict(X_test)"
   ]
  },
  {
   "cell_type": "code",
   "execution_count": 35,
   "metadata": {},
   "outputs": [
    {
     "name": "stdout",
     "output_type": "stream",
     "text": [
      "92.88025889967638\n",
      "              precision    recall  f1-score   support\n",
      "\n",
      "        10.0       1.00      0.80      0.89        40\n",
      "        20.0       0.86      0.99      0.92       205\n",
      "        30.0       0.94      0.92      0.93       148\n",
      "        40.0       0.98      0.88      0.93        74\n",
      "        50.0       0.99      0.90      0.95       105\n",
      "        60.0       1.00      1.00      1.00        37\n",
      "        70.0       1.00      0.78      0.88         9\n",
      "\n",
      "    accuracy                           0.93       618\n",
      "   macro avg       0.97      0.90      0.93       618\n",
      "weighted avg       0.93      0.93      0.93       618\n",
      "\n"
     ]
    }
   ],
   "source": [
    "print(metrics.accuracy_score(prediction, y_test) * 100)\n",
    "#print(confusion_matrix(y_test, prediction))\n",
    "print(classification_report(y_test, prediction))"
   ]
  },
  {
   "cell_type": "code",
   "execution_count": 37,
   "metadata": {},
   "outputs": [
    {
     "data": {
      "text/plain": [
       "['SVM-MODEL-AGE.sav']"
      ]
     },
     "execution_count": 37,
     "metadata": {},
     "output_type": "execute_result"
    }
   ],
   "source": [
    "filename = 'SVM-MODEL-AGE.sav'\n",
    "joblib.dump(model, filename)"
   ]
  },
  {
   "cell_type": "code",
   "execution_count": 16,
   "metadata": {},
   "outputs": [],
   "source": [
    "#loaded_model = joblib.load('SVMinitMODEL.sav')"
   ]
  },
  {
   "cell_type": "markdown",
   "metadata": {},
   "source": [
    "# LOGISTIC REGRESSION AGE"
   ]
  },
  {
   "cell_type": "code",
   "execution_count": 42,
   "metadata": {},
   "outputs": [
    {
     "name": "stderr",
     "output_type": "stream",
     "text": [
      "/home/arnav/anaconda3/lib/python3.7/site-packages/sklearn/linear_model/logistic.py:433: FutureWarning: Default solver will be changed to 'lbfgs' in 0.22. Specify a solver to silence this warning.\n",
      "  FutureWarning)\n",
      "/home/arnav/anaconda3/lib/python3.7/site-packages/sklearn/linear_model/logistic.py:460: FutureWarning: Default multi_class will be changed to 'auto' in 0.22. Specify the multi_class option to silence this warning.\n",
      "  \"this warning.\", FutureWarning)\n"
     ]
    },
    {
     "data": {
      "text/plain": [
       "LogisticRegression(C=1.0, class_weight=None, dual=False, fit_intercept=True,\n",
       "          intercept_scaling=1, max_iter=100, multi_class='warn',\n",
       "          n_jobs=None, penalty='l2', random_state=None, solver='warn',\n",
       "          tol=0.0001, verbose=0, warm_start=False)"
      ]
     },
     "execution_count": 42,
     "metadata": {},
     "output_type": "execute_result"
    }
   ],
   "source": [
    "model1 = LogisticRegression()\n",
    "model1.fit(X_train, y_train)"
   ]
  },
  {
   "cell_type": "code",
   "execution_count": 43,
   "metadata": {},
   "outputs": [],
   "source": [
    "prediction = model1.predict(X_test)"
   ]
  },
  {
   "cell_type": "code",
   "execution_count": 44,
   "metadata": {},
   "outputs": [
    {
     "name": "stdout",
     "output_type": "stream",
     "text": [
      "35.084306095979244\n",
      "              precision    recall  f1-score   support\n",
      "\n",
      "        10.0       0.70      0.06      0.11       117\n",
      "        20.0       0.35      0.69      0.47       466\n",
      "        30.0       0.35      0.43      0.39       389\n",
      "        40.0       0.34      0.10      0.16       236\n",
      "        50.0       0.33      0.09      0.14       205\n",
      "        60.0       0.33      0.03      0.06        88\n",
      "        70.0       0.00      0.00      0.00        36\n",
      "        80.0       0.00      0.00      0.00         5\n",
      "\n",
      "   micro avg       0.35      0.35      0.35      1542\n",
      "   macro avg       0.30      0.18      0.17      1542\n",
      "weighted avg       0.36      0.35      0.29      1542\n",
      "\n"
     ]
    },
    {
     "name": "stderr",
     "output_type": "stream",
     "text": [
      "/home/arnav/anaconda3/lib/python3.7/site-packages/sklearn/metrics/classification.py:1143: UndefinedMetricWarning: Precision and F-score are ill-defined and being set to 0.0 in labels with no predicted samples.\n",
      "  'precision', 'predicted', average, warn_for)\n",
      "/home/arnav/anaconda3/lib/python3.7/site-packages/sklearn/metrics/classification.py:1143: UndefinedMetricWarning: Precision and F-score are ill-defined and being set to 0.0 in labels with no predicted samples.\n",
      "  'precision', 'predicted', average, warn_for)\n",
      "/home/arnav/anaconda3/lib/python3.7/site-packages/sklearn/metrics/classification.py:1143: UndefinedMetricWarning: Precision and F-score are ill-defined and being set to 0.0 in labels with no predicted samples.\n",
      "  'precision', 'predicted', average, warn_for)\n"
     ]
    }
   ],
   "source": [
    "print(metrics.accuracy_score(prediction, y_test) * 100)\n",
    "#print(confusion_matrix(y_test, prediction))\n",
    "print(classification_report(y_test, prediction))"
   ]
  },
  {
   "cell_type": "code",
   "execution_count": 45,
   "metadata": {},
   "outputs": [
    {
     "data": {
      "text/plain": [
       "['LOG-MODEL-AGE.sav']"
      ]
     },
     "execution_count": 45,
     "metadata": {},
     "output_type": "execute_result"
    }
   ],
   "source": [
    "filename = 'LOG-MODEL-AGE.sav'\n",
    "joblib.dump(model1, filename)"
   ]
  },
  {
   "cell_type": "markdown",
   "metadata": {},
   "source": [
    "# KNN AGE"
   ]
  },
  {
   "cell_type": "code",
   "execution_count": 76,
   "metadata": {},
   "outputs": [
    {
     "data": {
      "text/plain": [
       "KNeighborsClassifier(algorithm='auto', leaf_size=30, metric='minkowski',\n",
       "                     metric_params=None, n_jobs=None, n_neighbors=1, p=2,\n",
       "                     weights='distance')"
      ]
     },
     "execution_count": 76,
     "metadata": {},
     "output_type": "execute_result"
    }
   ],
   "source": [
    "classifier = KNeighborsClassifier(n_neighbors=1,weights='distance')\n",
    "classifier.fit(X_train, y_train)"
   ]
  },
  {
   "cell_type": "code",
   "execution_count": 117,
   "metadata": {},
   "outputs": [],
   "source": [
    "prediction = classifier.predict(X_test)"
   ]
  },
  {
   "cell_type": "code",
   "execution_count": 118,
   "metadata": {},
   "outputs": [
    {
     "name": "stdout",
     "output_type": "stream",
     "text": [
      "94.98381877022653\n",
      "              precision    recall  f1-score   support\n",
      "\n",
      "        10.0       0.93      0.97      0.95        40\n",
      "        20.0       0.94      0.93      0.94       205\n",
      "        30.0       0.93      0.95      0.94       148\n",
      "        40.0       0.99      0.95      0.97        74\n",
      "        50.0       0.97      0.96      0.97       105\n",
      "        60.0       0.95      1.00      0.97        37\n",
      "        70.0       1.00      1.00      1.00         9\n",
      "\n",
      "    accuracy                           0.95       618\n",
      "   macro avg       0.96      0.97      0.96       618\n",
      "weighted avg       0.95      0.95      0.95       618\n",
      "\n"
     ]
    }
   ],
   "source": [
    "print(metrics.accuracy_score(prediction, y_test) * 100)\n",
    "#print(confusion_matrix(y_test, prediction))\n",
    "print(classification_report(y_test, prediction))"
   ]
  },
  {
   "cell_type": "code",
   "execution_count": 41,
   "metadata": {},
   "outputs": [
    {
     "data": {
      "text/plain": [
       "['KNN-MODEL-AGE.sav']"
      ]
     },
     "execution_count": 41,
     "metadata": {},
     "output_type": "execute_result"
    }
   ],
   "source": [
    "filename = 'KNN-MODEL-AGE.sav'\n",
    "joblib.dump(classifier, filename)"
   ]
  },
  {
   "cell_type": "markdown",
   "metadata": {},
   "source": [
    "## ACCENT PREPROCESSING"
   ]
  },
  {
   "cell_type": "code",
   "execution_count": 51,
   "metadata": {},
   "outputs": [],
   "source": [
    "X = df1.drop('accent', axis=1)\n",
    "y = df1['accent']\n",
    "X_train, X_test, y_train, y_test = train_test_split(X, y, test_size=0.3, random_state=101)\n"
   ]
  },
  {
   "cell_type": "code",
   "execution_count": 9,
   "metadata": {},
   "outputs": [],
   "source": [
    "X_train=df1.drop(['accent'], axis=1)\n",
    "y_train=df1['accent']\n",
    "X_test=df2.drop(['accent'], axis=1)\n",
    "y_test=df2['accent']"
   ]
  },
  {
   "cell_type": "code",
   "execution_count": 10,
   "metadata": {},
   "outputs": [],
   "source": [
    "scaler = StandardScaler()\n",
    "scaler.fit(X_train)\n",
    "X_train = scaler.transform(X_train)\n",
    "X_test = scaler.transform(X_test)"
   ]
  },
  {
   "cell_type": "markdown",
   "metadata": {},
   "source": [
    "# KNN ACCENT"
   ]
  },
  {
   "cell_type": "code",
   "execution_count": 43,
   "metadata": {},
   "outputs": [
    {
     "data": {
      "text/plain": [
       "KNeighborsClassifier(algorithm='auto', leaf_size=30, metric='minkowski',\n",
       "                     metric_params=None, n_jobs=None, n_neighbors=4, p=2,\n",
       "                     weights='distance')"
      ]
     },
     "execution_count": 43,
     "metadata": {},
     "output_type": "execute_result"
    }
   ],
   "source": [
    "model = KNeighborsClassifier(n_neighbors=4,weights='distance')\n",
    "model.fit(X_train, y_train)"
   ]
  },
  {
   "cell_type": "code",
   "execution_count": 53,
   "metadata": {},
   "outputs": [],
   "source": [
    "prediction = model.predict(X_test)"
   ]
  },
  {
   "cell_type": "code",
   "execution_count": 54,
   "metadata": {},
   "outputs": [
    {
     "name": "stdout",
     "output_type": "stream",
     "text": [
      "96.05911330049261\n",
      "                precision    recall  f1-score   support\n",
      "\n",
      "       african       1.00      0.96      0.98        24\n",
      "     australia       0.95      0.97      0.96        93\n",
      "       bermuda       1.00      1.00      1.00         3\n",
      "        canada       0.98      0.93      0.95       102\n",
      "      hongkong       1.00      1.00      1.00         4\n",
      "        indian       0.95      0.96      0.95        91\n",
      "       ireland       0.96      1.00      0.98        22\n",
      "      malaysia       1.00      1.00      1.00         3\n",
      "    newzealand       0.94      1.00      0.97        16\n",
      "   philippines       1.00      0.88      0.93         8\n",
      "      scotland       0.94      1.00      0.97        31\n",
      "     singapore       1.00      1.00      1.00         1\n",
      "southatlandtic       1.00      1.00      1.00         2\n",
      "         wales       1.00      1.00      1.00         6\n",
      "\n",
      "      accuracy                           0.96       406\n",
      "     macro avg       0.98      0.98      0.98       406\n",
      "  weighted avg       0.96      0.96      0.96       406\n",
      "\n"
     ]
    }
   ],
   "source": [
    "print(metrics.accuracy_score(prediction, y_test) * 100)\n",
    "#print(confusion_matrix(y_test, prediction))\n",
    "print(classification_report(y_test, prediction))"
   ]
  },
  {
   "cell_type": "code",
   "execution_count": 57,
   "metadata": {},
   "outputs": [
    {
     "data": {
      "text/plain": [
       "['KNN-MODEL-ACCENT.sav']"
      ]
     },
     "execution_count": 57,
     "metadata": {},
     "output_type": "execute_result"
    }
   ],
   "source": [
    "filename = 'KNN-MODEL-ACCENT.sav'\n",
    "joblib.dump(classifier, filename)"
   ]
  },
  {
   "cell_type": "markdown",
   "metadata": {},
   "source": [
    "# LOGISTIC REGRESSION ACCENT"
   ]
  },
  {
   "cell_type": "code",
   "execution_count": 58,
   "metadata": {},
   "outputs": [
    {
     "name": "stderr",
     "output_type": "stream",
     "text": [
      "/home/arnav/anaconda3/lib/python3.7/site-packages/sklearn/linear_model/logistic.py:433: FutureWarning: Default solver will be changed to 'lbfgs' in 0.22. Specify a solver to silence this warning.\n",
      "  FutureWarning)\n",
      "/home/arnav/anaconda3/lib/python3.7/site-packages/sklearn/linear_model/logistic.py:460: FutureWarning: Default multi_class will be changed to 'auto' in 0.22. Specify the multi_class option to silence this warning.\n",
      "  \"this warning.\", FutureWarning)\n"
     ]
    },
    {
     "data": {
      "text/plain": [
       "LogisticRegression(C=1.0, class_weight=None, dual=False, fit_intercept=True,\n",
       "          intercept_scaling=1, max_iter=100, multi_class='warn',\n",
       "          n_jobs=None, penalty='l2', random_state=None, solver='warn',\n",
       "          tol=0.0001, verbose=0, warm_start=False)"
      ]
     },
     "execution_count": 58,
     "metadata": {},
     "output_type": "execute_result"
    }
   ],
   "source": [
    "model1 = LogisticRegression()\n",
    "model1.fit(X_train, y_train)"
   ]
  },
  {
   "cell_type": "code",
   "execution_count": 59,
   "metadata": {},
   "outputs": [],
   "source": [
    "prediction = model1.predict(X_test)"
   ]
  },
  {
   "cell_type": "code",
   "execution_count": 60,
   "metadata": {},
   "outputs": [
    {
     "name": "stdout",
     "output_type": "stream",
     "text": [
      "48.05680119581465\n"
     ]
    }
   ],
   "source": [
    "print(metrics.accuracy_score(prediction, y_test) * 100)\n",
    "#print(confusion_matrix(y_test, prediction))\n",
    "#print(classification_report(y_test, prediction))"
   ]
  },
  {
   "cell_type": "code",
   "execution_count": 61,
   "metadata": {},
   "outputs": [
    {
     "data": {
      "text/plain": [
       "['LOG-MODEL-ACCENT.sav']"
      ]
     },
     "execution_count": 61,
     "metadata": {},
     "output_type": "execute_result"
    }
   ],
   "source": [
    "filename = 'LOG-MODEL-ACCENT.sav'\n",
    "joblib.dump(model1, filename)"
   ]
  },
  {
   "cell_type": "markdown",
   "metadata": {},
   "source": [
    "# SVM ACCENT"
   ]
  },
  {
   "cell_type": "markdown",
   "metadata": {},
   "source": [
    "#### gamma"
   ]
  },
  {
   "cell_type": "code",
   "execution_count": 11,
   "metadata": {},
   "outputs": [
    {
     "name": "stderr",
     "output_type": "stream",
     "text": [
      "/home/arnav/anaconda3/lib/python3.7/site-packages/sklearn/model_selection/_split.py:2053: FutureWarning: You should specify a value for 'cv' instead of relying on the default value. The default value will change from 3 to 5 in version 0.22.\n",
      "  warnings.warn(CV_WARNING, FutureWarning)\n",
      "[Parallel(n_jobs=1)]: Using backend SequentialBackend with 1 concurrent workers.\n"
     ]
    },
    {
     "name": "stdout",
     "output_type": "stream",
     "text": [
      "Fitting 3 folds for each of 60 candidates, totalling 180 fits\n",
      "[CV] C=10, gamma=0.1, kernel=rbf .....................................\n",
      "[CV]  C=10, gamma=0.1, kernel=rbf, score=0.9289591315453385, total=  34.5s\n",
      "[CV] C=10, gamma=0.1, kernel=rbf .....................................\n"
     ]
    },
    {
     "name": "stderr",
     "output_type": "stream",
     "text": [
      "[Parallel(n_jobs=1)]: Done   1 out of   1 | elapsed:   51.5s remaining:    0.0s\n"
     ]
    },
    {
     "name": "stdout",
     "output_type": "stream",
     "text": [
      "[CV]  C=10, gamma=0.1, kernel=rbf, score=0.9255472120146988, total=  33.0s\n",
      "[CV] C=10, gamma=0.1, kernel=rbf .....................................\n"
     ]
    },
    {
     "name": "stderr",
     "output_type": "stream",
     "text": [
      "[Parallel(n_jobs=1)]: Done   2 out of   2 | elapsed:  1.7min remaining:    0.0s\n"
     ]
    },
    {
     "name": "stdout",
     "output_type": "stream",
     "text": [
      "[CV]  C=10, gamma=0.1, kernel=rbf, score=0.9341116264193188, total=  33.1s\n",
      "[CV] C=10, gamma=0.2, kernel=rbf .....................................\n",
      "[CV]  C=10, gamma=0.2, kernel=rbf, score=0.9115581098339719, total= 1.2min\n",
      "[CV] C=10, gamma=0.2, kernel=rbf .....................................\n",
      "[CV]  C=10, gamma=0.2, kernel=rbf, score=0.9049368908771369, total= 1.2min\n",
      "[CV] C=10, gamma=0.2, kernel=rbf .....................................\n",
      "[CV]  C=10, gamma=0.2, kernel=rbf, score=0.9122021429713737, total= 1.2min\n",
      "[CV] C=10, gamma=0.3, kernel=rbf .....................................\n",
      "[CV]  C=10, gamma=0.3, kernel=rbf, score=0.8542464878671775, total= 1.3min\n",
      "[CV] C=10, gamma=0.3, kernel=rbf .....................................\n",
      "[CV]  C=10, gamma=0.3, kernel=rbf, score=0.850455344304202, total= 1.3min\n",
      "[CV] C=10, gamma=0.3, kernel=rbf .....................................\n",
      "[CV]  C=10, gamma=0.3, kernel=rbf, score=0.8611866304173996, total= 1.3min\n",
      "[CV] C=10, gamma=0.4, kernel=rbf .....................................\n",
      "[CV]  C=10, gamma=0.4, kernel=rbf, score=0.770434227330779, total= 1.4min\n",
      "[CV] C=10, gamma=0.4, kernel=rbf .....................................\n",
      "[CV]  C=10, gamma=0.4, kernel=rbf, score=0.7796772647387762, total= 1.4min\n",
      "[CV] C=10, gamma=0.4, kernel=rbf .....................................\n",
      "[CV]  C=10, gamma=0.4, kernel=rbf, score=0.7852230929154006, total= 1.4min\n",
      "[CV] C=10, gamma=0.5, kernel=rbf .....................................\n",
      "[CV]  C=10, gamma=0.5, kernel=rbf, score=0.6931673052362708, total= 1.4min\n",
      "[CV] C=10, gamma=0.5, kernel=rbf .....................................\n",
      "[CV]  C=10, gamma=0.5, kernel=rbf, score=0.6957980508068381, total= 1.4min\n",
      "[CV] C=10, gamma=0.5, kernel=rbf .....................................\n",
      "[CV]  C=10, gamma=0.5, kernel=rbf, score=0.7043019350711658, total= 1.4min\n",
      "[CV] C=20, gamma=0.1, kernel=rbf .....................................\n",
      "[CV]  C=20, gamma=0.1, kernel=rbf, score=0.928639846743295, total=  33.0s\n",
      "[CV] C=20, gamma=0.1, kernel=rbf .....................................\n",
      "[CV]  C=20, gamma=0.1, kernel=rbf, score=0.9249081322895031, total=  32.8s\n",
      "[CV] C=20, gamma=0.1, kernel=rbf .....................................\n",
      "[CV]  C=20, gamma=0.1, kernel=rbf, score=0.932672317287702, total=  33.0s\n",
      "[CV] C=20, gamma=0.2, kernel=rbf .....................................\n",
      "[CV]  C=20, gamma=0.2, kernel=rbf, score=0.9115581098339719, total= 1.2min\n",
      "[CV] C=20, gamma=0.2, kernel=rbf .....................................\n",
      "[CV]  C=20, gamma=0.2, kernel=rbf, score=0.9049368908771369, total= 1.2min\n",
      "[CV] C=20, gamma=0.2, kernel=rbf .....................................\n",
      "[CV]  C=20, gamma=0.2, kernel=rbf, score=0.9122021429713737, total= 1.2min\n",
      "[CV] C=20, gamma=0.3, kernel=rbf .....................................\n",
      "[CV]  C=20, gamma=0.3, kernel=rbf, score=0.8542464878671775, total= 1.3min\n",
      "[CV] C=20, gamma=0.3, kernel=rbf .....................................\n",
      "[CV]  C=20, gamma=0.3, kernel=rbf, score=0.850455344304202, total= 1.3min\n",
      "[CV] C=20, gamma=0.3, kernel=rbf .....................................\n",
      "[CV]  C=20, gamma=0.3, kernel=rbf, score=0.8611866304173996, total= 1.3min\n",
      "[CV] C=20, gamma=0.4, kernel=rbf .....................................\n",
      "[CV]  C=20, gamma=0.4, kernel=rbf, score=0.770434227330779, total= 1.4min\n",
      "[CV] C=20, gamma=0.4, kernel=rbf .....................................\n",
      "[CV]  C=20, gamma=0.4, kernel=rbf, score=0.7796772647387762, total= 1.4min\n",
      "[CV] C=20, gamma=0.4, kernel=rbf .....................................\n",
      "[CV]  C=20, gamma=0.4, kernel=rbf, score=0.7852230929154006, total= 1.4min\n",
      "[CV] C=20, gamma=0.5, kernel=rbf .....................................\n",
      "[CV]  C=20, gamma=0.5, kernel=rbf, score=0.6931673052362708, total= 1.4min\n",
      "[CV] C=20, gamma=0.5, kernel=rbf .....................................\n",
      "[CV]  C=20, gamma=0.5, kernel=rbf, score=0.6957980508068381, total= 1.4min\n",
      "[CV] C=20, gamma=0.5, kernel=rbf .....................................\n",
      "[CV]  C=20, gamma=0.5, kernel=rbf, score=0.7043019350711658, total= 1.4min\n",
      "[CV] C=30, gamma=0.1, kernel=rbf .....................................\n",
      "[CV]  C=30, gamma=0.1, kernel=rbf, score=0.928639846743295, total=  35.2s\n",
      "[CV] C=30, gamma=0.1, kernel=rbf .....................................\n",
      "[CV]  C=30, gamma=0.1, kernel=rbf, score=0.9249081322895031, total=  33.6s\n",
      "[CV] C=30, gamma=0.1, kernel=rbf .....................................\n",
      "[CV]  C=30, gamma=0.1, kernel=rbf, score=0.932672317287702, total=  35.8s\n",
      "[CV] C=30, gamma=0.2, kernel=rbf .....................................\n",
      "[CV]  C=30, gamma=0.2, kernel=rbf, score=0.9115581098339719, total= 1.2min\n",
      "[CV] C=30, gamma=0.2, kernel=rbf .....................................\n",
      "[CV]  C=30, gamma=0.2, kernel=rbf, score=0.9049368908771369, total= 1.2min\n",
      "[CV] C=30, gamma=0.2, kernel=rbf .....................................\n",
      "[CV]  C=30, gamma=0.2, kernel=rbf, score=0.9122021429713737, total= 1.2min\n",
      "[CV] C=30, gamma=0.3, kernel=rbf .....................................\n",
      "[CV]  C=30, gamma=0.3, kernel=rbf, score=0.8542464878671775, total= 1.3min\n",
      "[CV] C=30, gamma=0.3, kernel=rbf .....................................\n",
      "[CV]  C=30, gamma=0.3, kernel=rbf, score=0.850455344304202, total= 1.3min\n",
      "[CV] C=30, gamma=0.3, kernel=rbf .....................................\n",
      "[CV]  C=30, gamma=0.3, kernel=rbf, score=0.8611866304173996, total= 1.3min\n",
      "[CV] C=30, gamma=0.4, kernel=rbf .....................................\n",
      "[CV]  C=30, gamma=0.4, kernel=rbf, score=0.770434227330779, total= 1.4min\n",
      "[CV] C=30, gamma=0.4, kernel=rbf .....................................\n",
      "[CV]  C=30, gamma=0.4, kernel=rbf, score=0.7796772647387762, total= 1.4min\n",
      "[CV] C=30, gamma=0.4, kernel=rbf .....................................\n",
      "[CV]  C=30, gamma=0.4, kernel=rbf, score=0.7852230929154006, total= 1.4min\n",
      "[CV] C=30, gamma=0.5, kernel=rbf .....................................\n",
      "[CV]  C=30, gamma=0.5, kernel=rbf, score=0.6931673052362708, total= 1.4min\n",
      "[CV] C=30, gamma=0.5, kernel=rbf .....................................\n",
      "[CV]  C=30, gamma=0.5, kernel=rbf, score=0.6957980508068381, total= 1.4min\n",
      "[CV] C=30, gamma=0.5, kernel=rbf .....................................\n",
      "[CV]  C=30, gamma=0.5, kernel=rbf, score=0.7043019350711658, total= 1.4min\n",
      "[CV] C=40, gamma=0.1, kernel=rbf .....................................\n",
      "[CV]  C=40, gamma=0.1, kernel=rbf, score=0.928639846743295, total=  33.1s\n",
      "[CV] C=40, gamma=0.1, kernel=rbf .....................................\n",
      "[CV]  C=40, gamma=0.1, kernel=rbf, score=0.9249081322895031, total=  32.8s\n",
      "[CV] C=40, gamma=0.1, kernel=rbf .....................................\n",
      "[CV]  C=40, gamma=0.1, kernel=rbf, score=0.932672317287702, total=  33.4s\n",
      "[CV] C=40, gamma=0.2, kernel=rbf .....................................\n",
      "[CV]  C=40, gamma=0.2, kernel=rbf, score=0.9115581098339719, total= 1.2min\n",
      "[CV] C=40, gamma=0.2, kernel=rbf .....................................\n",
      "[CV]  C=40, gamma=0.2, kernel=rbf, score=0.9049368908771369, total= 1.2min\n",
      "[CV] C=40, gamma=0.2, kernel=rbf .....................................\n",
      "[CV]  C=40, gamma=0.2, kernel=rbf, score=0.9122021429713737, total= 1.2min\n",
      "[CV] C=40, gamma=0.3, kernel=rbf .....................................\n",
      "[CV]  C=40, gamma=0.3, kernel=rbf, score=0.8542464878671775, total= 1.4min\n",
      "[CV] C=40, gamma=0.3, kernel=rbf .....................................\n",
      "[CV]  C=40, gamma=0.3, kernel=rbf, score=0.850455344304202, total= 1.5min\n",
      "[CV] C=40, gamma=0.3, kernel=rbf .....................................\n",
      "[CV]  C=40, gamma=0.3, kernel=rbf, score=0.8611866304173996, total= 1.5min\n",
      "[CV] C=40, gamma=0.4, kernel=rbf .....................................\n",
      "[CV]  C=40, gamma=0.4, kernel=rbf, score=0.770434227330779, total= 1.6min\n",
      "[CV] C=40, gamma=0.4, kernel=rbf .....................................\n",
      "[CV]  C=40, gamma=0.4, kernel=rbf, score=0.7796772647387762, total= 1.6min\n",
      "[CV] C=40, gamma=0.4, kernel=rbf .....................................\n",
      "[CV]  C=40, gamma=0.4, kernel=rbf, score=0.7852230929154006, total= 1.6min\n",
      "[CV] C=40, gamma=0.5, kernel=rbf .....................................\n",
      "[CV]  C=40, gamma=0.5, kernel=rbf, score=0.6931673052362708, total= 1.6min\n",
      "[CV] C=40, gamma=0.5, kernel=rbf .....................................\n",
      "[CV]  C=40, gamma=0.5, kernel=rbf, score=0.6957980508068381, total= 1.7min\n",
      "[CV] C=40, gamma=0.5, kernel=rbf .....................................\n"
     ]
    },
    {
     "name": "stdout",
     "output_type": "stream",
     "text": [
      "[CV]  C=40, gamma=0.5, kernel=rbf, score=0.7043019350711658, total= 1.6min\n",
      "[CV] C=50, gamma=0.1, kernel=rbf .....................................\n",
      "[CV]  C=50, gamma=0.1, kernel=rbf, score=0.928639846743295, total=  38.4s\n",
      "[CV] C=50, gamma=0.1, kernel=rbf .....................................\n",
      "[CV]  C=50, gamma=0.1, kernel=rbf, score=0.9249081322895031, total=  38.2s\n",
      "[CV] C=50, gamma=0.1, kernel=rbf .....................................\n",
      "[CV]  C=50, gamma=0.1, kernel=rbf, score=0.932672317287702, total=  38.4s\n",
      "[CV] C=50, gamma=0.2, kernel=rbf .....................................\n",
      "[CV]  C=50, gamma=0.2, kernel=rbf, score=0.9115581098339719, total= 1.4min\n",
      "[CV] C=50, gamma=0.2, kernel=rbf .....................................\n",
      "[CV]  C=50, gamma=0.2, kernel=rbf, score=0.9049368908771369, total= 1.4min\n",
      "[CV] C=50, gamma=0.2, kernel=rbf .....................................\n",
      "[CV]  C=50, gamma=0.2, kernel=rbf, score=0.9122021429713737, total= 1.4min\n",
      "[CV] C=50, gamma=0.3, kernel=rbf .....................................\n",
      "[CV]  C=50, gamma=0.3, kernel=rbf, score=0.8542464878671775, total= 1.6min\n",
      "[CV] C=50, gamma=0.3, kernel=rbf .....................................\n",
      "[CV]  C=50, gamma=0.3, kernel=rbf, score=0.850455344304202, total= 1.5min\n",
      "[CV] C=50, gamma=0.3, kernel=rbf .....................................\n",
      "[CV]  C=50, gamma=0.3, kernel=rbf, score=0.8611866304173996, total= 1.6min\n",
      "[CV] C=50, gamma=0.4, kernel=rbf .....................................\n",
      "[CV]  C=50, gamma=0.4, kernel=rbf, score=0.770434227330779, total= 1.6min\n",
      "[CV] C=50, gamma=0.4, kernel=rbf .....................................\n",
      "[CV]  C=50, gamma=0.4, kernel=rbf, score=0.7796772647387762, total= 1.6min\n",
      "[CV] C=50, gamma=0.4, kernel=rbf .....................................\n",
      "[CV]  C=50, gamma=0.4, kernel=rbf, score=0.7852230929154006, total= 1.6min\n",
      "[CV] C=50, gamma=0.5, kernel=rbf .....................................\n",
      "[CV]  C=50, gamma=0.5, kernel=rbf, score=0.6931673052362708, total= 1.6min\n",
      "[CV] C=50, gamma=0.5, kernel=rbf .....................................\n",
      "[CV]  C=50, gamma=0.5, kernel=rbf, score=0.6957980508068381, total= 1.6min\n",
      "[CV] C=50, gamma=0.5, kernel=rbf .....................................\n",
      "[CV]  C=50, gamma=0.5, kernel=rbf, score=0.7043019350711658, total= 1.6min\n",
      "[CV] C=60, gamma=0.1, kernel=rbf .....................................\n",
      "[CV]  C=60, gamma=0.1, kernel=rbf, score=0.928639846743295, total=  38.5s\n",
      "[CV] C=60, gamma=0.1, kernel=rbf .....................................\n",
      "[CV]  C=60, gamma=0.1, kernel=rbf, score=0.9249081322895031, total=  38.4s\n",
      "[CV] C=60, gamma=0.1, kernel=rbf .....................................\n",
      "[CV]  C=60, gamma=0.1, kernel=rbf, score=0.932672317287702, total=  38.5s\n",
      "[CV] C=60, gamma=0.2, kernel=rbf .....................................\n",
      "[CV]  C=60, gamma=0.2, kernel=rbf, score=0.9115581098339719, total= 1.4min\n",
      "[CV] C=60, gamma=0.2, kernel=rbf .....................................\n",
      "[CV]  C=60, gamma=0.2, kernel=rbf, score=0.9049368908771369, total= 1.4min\n",
      "[CV] C=60, gamma=0.2, kernel=rbf .....................................\n",
      "[CV]  C=60, gamma=0.2, kernel=rbf, score=0.9122021429713737, total= 1.4min\n",
      "[CV] C=60, gamma=0.3, kernel=rbf .....................................\n",
      "[CV]  C=60, gamma=0.3, kernel=rbf, score=0.8542464878671775, total= 1.6min\n",
      "[CV] C=60, gamma=0.3, kernel=rbf .....................................\n",
      "[CV]  C=60, gamma=0.3, kernel=rbf, score=0.850455344304202, total= 1.5min\n",
      "[CV] C=60, gamma=0.3, kernel=rbf .....................................\n",
      "[CV]  C=60, gamma=0.3, kernel=rbf, score=0.8611866304173996, total= 1.6min\n",
      "[CV] C=60, gamma=0.4, kernel=rbf .....................................\n",
      "[CV]  C=60, gamma=0.4, kernel=rbf, score=0.770434227330779, total= 1.6min\n",
      "[CV] C=60, gamma=0.4, kernel=rbf .....................................\n",
      "[CV]  C=60, gamma=0.4, kernel=rbf, score=0.7796772647387762, total= 1.6min\n",
      "[CV] C=60, gamma=0.4, kernel=rbf .....................................\n",
      "[CV]  C=60, gamma=0.4, kernel=rbf, score=0.7852230929154006, total= 1.6min\n",
      "[CV] C=60, gamma=0.5, kernel=rbf .....................................\n",
      "[CV]  C=60, gamma=0.5, kernel=rbf, score=0.6931673052362708, total= 1.6min\n",
      "[CV] C=60, gamma=0.5, kernel=rbf .....................................\n",
      "[CV]  C=60, gamma=0.5, kernel=rbf, score=0.6957980508068381, total= 1.4min\n",
      "[CV] C=60, gamma=0.5, kernel=rbf .....................................\n",
      "[CV]  C=60, gamma=0.5, kernel=rbf, score=0.7043019350711658, total= 1.4min\n",
      "[CV] C=70, gamma=0.1, kernel=rbf .....................................\n",
      "[CV]  C=70, gamma=0.1, kernel=rbf, score=0.928639846743295, total=  33.4s\n",
      "[CV] C=70, gamma=0.1, kernel=rbf .....................................\n",
      "[CV]  C=70, gamma=0.1, kernel=rbf, score=0.9249081322895031, total=  32.7s\n",
      "[CV] C=70, gamma=0.1, kernel=rbf .....................................\n",
      "[CV]  C=70, gamma=0.1, kernel=rbf, score=0.932672317287702, total=  32.9s\n",
      "[CV] C=70, gamma=0.2, kernel=rbf .....................................\n",
      "[CV]  C=70, gamma=0.2, kernel=rbf, score=0.9115581098339719, total= 1.2min\n",
      "[CV] C=70, gamma=0.2, kernel=rbf .....................................\n",
      "[CV]  C=70, gamma=0.2, kernel=rbf, score=0.9049368908771369, total= 1.2min\n",
      "[CV] C=70, gamma=0.2, kernel=rbf .....................................\n",
      "[CV]  C=70, gamma=0.2, kernel=rbf, score=0.9122021429713737, total= 1.2min\n",
      "[CV] C=70, gamma=0.3, kernel=rbf .....................................\n",
      "[CV]  C=70, gamma=0.3, kernel=rbf, score=0.8542464878671775, total= 1.3min\n",
      "[CV] C=70, gamma=0.3, kernel=rbf .....................................\n",
      "[CV]  C=70, gamma=0.3, kernel=rbf, score=0.850455344304202, total= 1.3min\n",
      "[CV] C=70, gamma=0.3, kernel=rbf .....................................\n",
      "[CV]  C=70, gamma=0.3, kernel=rbf, score=0.8611866304173996, total= 1.3min\n",
      "[CV] C=70, gamma=0.4, kernel=rbf .....................................\n",
      "[CV]  C=70, gamma=0.4, kernel=rbf, score=0.770434227330779, total= 1.4min\n",
      "[CV] C=70, gamma=0.4, kernel=rbf .....................................\n",
      "[CV]  C=70, gamma=0.4, kernel=rbf, score=0.7796772647387762, total= 1.4min\n",
      "[CV] C=70, gamma=0.4, kernel=rbf .....................................\n",
      "[CV]  C=70, gamma=0.4, kernel=rbf, score=0.7852230929154006, total= 1.4min\n",
      "[CV] C=70, gamma=0.5, kernel=rbf .....................................\n",
      "[CV]  C=70, gamma=0.5, kernel=rbf, score=0.6931673052362708, total= 1.4min\n",
      "[CV] C=70, gamma=0.5, kernel=rbf .....................................\n",
      "[CV]  C=70, gamma=0.5, kernel=rbf, score=0.6957980508068381, total= 1.4min\n",
      "[CV] C=70, gamma=0.5, kernel=rbf .....................................\n",
      "[CV]  C=70, gamma=0.5, kernel=rbf, score=0.7043019350711658, total= 1.4min\n",
      "[CV] C=80, gamma=0.1, kernel=rbf .....................................\n",
      "[CV]  C=80, gamma=0.1, kernel=rbf, score=0.928639846743295, total=  33.1s\n",
      "[CV] C=80, gamma=0.1, kernel=rbf .....................................\n",
      "[CV]  C=80, gamma=0.1, kernel=rbf, score=0.9249081322895031, total=  33.2s\n",
      "[CV] C=80, gamma=0.1, kernel=rbf .....................................\n",
      "[CV]  C=80, gamma=0.1, kernel=rbf, score=0.932672317287702, total=  32.9s\n",
      "[CV] C=80, gamma=0.2, kernel=rbf .....................................\n",
      "[CV]  C=80, gamma=0.2, kernel=rbf, score=0.9115581098339719, total= 1.2min\n",
      "[CV] C=80, gamma=0.2, kernel=rbf .....................................\n",
      "[CV]  C=80, gamma=0.2, kernel=rbf, score=0.9049368908771369, total= 1.2min\n",
      "[CV] C=80, gamma=0.2, kernel=rbf .....................................\n",
      "[CV]  C=80, gamma=0.2, kernel=rbf, score=0.9122021429713737, total= 1.2min\n",
      "[CV] C=80, gamma=0.3, kernel=rbf .....................................\n",
      "[CV]  C=80, gamma=0.3, kernel=rbf, score=0.8542464878671775, total= 1.3min\n",
      "[CV] C=80, gamma=0.3, kernel=rbf .....................................\n",
      "[CV]  C=80, gamma=0.3, kernel=rbf, score=0.850455344304202, total= 1.3min\n",
      "[CV] C=80, gamma=0.3, kernel=rbf .....................................\n",
      "[CV]  C=80, gamma=0.3, kernel=rbf, score=0.8611866304173996, total= 1.3min\n",
      "[CV] C=80, gamma=0.4, kernel=rbf .....................................\n",
      "[CV]  C=80, gamma=0.4, kernel=rbf, score=0.770434227330779, total= 1.4min\n",
      "[CV] C=80, gamma=0.4, kernel=rbf .....................................\n",
      "[CV]  C=80, gamma=0.4, kernel=rbf, score=0.7796772647387762, total= 1.4min\n",
      "[CV] C=80, gamma=0.4, kernel=rbf .....................................\n"
     ]
    },
    {
     "name": "stdout",
     "output_type": "stream",
     "text": [
      "[CV]  C=80, gamma=0.4, kernel=rbf, score=0.7852230929154006, total= 1.4min\n",
      "[CV] C=80, gamma=0.5, kernel=rbf .....................................\n",
      "[CV]  C=80, gamma=0.5, kernel=rbf, score=0.6931673052362708, total= 1.4min\n",
      "[CV] C=80, gamma=0.5, kernel=rbf .....................................\n",
      "[CV]  C=80, gamma=0.5, kernel=rbf, score=0.6957980508068381, total= 1.4min\n",
      "[CV] C=80, gamma=0.5, kernel=rbf .....................................\n",
      "[CV]  C=80, gamma=0.5, kernel=rbf, score=0.7043019350711658, total= 1.4min\n",
      "[CV] C=90, gamma=0.1, kernel=rbf .....................................\n",
      "[CV]  C=90, gamma=0.1, kernel=rbf, score=0.928639846743295, total=  32.9s\n",
      "[CV] C=90, gamma=0.1, kernel=rbf .....................................\n",
      "[CV]  C=90, gamma=0.1, kernel=rbf, score=0.9249081322895031, total=  32.7s\n",
      "[CV] C=90, gamma=0.1, kernel=rbf .....................................\n",
      "[CV]  C=90, gamma=0.1, kernel=rbf, score=0.932672317287702, total=  33.3s\n",
      "[CV] C=90, gamma=0.2, kernel=rbf .....................................\n",
      "[CV]  C=90, gamma=0.2, kernel=rbf, score=0.9115581098339719, total= 1.2min\n",
      "[CV] C=90, gamma=0.2, kernel=rbf .....................................\n",
      "[CV]  C=90, gamma=0.2, kernel=rbf, score=0.9049368908771369, total= 1.2min\n",
      "[CV] C=90, gamma=0.2, kernel=rbf .....................................\n",
      "[CV]  C=90, gamma=0.2, kernel=rbf, score=0.9122021429713737, total= 1.2min\n",
      "[CV] C=90, gamma=0.3, kernel=rbf .....................................\n",
      "[CV]  C=90, gamma=0.3, kernel=rbf, score=0.8542464878671775, total= 1.3min\n",
      "[CV] C=90, gamma=0.3, kernel=rbf .....................................\n",
      "[CV]  C=90, gamma=0.3, kernel=rbf, score=0.850455344304202, total= 1.3min\n",
      "[CV] C=90, gamma=0.3, kernel=rbf .....................................\n",
      "[CV]  C=90, gamma=0.3, kernel=rbf, score=0.8611866304173996, total= 1.3min\n",
      "[CV] C=90, gamma=0.4, kernel=rbf .....................................\n",
      "[CV]  C=90, gamma=0.4, kernel=rbf, score=0.770434227330779, total= 1.4min\n",
      "[CV] C=90, gamma=0.4, kernel=rbf .....................................\n",
      "[CV]  C=90, gamma=0.4, kernel=rbf, score=0.7796772647387762, total= 1.4min\n",
      "[CV] C=90, gamma=0.4, kernel=rbf .....................................\n",
      "[CV]  C=90, gamma=0.4, kernel=rbf, score=0.7852230929154006, total= 1.4min\n",
      "[CV] C=90, gamma=0.5, kernel=rbf .....................................\n",
      "[CV]  C=90, gamma=0.5, kernel=rbf, score=0.6931673052362708, total= 1.4min\n",
      "[CV] C=90, gamma=0.5, kernel=rbf .....................................\n",
      "[CV]  C=90, gamma=0.5, kernel=rbf, score=0.6957980508068381, total= 1.4min\n",
      "[CV] C=90, gamma=0.5, kernel=rbf .....................................\n",
      "[CV]  C=90, gamma=0.5, kernel=rbf, score=0.7043019350711658, total= 1.4min\n",
      "[CV] C=100, gamma=0.1, kernel=rbf ....................................\n",
      "[CV]  C=100, gamma=0.1, kernel=rbf, score=0.928639846743295, total=  33.0s\n",
      "[CV] C=100, gamma=0.1, kernel=rbf ....................................\n",
      "[CV]  C=100, gamma=0.1, kernel=rbf, score=0.9249081322895031, total=  32.8s\n",
      "[CV] C=100, gamma=0.1, kernel=rbf ....................................\n",
      "[CV]  C=100, gamma=0.1, kernel=rbf, score=0.932672317287702, total=  32.9s\n",
      "[CV] C=100, gamma=0.2, kernel=rbf ....................................\n",
      "[CV]  C=100, gamma=0.2, kernel=rbf, score=0.9115581098339719, total= 1.2min\n",
      "[CV] C=100, gamma=0.2, kernel=rbf ....................................\n",
      "[CV]  C=100, gamma=0.2, kernel=rbf, score=0.9049368908771369, total= 1.2min\n",
      "[CV] C=100, gamma=0.2, kernel=rbf ....................................\n",
      "[CV]  C=100, gamma=0.2, kernel=rbf, score=0.9122021429713737, total= 1.2min\n",
      "[CV] C=100, gamma=0.3, kernel=rbf ....................................\n",
      "[CV]  C=100, gamma=0.3, kernel=rbf, score=0.8542464878671775, total= 1.3min\n",
      "[CV] C=100, gamma=0.3, kernel=rbf ....................................\n",
      "[CV]  C=100, gamma=0.3, kernel=rbf, score=0.850455344304202, total= 1.3min\n",
      "[CV] C=100, gamma=0.3, kernel=rbf ....................................\n",
      "[CV]  C=100, gamma=0.3, kernel=rbf, score=0.8611866304173996, total= 1.3min\n",
      "[CV] C=100, gamma=0.4, kernel=rbf ....................................\n",
      "[CV]  C=100, gamma=0.4, kernel=rbf, score=0.770434227330779, total= 1.4min\n",
      "[CV] C=100, gamma=0.4, kernel=rbf ....................................\n",
      "[CV]  C=100, gamma=0.4, kernel=rbf, score=0.7796772647387762, total= 1.4min\n",
      "[CV] C=100, gamma=0.4, kernel=rbf ....................................\n",
      "[CV]  C=100, gamma=0.4, kernel=rbf, score=0.7852230929154006, total= 1.4min\n",
      "[CV] C=100, gamma=0.5, kernel=rbf ....................................\n",
      "[CV]  C=100, gamma=0.5, kernel=rbf, score=0.6931673052362708, total= 1.4min\n",
      "[CV] C=100, gamma=0.5, kernel=rbf ....................................\n",
      "[CV]  C=100, gamma=0.5, kernel=rbf, score=0.6957980508068381, total= 1.4min\n",
      "[CV] C=100, gamma=0.5, kernel=rbf ....................................\n",
      "[CV]  C=100, gamma=0.5, kernel=rbf, score=0.7043019350711658, total= 1.4min\n",
      "[CV] C=110, gamma=0.1, kernel=rbf ....................................\n",
      "[CV]  C=110, gamma=0.1, kernel=rbf, score=0.928639846743295, total=  33.0s\n",
      "[CV] C=110, gamma=0.1, kernel=rbf ....................................\n",
      "[CV]  C=110, gamma=0.1, kernel=rbf, score=0.9249081322895031, total=  33.0s\n",
      "[CV] C=110, gamma=0.1, kernel=rbf ....................................\n",
      "[CV]  C=110, gamma=0.1, kernel=rbf, score=0.932672317287702, total=  33.0s\n",
      "[CV] C=110, gamma=0.2, kernel=rbf ....................................\n",
      "[CV]  C=110, gamma=0.2, kernel=rbf, score=0.9115581098339719, total= 1.2min\n",
      "[CV] C=110, gamma=0.2, kernel=rbf ....................................\n",
      "[CV]  C=110, gamma=0.2, kernel=rbf, score=0.9049368908771369, total= 1.2min\n",
      "[CV] C=110, gamma=0.2, kernel=rbf ....................................\n",
      "[CV]  C=110, gamma=0.2, kernel=rbf, score=0.9122021429713737, total= 1.2min\n",
      "[CV] C=110, gamma=0.3, kernel=rbf ....................................\n",
      "[CV]  C=110, gamma=0.3, kernel=rbf, score=0.8542464878671775, total= 1.3min\n",
      "[CV] C=110, gamma=0.3, kernel=rbf ....................................\n",
      "[CV]  C=110, gamma=0.3, kernel=rbf, score=0.850455344304202, total= 1.3min\n",
      "[CV] C=110, gamma=0.3, kernel=rbf ....................................\n",
      "[CV]  C=110, gamma=0.3, kernel=rbf, score=0.8611866304173996, total= 1.3min\n",
      "[CV] C=110, gamma=0.4, kernel=rbf ....................................\n",
      "[CV]  C=110, gamma=0.4, kernel=rbf, score=0.770434227330779, total= 1.4min\n",
      "[CV] C=110, gamma=0.4, kernel=rbf ....................................\n",
      "[CV]  C=110, gamma=0.4, kernel=rbf, score=0.7796772647387762, total= 1.4min\n",
      "[CV] C=110, gamma=0.4, kernel=rbf ....................................\n",
      "[CV]  C=110, gamma=0.4, kernel=rbf, score=0.7852230929154006, total= 1.4min\n",
      "[CV] C=110, gamma=0.5, kernel=rbf ....................................\n",
      "[CV]  C=110, gamma=0.5, kernel=rbf, score=0.6931673052362708, total= 1.4min\n",
      "[CV] C=110, gamma=0.5, kernel=rbf ....................................\n",
      "[CV]  C=110, gamma=0.5, kernel=rbf, score=0.6957980508068381, total= 1.4min\n",
      "[CV] C=110, gamma=0.5, kernel=rbf ....................................\n",
      "[CV]  C=110, gamma=0.5, kernel=rbf, score=0.7043019350711658, total= 1.4min\n",
      "[CV] C=120, gamma=0.1, kernel=rbf ....................................\n",
      "[CV]  C=120, gamma=0.1, kernel=rbf, score=0.928639846743295, total=  33.1s\n",
      "[CV] C=120, gamma=0.1, kernel=rbf ....................................\n",
      "[CV]  C=120, gamma=0.1, kernel=rbf, score=0.9249081322895031, total=  32.8s\n",
      "[CV] C=120, gamma=0.1, kernel=rbf ....................................\n",
      "[CV]  C=120, gamma=0.1, kernel=rbf, score=0.932672317287702, total=  33.1s\n",
      "[CV] C=120, gamma=0.2, kernel=rbf ....................................\n",
      "[CV]  C=120, gamma=0.2, kernel=rbf, score=0.9115581098339719, total= 1.2min\n",
      "[CV] C=120, gamma=0.2, kernel=rbf ....................................\n",
      "[CV]  C=120, gamma=0.2, kernel=rbf, score=0.9049368908771369, total= 1.4min\n",
      "[CV] C=120, gamma=0.2, kernel=rbf ....................................\n",
      "[CV]  C=120, gamma=0.2, kernel=rbf, score=0.9122021429713737, total= 1.4min\n",
      "[CV] C=120, gamma=0.3, kernel=rbf ....................................\n",
      "[CV]  C=120, gamma=0.3, kernel=rbf, score=0.8542464878671775, total= 1.6min\n",
      "[CV] C=120, gamma=0.3, kernel=rbf ....................................\n"
     ]
    },
    {
     "name": "stdout",
     "output_type": "stream",
     "text": [
      "[CV]  C=120, gamma=0.3, kernel=rbf, score=0.850455344304202, total= 1.6min\n",
      "[CV] C=120, gamma=0.3, kernel=rbf ....................................\n",
      "[CV]  C=120, gamma=0.3, kernel=rbf, score=0.8611866304173996, total= 1.6min\n",
      "[CV] C=120, gamma=0.4, kernel=rbf ....................................\n",
      "[CV]  C=120, gamma=0.4, kernel=rbf, score=0.770434227330779, total= 1.6min\n",
      "[CV] C=120, gamma=0.4, kernel=rbf ....................................\n",
      "[CV]  C=120, gamma=0.4, kernel=rbf, score=0.7796772647387762, total= 1.7min\n",
      "[CV] C=120, gamma=0.4, kernel=rbf ....................................\n",
      "[CV]  C=120, gamma=0.4, kernel=rbf, score=0.7852230929154006, total= 1.7min\n",
      "[CV] C=120, gamma=0.5, kernel=rbf ....................................\n",
      "[CV]  C=120, gamma=0.5, kernel=rbf, score=0.6931673052362708, total= 1.6min\n",
      "[CV] C=120, gamma=0.5, kernel=rbf ....................................\n",
      "[CV]  C=120, gamma=0.5, kernel=rbf, score=0.6957980508068381, total= 1.7min\n",
      "[CV] C=120, gamma=0.5, kernel=rbf ....................................\n",
      "[CV]  C=120, gamma=0.5, kernel=rbf, score=0.7043019350711658, total= 1.5min\n"
     ]
    },
    {
     "name": "stderr",
     "output_type": "stream",
     "text": [
      "[Parallel(n_jobs=1)]: Done 180 out of 180 | elapsed: 280.2min finished\n"
     ]
    }
   ],
   "source": [
    "param_grid = {'C': [10,20,30,40,50,60,70,80,90, 100,110,120], 'gamma': [0.1,0.2,0.3,0.4,0.5], 'kernel': ['rbf']} \n",
    "from sklearn.model_selection import GridSearchCV\n",
    "grid = GridSearchCV(SVC(),param_grid,refit=True,verbose=3)\n",
    "# May take awhile!\n",
    "grid.fit(X_train,y_train)\n",
    "\n",
    "grid.best_estimator_\n",
    "grid_predictions = grid.predict(X_test)"
   ]
  },
  {
   "cell_type": "code",
   "execution_count": 12,
   "metadata": {},
   "outputs": [
    {
     "data": {
      "text/plain": [
       "{'C': 10, 'gamma': 0.1, 'kernel': 'rbf'}"
      ]
     },
     "execution_count": 12,
     "metadata": {},
     "output_type": "execute_result"
    }
   ],
   "source": [
    "grid.best_params_"
   ]
  },
  {
   "cell_type": "code",
   "execution_count": 13,
   "metadata": {},
   "outputs": [
    {
     "data": {
      "text/plain": [
       "SVC(C=10, cache_size=200, class_weight=None, coef0=0.0,\n",
       "  decision_function_shape='ovr', degree=3, gamma=0.1, kernel='rbf',\n",
       "  max_iter=-1, probability=False, random_state=None, shrinking=True,\n",
       "  tol=0.001, verbose=False)"
      ]
     },
     "execution_count": 13,
     "metadata": {},
     "output_type": "execute_result"
    }
   ],
   "source": [
    "grid.best_estimator_"
   ]
  },
  {
   "cell_type": "code",
   "execution_count": 14,
   "metadata": {},
   "outputs": [
    {
     "name": "stderr",
     "output_type": "stream",
     "text": [
      "/home/arnav/anaconda3/lib/python3.7/site-packages/sklearn/model_selection/_split.py:2053: FutureWarning: You should specify a value for 'cv' instead of relying on the default value. The default value will change from 3 to 5 in version 0.22.\n",
      "  warnings.warn(CV_WARNING, FutureWarning)\n"
     ]
    },
    {
     "name": "stdout",
     "output_type": "stream",
     "text": [
      "Fitting 3 folds for each of 11 candidates, totalling 33 fits\n",
      "[CV] C=5, gamma=0.1, kernel=rbf ......................................\n"
     ]
    },
    {
     "name": "stderr",
     "output_type": "stream",
     "text": [
      "[Parallel(n_jobs=1)]: Using backend SequentialBackend with 1 concurrent workers.\n"
     ]
    },
    {
     "name": "stdout",
     "output_type": "stream",
     "text": [
      "[CV]  C=5, gamma=0.1, kernel=rbf, score=0.9291187739463601, total=  37.1s\n",
      "[CV] C=5, gamma=0.1, kernel=rbf ......................................\n"
     ]
    },
    {
     "name": "stderr",
     "output_type": "stream",
     "text": [
      "[Parallel(n_jobs=1)]: Done   1 out of   1 | elapsed:   54.1s remaining:    0.0s\n"
     ]
    },
    {
     "name": "stdout",
     "output_type": "stream",
     "text": [
      "[CV]  C=5, gamma=0.1, kernel=rbf, score=0.9289023805719764, total=  33.3s\n",
      "[CV] C=5, gamma=0.1, kernel=rbf ......................................\n"
     ]
    },
    {
     "name": "stderr",
     "output_type": "stream",
     "text": [
      "[Parallel(n_jobs=1)]: Done   2 out of   2 | elapsed:  1.7min remaining:    0.0s\n"
     ]
    },
    {
     "name": "stdout",
     "output_type": "stream",
     "text": [
      "[CV]  C=5, gamma=0.1, kernel=rbf, score=0.9333120102350871, total=  33.6s\n",
      "[CV] C=6, gamma=0.1, kernel=rbf ......................................\n",
      "[CV]  C=6, gamma=0.1, kernel=rbf, score=0.9292784163473818, total=  38.9s\n",
      "[CV] C=6, gamma=0.1, kernel=rbf ......................................\n",
      "[CV]  C=6, gamma=0.1, kernel=rbf, score=0.927304681258987, total=  39.0s\n",
      "[CV] C=6, gamma=0.1, kernel=rbf ......................................\n",
      "[CV]  C=6, gamma=0.1, kernel=rbf, score=0.934271549656165, total=  38.5s\n",
      "[CV] C=7, gamma=0.1, kernel=rbf ......................................\n",
      "[CV]  C=7, gamma=0.1, kernel=rbf, score=0.9289591315453385, total=  44.5s\n",
      "[CV] C=7, gamma=0.1, kernel=rbf ......................................\n",
      "[CV]  C=7, gamma=0.1, kernel=rbf, score=0.9269851413963892, total=  38.2s\n",
      "[CV] C=7, gamma=0.1, kernel=rbf ......................................\n",
      "[CV]  C=7, gamma=0.1, kernel=rbf, score=0.934271549656165, total=  39.1s\n",
      "[CV] C=8, gamma=0.1, kernel=rbf ......................................\n",
      "[CV]  C=8, gamma=0.1, kernel=rbf, score=0.928639846743295, total=  38.3s\n",
      "[CV] C=8, gamma=0.1, kernel=rbf ......................................\n",
      "[CV]  C=8, gamma=0.1, kernel=rbf, score=0.9261862917398945, total=  38.9s\n",
      "[CV] C=8, gamma=0.1, kernel=rbf ......................................\n",
      "[CV]  C=8, gamma=0.1, kernel=rbf, score=0.9339517031824724, total=  38.4s\n",
      "[CV] C=9, gamma=0.1, kernel=rbf ......................................\n",
      "[CV]  C=9, gamma=0.1, kernel=rbf, score=0.928639846743295, total=  39.8s\n",
      "[CV] C=9, gamma=0.1, kernel=rbf ......................................\n",
      "[CV]  C=9, gamma=0.1, kernel=rbf, score=0.9258667518772967, total=  38.8s\n",
      "[CV] C=9, gamma=0.1, kernel=rbf ......................................\n",
      "[CV]  C=9, gamma=0.1, kernel=rbf, score=0.9339517031824724, total=  38.4s\n",
      "[CV] C=10, gamma=0.1, kernel=rbf .....................................\n",
      "[CV]  C=10, gamma=0.1, kernel=rbf, score=0.9289591315453385, total=  38.3s\n",
      "[CV] C=10, gamma=0.1, kernel=rbf .....................................\n",
      "[CV]  C=10, gamma=0.1, kernel=rbf, score=0.9255472120146988, total=  37.2s\n",
      "[CV] C=10, gamma=0.1, kernel=rbf .....................................\n",
      "[CV]  C=10, gamma=0.1, kernel=rbf, score=0.9341116264193188, total=  39.5s\n",
      "[CV] C=11, gamma=0.1, kernel=rbf .....................................\n",
      "[CV]  C=11, gamma=0.1, kernel=rbf, score=0.9289591315453385, total=  39.4s\n",
      "[CV] C=11, gamma=0.1, kernel=rbf .....................................\n",
      "[CV]  C=11, gamma=0.1, kernel=rbf, score=0.9249081322895031, total=  37.4s\n",
      "[CV] C=11, gamma=0.1, kernel=rbf .....................................\n",
      "[CV]  C=11, gamma=0.1, kernel=rbf, score=0.9337917799456261, total=  37.9s\n",
      "[CV] C=12, gamma=0.1, kernel=rbf .....................................\n",
      "[CV]  C=12, gamma=0.1, kernel=rbf, score=0.9287994891443168, total=  37.7s\n",
      "[CV] C=12, gamma=0.1, kernel=rbf .....................................\n",
      "[CV]  C=12, gamma=0.1, kernel=rbf, score=0.925227672152101, total=  37.6s\n",
      "[CV] C=12, gamma=0.1, kernel=rbf .....................................\n",
      "[CV]  C=12, gamma=0.1, kernel=rbf, score=0.9333120102350871, total=  39.2s\n",
      "[CV] C=13, gamma=0.1, kernel=rbf .....................................\n",
      "[CV]  C=13, gamma=0.1, kernel=rbf, score=0.9287994891443168, total=  38.4s\n",
      "[CV] C=13, gamma=0.1, kernel=rbf .....................................\n",
      "[CV]  C=13, gamma=0.1, kernel=rbf, score=0.9249081322895031, total=  37.9s\n",
      "[CV] C=13, gamma=0.1, kernel=rbf .....................................\n",
      "[CV]  C=13, gamma=0.1, kernel=rbf, score=0.9329921637613945, total=  38.3s\n",
      "[CV] C=14, gamma=0.1, kernel=rbf .....................................\n",
      "[CV]  C=14, gamma=0.1, kernel=rbf, score=0.9287994891443168, total=  39.1s\n",
      "[CV] C=14, gamma=0.1, kernel=rbf .....................................\n",
      "[CV]  C=14, gamma=0.1, kernel=rbf, score=0.9249081322895031, total=  38.6s\n",
      "[CV] C=14, gamma=0.1, kernel=rbf .....................................\n",
      "[CV]  C=14, gamma=0.1, kernel=rbf, score=0.9329921637613945, total=  38.6s\n",
      "[CV] C=15, gamma=0.1, kernel=rbf .....................................\n",
      "[CV]  C=15, gamma=0.1, kernel=rbf, score=0.9287994891443168, total=  39.0s\n",
      "[CV] C=15, gamma=0.1, kernel=rbf .....................................\n",
      "[CV]  C=15, gamma=0.1, kernel=rbf, score=0.9249081322895031, total=  38.6s\n",
      "[CV] C=15, gamma=0.1, kernel=rbf .....................................\n",
      "[CV]  C=15, gamma=0.1, kernel=rbf, score=0.932672317287702, total=  39.3s\n"
     ]
    },
    {
     "name": "stderr",
     "output_type": "stream",
     "text": [
      "[Parallel(n_jobs=1)]: Done  33 out of  33 | elapsed: 31.2min finished\n"
     ]
    }
   ],
   "source": [
    "param_grid = {'C': [5,6,7,8,9,10,11,12,13,14,15], 'gamma': [0.1], 'kernel': ['rbf']} \n",
    "from sklearn.model_selection import GridSearchCV\n",
    "grid = GridSearchCV(SVC(),param_grid,refit=True,verbose=3)\n",
    "# May take awhile!\n",
    "grid.fit(X_train,y_train)\n",
    "\n",
    "grid.best_estimator_\n",
    "grid_predictions = grid.predict(X_test)"
   ]
  },
  {
   "cell_type": "code",
   "execution_count": 15,
   "metadata": {},
   "outputs": [
    {
     "data": {
      "text/plain": [
       "{'C': 5, 'gamma': 0.1, 'kernel': 'rbf'}"
      ]
     },
     "execution_count": 15,
     "metadata": {},
     "output_type": "execute_result"
    }
   ],
   "source": [
    "grid.best_params_"
   ]
  },
  {
   "cell_type": "code",
   "execution_count": 16,
   "metadata": {},
   "outputs": [
    {
     "data": {
      "text/plain": [
       "SVC(C=5, cache_size=200, class_weight=None, coef0=0.0,\n",
       "  decision_function_shape='ovr', degree=3, gamma=0.1, kernel='rbf',\n",
       "  max_iter=-1, probability=False, random_state=None, shrinking=True,\n",
       "  tol=0.001, verbose=False)"
      ]
     },
     "execution_count": 16,
     "metadata": {},
     "output_type": "execute_result"
    }
   ],
   "source": [
    "grid.best_estimator_"
   ]
  },
  {
   "cell_type": "markdown",
   "metadata": {},
   "source": [
    "### TEST SVM FOR ACCENT"
   ]
  },
  {
   "cell_type": "code",
   "execution_count": 11,
   "metadata": {},
   "outputs": [
    {
     "data": {
      "text/plain": [
       "SVC(C=5, gamma=0.1)"
      ]
     },
     "execution_count": 11,
     "metadata": {},
     "output_type": "execute_result"
    }
   ],
   "source": [
    "model = svm.SVC(kernel='rbf',gamma=0.1,C=5)\n",
    "model.fit(X_train, y_train)"
   ]
  },
  {
   "cell_type": "code",
   "execution_count": 12,
   "metadata": {},
   "outputs": [],
   "source": [
    "prediction = model.predict(X_test)"
   ]
  },
  {
   "cell_type": "code",
   "execution_count": 13,
   "metadata": {},
   "outputs": [
    {
     "name": "stdout",
     "output_type": "stream",
     "text": [
      "94.82758620689656\n",
      "                precision    recall  f1-score   support\n",
      "\n",
      "       african       0.96      0.92      0.94        24\n",
      "     australia       0.93      0.98      0.95        93\n",
      "       bermuda       1.00      1.00      1.00         3\n",
      "        canada       0.96      0.91      0.93       102\n",
      "      hongkong       1.00      0.75      0.86         4\n",
      "        indian       0.93      0.95      0.94        91\n",
      "       ireland       1.00      1.00      1.00        22\n",
      "      malaysia       1.00      1.00      1.00         3\n",
      "    newzealand       0.94      1.00      0.97        16\n",
      "   philippines       0.88      0.88      0.88         8\n",
      "      scotland       0.97      0.97      0.97        31\n",
      "     singapore       1.00      1.00      1.00         1\n",
      "southatlandtic       1.00      1.00      1.00         2\n",
      "         wales       1.00      1.00      1.00         6\n",
      "\n",
      "      accuracy                           0.95       406\n",
      "     macro avg       0.97      0.95      0.96       406\n",
      "  weighted avg       0.95      0.95      0.95       406\n",
      "\n"
     ]
    }
   ],
   "source": [
    "print(metrics.accuracy_score(prediction, y_test) * 100)\n",
    "#print(confusion_matrix(y_test, prediction))\n",
    "print(classification_report(y_test, prediction))"
   ]
  },
  {
   "cell_type": "code",
   "execution_count": 20,
   "metadata": {},
   "outputs": [
    {
     "data": {
      "text/plain": [
       "['SVM-MODEL-ACCENT.sav']"
      ]
     },
     "execution_count": 20,
     "metadata": {},
     "output_type": "execute_result"
    }
   ],
   "source": [
    "filename = 'SVM-MODEL-ACCENT.sav'\n",
    "joblib.dump(model, filename)"
   ]
  },
  {
   "cell_type": "markdown",
   "metadata": {},
   "source": [
    "## Random Forest"
   ]
  },
  {
   "cell_type": "code",
   "execution_count": 54,
   "metadata": {},
   "outputs": [],
   "source": [
    "from sklearn.ensemble import RandomForestClassifier"
   ]
  },
  {
   "cell_type": "code",
   "execution_count": 82,
   "metadata": {},
   "outputs": [],
   "source": [
    "rfc = RandomForestClassifier(n_estimators=1000)"
   ]
  },
  {
   "cell_type": "code",
   "execution_count": 83,
   "metadata": {},
   "outputs": [
    {
     "data": {
      "text/plain": [
       "RandomForestClassifier(bootstrap=True, class_weight=None, criterion='gini',\n",
       "            max_depth=None, max_features='auto', max_leaf_nodes=None,\n",
       "            min_impurity_decrease=0.0, min_impurity_split=None,\n",
       "            min_samples_leaf=1, min_samples_split=2,\n",
       "            min_weight_fraction_leaf=0.0, n_estimators=1000, n_jobs=None,\n",
       "            oob_score=False, random_state=None, verbose=0,\n",
       "            warm_start=False)"
      ]
     },
     "execution_count": 83,
     "metadata": {},
     "output_type": "execute_result"
    }
   ],
   "source": [
    "rfc.fit(X_train,y_train)"
   ]
  },
  {
   "cell_type": "code",
   "execution_count": 95,
   "metadata": {},
   "outputs": [],
   "source": [
    "predictions = rfc.predict(X_test)"
   ]
  },
  {
   "cell_type": "code",
   "execution_count": 97,
   "metadata": {},
   "outputs": [
    {
     "name": "stdout",
     "output_type": "stream",
     "text": [
      "25.93423019431988\n",
      "                precision    recall  f1-score   support\n",
      "\n",
      "       african       0.89      0.71      0.79        24\n",
      "     australia       0.20      0.88      0.33        93\n",
      "       bermuda       0.25      0.33      0.29         3\n",
      "        canada       0.24      0.84      0.37       102\n",
      "       england       0.00      0.00      0.00       299\n",
      "      hongkong       1.00      0.50      0.67         4\n",
      "        indian       0.21      0.95      0.34        91\n",
      "       ireland       0.77      0.77      0.77        22\n",
      "      malaysia       1.00      0.67      0.80         3\n",
      "    newzealand       0.40      0.88      0.55        16\n",
      "   philippines       1.00      0.62      0.77         8\n",
      "      scotland       0.51      0.94      0.66        31\n",
      "     singapore       0.00      0.00      0.00         1\n",
      "southatlandtic       1.00      1.00      1.00         2\n",
      "            us       0.00      0.00      0.00       633\n",
      "         wales       0.57      0.67      0.62         6\n",
      "\n",
      "     micro avg       0.26      0.26      0.26      1338\n",
      "     macro avg       0.50      0.61      0.50      1338\n",
      "  weighted avg       0.11      0.26      0.14      1338\n",
      "\n"
     ]
    },
    {
     "name": "stderr",
     "output_type": "stream",
     "text": [
      "/home/arnav/anaconda3/lib/python3.7/site-packages/sklearn/metrics/classification.py:1143: UndefinedMetricWarning: Precision and F-score are ill-defined and being set to 0.0 in labels with no predicted samples.\n",
      "  'precision', 'predicted', average, warn_for)\n",
      "/home/arnav/anaconda3/lib/python3.7/site-packages/sklearn/metrics/classification.py:1143: UndefinedMetricWarning: Precision and F-score are ill-defined and being set to 0.0 in labels with no predicted samples.\n",
      "  'precision', 'predicted', average, warn_for)\n",
      "/home/arnav/anaconda3/lib/python3.7/site-packages/sklearn/metrics/classification.py:1143: UndefinedMetricWarning: Precision and F-score are ill-defined and being set to 0.0 in labels with no predicted samples.\n",
      "  'precision', 'predicted', average, warn_for)\n"
     ]
    }
   ],
   "source": [
    "print(metrics.accuracy_score(predictions, y_test) * 100)\n",
    "#print(confusion_matrix(y_test, prediction))\n",
    "print(classification_report(y_test, predictions))"
   ]
  },
  {
   "cell_type": "markdown",
   "metadata": {},
   "source": [
    "## GENDER PREPROCESSING"
   ]
  },
  {
   "cell_type": "code",
   "execution_count": 63,
   "metadata": {},
   "outputs": [],
   "source": [
    "X_train=df2.drop(['gender'], axis=1)\n",
    "y_train=df2['gender']\n",
    "X_test=df2.drop(['gender'], axis=1)\n",
    "y_test=df2['gender']"
   ]
  },
  {
   "cell_type": "code",
   "execution_count": 64,
   "metadata": {},
   "outputs": [],
   "source": [
    "scaler = StandardScaler()\n",
    "scaler.fit(X_train)\n",
    "X_train = scaler.transform(X_train)\n",
    "X_test = scaler.transform(X_test)"
   ]
  },
  {
   "cell_type": "markdown",
   "metadata": {},
   "source": [
    "# SVM GENDER"
   ]
  },
  {
   "cell_type": "markdown",
   "metadata": {},
   "source": [
    "### GAMMA"
   ]
  },
  {
   "cell_type": "code",
   "execution_count": null,
   "metadata": {},
   "outputs": [
    {
     "name": "stderr",
     "output_type": "stream",
     "text": [
      "/home/arnav/anaconda3/lib/python3.7/site-packages/sklearn/model_selection/_split.py:2053: FutureWarning: You should specify a value for 'cv' instead of relying on the default value. The default value will change from 3 to 5 in version 0.22.\n",
      "  warnings.warn(CV_WARNING, FutureWarning)\n",
      "[Parallel(n_jobs=1)]: Using backend SequentialBackend with 1 concurrent workers.\n"
     ]
    },
    {
     "name": "stdout",
     "output_type": "stream",
     "text": [
      "Fitting 3 folds for each of 25 candidates, totalling 75 fits\n",
      "[CV] C=0.1, gamma=1, kernel=rbf ......................................\n",
      "[CV]  C=0.1, gamma=1, kernel=rbf, score=0.7471132840944554, total= 1.8min\n",
      "[CV] C=0.1, gamma=1, kernel=rbf ......................................\n"
     ]
    },
    {
     "name": "stderr",
     "output_type": "stream",
     "text": [
      "[Parallel(n_jobs=1)]: Done   1 out of   1 | elapsed:  2.2min remaining:    0.0s\n"
     ]
    },
    {
     "name": "stdout",
     "output_type": "stream",
     "text": [
      "[CV]  C=0.1, gamma=1, kernel=rbf, score=0.7472687545520758, total= 1.7min\n",
      "[CV] C=0.1, gamma=1, kernel=rbf ......................................\n"
     ]
    },
    {
     "name": "stderr",
     "output_type": "stream",
     "text": [
      "[Parallel(n_jobs=1)]: Done   2 out of   2 | elapsed:  4.3min remaining:    0.0s\n"
     ]
    },
    {
     "name": "stdout",
     "output_type": "stream",
     "text": [
      "[CV]  C=0.1, gamma=1, kernel=rbf, score=0.7472424557752342, total= 1.7min\n",
      "[CV] C=0.1, gamma=0.1, kernel=rbf ....................................\n",
      "[CV]  C=0.1, gamma=0.1, kernel=rbf, score=0.9174035160719859, total=  17.5s\n",
      "[CV] C=0.1, gamma=0.1, kernel=rbf ....................................\n",
      "[CV]  C=0.1, gamma=0.1, kernel=rbf, score=0.9152013318073041, total=  17.4s\n",
      "[CV] C=0.1, gamma=0.1, kernel=rbf ....................................\n",
      "[CV]  C=0.1, gamma=0.1, kernel=rbf, score=0.9167533818938606, total=  17.6s\n",
      "[CV] C=0.1, gamma=0.01, kernel=rbf ...................................\n",
      "[CV]  C=0.1, gamma=0.01, kernel=rbf, score=0.888692395714137, total=  16.7s\n",
      "[CV] C=0.1, gamma=0.01, kernel=rbf ...................................\n",
      "[CV]  C=0.1, gamma=0.01, kernel=rbf, score=0.8847154302361877, total=  16.7s\n",
      "[CV] C=0.1, gamma=0.01, kernel=rbf ...................................\n",
      "[CV]  C=0.1, gamma=0.01, kernel=rbf, score=0.877315296566077, total=  16.9s\n",
      "[CV] C=0.1, gamma=0.001, kernel=rbf ..................................\n",
      "[CV]  C=0.1, gamma=0.001, kernel=rbf, score=0.843857276604598, total=  21.9s\n",
      "[CV] C=0.1, gamma=0.001, kernel=rbf ..................................\n",
      "[CV]  C=0.1, gamma=0.001, kernel=rbf, score=0.8444490687753615, total=  21.9s\n",
      "[CV] C=0.1, gamma=0.001, kernel=rbf ..................................\n",
      "[CV]  C=0.1, gamma=0.001, kernel=rbf, score=0.8379812695109261, total=  21.9s\n",
      "[CV] C=0.1, gamma=0.0001, kernel=rbf .................................\n",
      "[CV]  C=0.1, gamma=0.0001, kernel=rbf, score=0.7471132840944554, total=  24.0s\n",
      "[CV] C=0.1, gamma=0.0001, kernel=rbf .................................\n",
      "[CV]  C=0.1, gamma=0.0001, kernel=rbf, score=0.7472687545520758, total=  23.6s\n",
      "[CV] C=0.1, gamma=0.0001, kernel=rbf .................................\n",
      "[CV]  C=0.1, gamma=0.0001, kernel=rbf, score=0.7472424557752342, total=  23.4s\n",
      "[CV] C=1, gamma=1, kernel=rbf ........................................\n",
      "[CV]  C=1, gamma=1, kernel=rbf, score=0.7623010506605639, total= 2.5min\n",
      "[CV] C=1, gamma=1, kernel=rbf ........................................\n"
     ]
    }
   ],
   "source": [
    "param_grid = {'C': [0.1,1, 10, 100, 1000], 'gamma': [1,0.1,0.01,0.001,0.0001], 'kernel': ['rbf','poly','linear','sigmoid']} \n",
    "from sklearn.model_selection import GridSearchCV\n",
    "grid = GridSearchCV(SVC(),param_grid,refit=True,verbose=3)\n",
    "# May take awhile!\n",
    "grid.fit(X_train,y_train)\n",
    "\n",
    "grid.best_estimator_\n",
    "grid_predictions = grid.predict(X_test)"
   ]
  },
  {
   "cell_type": "markdown",
   "metadata": {},
   "source": [
    "### TEST SVM FOR GENDER"
   ]
  },
  {
   "cell_type": "code",
   "execution_count": 11,
   "metadata": {},
   "outputs": [
    {
     "data": {
      "text/plain": [
       "SVC(C=0.1, cache_size=200, class_weight=None, coef0=0.0,\n",
       "  decision_function_shape='ovr', degree=3, gamma=0.1, kernel='rbf',\n",
       "  max_iter=-1, probability=False, random_state=None, shrinking=True,\n",
       "  tol=0.001, verbose=False)"
      ]
     },
     "execution_count": 11,
     "metadata": {},
     "output_type": "execute_result"
    }
   ],
   "source": [
    "model = svm.SVC(kernel='rbf',gamma=0.1,C=0.1)\n",
    "model.fit(X_train, y_train)"
   ]
  },
  {
   "cell_type": "code",
   "execution_count": 12,
   "metadata": {},
   "outputs": [],
   "source": [
    "prediction = model.predict(X_test)"
   ]
  },
  {
   "cell_type": "code",
   "execution_count": 13,
   "metadata": {},
   "outputs": [
    {
     "name": "stdout",
     "output_type": "stream",
     "text": [
      "91.73419773095624\n",
      "              precision    recall  f1-score   support\n",
      "\n",
      "      female       0.94      0.76      0.84       166\n",
      "        male       0.91      0.98      0.95       448\n",
      "       other       0.00      0.00      0.00         3\n",
      "\n",
      "   micro avg       0.92      0.92      0.92       617\n",
      "   macro avg       0.62      0.58      0.60       617\n",
      "weighted avg       0.91      0.92      0.91       617\n",
      "\n"
     ]
    },
    {
     "name": "stderr",
     "output_type": "stream",
     "text": [
      "/home/arnav/anaconda3/lib/python3.7/site-packages/sklearn/metrics/classification.py:1143: UndefinedMetricWarning: Precision and F-score are ill-defined and being set to 0.0 in labels with no predicted samples.\n",
      "  'precision', 'predicted', average, warn_for)\n",
      "/home/arnav/anaconda3/lib/python3.7/site-packages/sklearn/metrics/classification.py:1143: UndefinedMetricWarning: Precision and F-score are ill-defined and being set to 0.0 in labels with no predicted samples.\n",
      "  'precision', 'predicted', average, warn_for)\n",
      "/home/arnav/anaconda3/lib/python3.7/site-packages/sklearn/metrics/classification.py:1143: UndefinedMetricWarning: Precision and F-score are ill-defined and being set to 0.0 in labels with no predicted samples.\n",
      "  'precision', 'predicted', average, warn_for)\n"
     ]
    }
   ],
   "source": [
    "print(metrics.accuracy_score(prediction, y_test) * 100)\n",
    "#print(confusion_matrix(y_test, prediction))\n",
    "print(classification_report(y_test, prediction))"
   ]
  },
  {
   "cell_type": "code",
   "execution_count": 18,
   "metadata": {},
   "outputs": [
    {
     "data": {
      "text/plain": [
       "['SVM-MODEL-ACCENT.sav']"
      ]
     },
     "execution_count": 18,
     "metadata": {},
     "output_type": "execute_result"
    }
   ],
   "source": [
    "filename = 'SVM-MODEL-GENDER.sav'\n",
    "joblib.dump(model, filename)"
   ]
  },
  {
   "cell_type": "markdown",
   "metadata": {},
   "source": [
    "## KNN GENDER"
   ]
  },
  {
   "cell_type": "code",
   "execution_count": 65,
   "metadata": {},
   "outputs": [
    {
     "data": {
      "text/plain": [
       "KNeighborsClassifier(algorithm='auto', leaf_size=30, metric='minkowski',\n",
       "                     metric_params=None, n_jobs=None, n_neighbors=4, p=2,\n",
       "                     weights='distance')"
      ]
     },
     "execution_count": 65,
     "metadata": {},
     "output_type": "execute_result"
    }
   ],
   "source": [
    "model = KNeighborsClassifier(n_neighbors=4,weights='distance')\n",
    "model.fit(X_train, y_train)"
   ]
  },
  {
   "cell_type": "code",
   "execution_count": 61,
   "metadata": {},
   "outputs": [],
   "source": [
    "prediction = model.predict(X_test)"
   ]
  },
  {
   "cell_type": "code",
   "execution_count": 62,
   "metadata": {},
   "outputs": [
    {
     "name": "stdout",
     "output_type": "stream",
     "text": [
      "98.05510534846029\n",
      "              precision    recall  f1-score   support\n",
      "\n",
      "      female       0.98      0.96      0.97       166\n",
      "        male       0.98      0.99      0.99       448\n",
      "       other       0.00      0.00      0.00         3\n",
      "\n",
      "    accuracy                           0.98       617\n",
      "   macro avg       0.65      0.65      0.65       617\n",
      "weighted avg       0.98      0.98      0.98       617\n",
      "\n"
     ]
    },
    {
     "name": "stderr",
     "output_type": "stream",
     "text": [
      "E:\\Anaconda3\\lib\\site-packages\\sklearn\\metrics\\_classification.py:1272: UndefinedMetricWarning: Precision and F-score are ill-defined and being set to 0.0 in labels with no predicted samples. Use `zero_division` parameter to control this behavior.\n",
      "  _warn_prf(average, modifier, msg_start, len(result))\n"
     ]
    }
   ],
   "source": [
    "print(metrics.accuracy_score(prediction, y_test) * 100)\n",
    "#print(confusion_matrix(y_test, prediction))\n",
    "print(classification_report(y_test, prediction))"
   ]
  },
  {
   "cell_type": "code",
   "execution_count": null,
   "metadata": {},
   "outputs": [],
   "source": []
  },
  {
   "cell_type": "code",
   "execution_count": null,
   "metadata": {},
   "outputs": [],
   "source": []
  },
  {
   "cell_type": "code",
   "execution_count": null,
   "metadata": {},
   "outputs": [],
   "source": []
  },
  {
   "cell_type": "code",
   "execution_count": null,
   "metadata": {},
   "outputs": [],
   "source": []
  },
  {
   "cell_type": "code",
   "execution_count": null,
   "metadata": {},
   "outputs": [],
   "source": []
  },
  {
   "cell_type": "code",
   "execution_count": null,
   "metadata": {},
   "outputs": [],
   "source": []
  },
  {
   "cell_type": "code",
   "execution_count": 14,
   "metadata": {},
   "outputs": [],
   "source": [
    "\n",
    "import numpy as np\n",
    "from sklearn import preprocessing\n",
    "from scipy.io.wavfile import read\n",
    "from python_speech_features import mfcc\n",
    "from python_speech_features import delta"
   ]
  },
  {
   "cell_type": "code",
   "execution_count": 20,
   "metadata": {},
   "outputs": [],
   "source": [
    "header = 'filename chroma_stft spectral_centroid spectral_bandwidth rolloff zero_crossing_rate'\n",
    "for i in range(1, 21):\n",
    "    header += f' mfcc{i}'\n",
    "header = header.split()"
   ]
  },
  {
   "cell_type": "code",
   "execution_count": 23,
   "metadata": {},
   "outputs": [
    {
     "name": "stderr",
     "output_type": "stream",
     "text": [
      "/home/arnav/anaconda3/lib/python3.7/site-packages/librosa/core/audio.py:161: UserWarning: PySoundFile failed. Trying audioread instead.\n",
      "  warnings.warn('PySoundFile failed. Trying audioread instead.')\n"
     ]
    },
    {
     "name": "stdout",
     "output_type": "stream",
     "text": [
      "done\n"
     ]
    }
   ],
   "source": [
    "file = open('datamaam1.csv', 'w', newline='')\n",
    "with file:\n",
    "    writer = csv.writer(file)\n",
    "    writer.writerow(header)\n",
    "\n",
    "name = f'voicemaam.mp3'\n",
    "y, sr = librosa.load(name, mono=True, duration=30)\n",
    "chroma_stft = librosa.feature.chroma_stft(y=y, sr=sr)\n",
    "spec_cent = librosa.feature.spectral_centroid(y=y, sr=sr)\n",
    "spec_bw = librosa.feature.spectral_bandwidth(y=y, sr=sr)\n",
    "rolloff = librosa.feature.spectral_rolloff(y=y, sr=sr)\n",
    "zcr = librosa.feature.zero_crossing_rate(y)\n",
    "mfcc = librosa.feature.mfcc(y=y, sr=sr)\n",
    "fn='done'\n",
    "to_append = f'{fn} {np.mean(chroma_stft)} {np.mean(spec_cent)} {np.mean(spec_bw)} {np.mean(rolloff)} {np.mean(zcr)}'    \n",
    "for e in mfcc:\n",
    "    to_append += f' {np.mean(e)}'\n",
    "    \n",
    "print(fn)\n",
    "file = open('datamaam1.csv', 'a', newline='')\n",
    "with file:\n",
    "    writer = csv.writer(file)\n",
    "    writer.writerow(to_append.split())"
   ]
  },
  {
   "cell_type": "markdown",
   "metadata": {},
   "source": [
    "### test"
   ]
  },
  {
   "cell_type": "code",
   "execution_count": 24,
   "metadata": {},
   "outputs": [],
   "source": [
    "a=pd.read_csv(\"datamaam.csv\")"
   ]
  },
  {
   "cell_type": "code",
   "execution_count": 25,
   "metadata": {},
   "outputs": [],
   "source": [
    "X_test=a.drop('filename',axis=1)"
   ]
  },
  {
   "cell_type": "code",
   "execution_count": 26,
   "metadata": {},
   "outputs": [],
   "source": [
    "X_test = scaler.transform(X_test)"
   ]
  },
  {
   "cell_type": "code",
   "execution_count": 27,
   "metadata": {},
   "outputs": [],
   "source": [
    "prediction = model.predict(X_test)"
   ]
  },
  {
   "cell_type": "code",
   "execution_count": 24,
   "metadata": {},
   "outputs": [
    {
     "data": {
      "text/plain": [
       "array(['female'], dtype=object)"
      ]
     },
     "execution_count": 24,
     "metadata": {},
     "output_type": "execute_result"
    }
   ],
   "source": [
    "prediction"
   ]
  },
  {
   "cell_type": "code",
   "execution_count": 28,
   "metadata": {},
   "outputs": [
    {
     "data": {
      "text/plain": [
       "array(['indian'], dtype=object)"
      ]
     },
     "execution_count": 28,
     "metadata": {},
     "output_type": "execute_result"
    }
   ],
   "source": [
    "prediction"
   ]
  },
  {
   "cell_type": "code",
   "execution_count": 40,
   "metadata": {},
   "outputs": [
    {
     "data": {
      "text/plain": [
       "array([20.])"
      ]
     },
     "execution_count": 40,
     "metadata": {},
     "output_type": "execute_result"
    }
   ],
   "source": [
    "prediction"
   ]
  },
  {
   "cell_type": "code",
   "execution_count": null,
   "metadata": {},
   "outputs": [],
   "source": []
  },
  {
   "cell_type": "markdown",
   "metadata": {},
   "source": [
    "### test2"
   ]
  },
  {
   "cell_type": "code",
   "execution_count": 71,
   "metadata": {},
   "outputs": [],
   "source": [
    "a=pd.read_csv(\"data1.csv\")"
   ]
  },
  {
   "cell_type": "code",
   "execution_count": 72,
   "metadata": {},
   "outputs": [],
   "source": [
    "X_test=a.drop('filename',axis=1)"
   ]
  },
  {
   "cell_type": "code",
   "execution_count": 73,
   "metadata": {},
   "outputs": [],
   "source": [
    "X_test = scaler.transform(X_test)"
   ]
  },
  {
   "cell_type": "code",
   "execution_count": 74,
   "metadata": {},
   "outputs": [],
   "source": [
    "prediction = model.predict(X_test)"
   ]
  },
  {
   "cell_type": "code",
   "execution_count": 75,
   "metadata": {},
   "outputs": [
    {
     "data": {
      "text/plain": [
       "array(['male'], dtype=object)"
      ]
     },
     "execution_count": 75,
     "metadata": {},
     "output_type": "execute_result"
    }
   ],
   "source": [
    "prediction"
   ]
  },
  {
   "cell_type": "code",
   "execution_count": 24,
   "metadata": {},
   "outputs": [
    {
     "data": {
      "text/plain": [
       "array(['australia'], dtype=object)"
      ]
     },
     "execution_count": 24,
     "metadata": {},
     "output_type": "execute_result"
    }
   ],
   "source": [
    "prediction"
   ]
  },
  {
   "cell_type": "code",
   "execution_count": 45,
   "metadata": {},
   "outputs": [
    {
     "data": {
      "text/plain": [
       "array([30.])"
      ]
     },
     "execution_count": 45,
     "metadata": {},
     "output_type": "execute_result"
    }
   ],
   "source": [
    "prediction"
   ]
  },
  {
   "cell_type": "code",
   "execution_count": null,
   "metadata": {},
   "outputs": [],
   "source": []
  }
 ],
 "metadata": {
  "kernelspec": {
   "display_name": "Python 3",
   "language": "python",
   "name": "python3"
  },
  "language_info": {
   "codemirror_mode": {
    "name": "ipython",
    "version": 3
   },
   "file_extension": ".py",
   "mimetype": "text/x-python",
   "name": "python",
   "nbconvert_exporter": "python",
   "pygments_lexer": "ipython3",
   "version": "3.7.6"
  }
 },
 "nbformat": 4,
 "nbformat_minor": 2
}
